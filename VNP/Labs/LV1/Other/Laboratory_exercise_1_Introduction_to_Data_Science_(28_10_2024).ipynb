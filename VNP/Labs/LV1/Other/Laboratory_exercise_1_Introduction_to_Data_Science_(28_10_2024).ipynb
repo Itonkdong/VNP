{
 "nbformat": 4,
 "nbformat_minor": 0,
 "metadata": {
  "colab": {
   "provenance": []
  },
  "kernelspec": {
   "name": "python3",
   "display_name": "Python 3 (ipykernel)",
   "language": "python"
  },
  "language_info": {
   "name": "python"
  }
 },
 "cells": [
  {
   "cell_type": "markdown",
   "source": [
    "# Requirements"
   ],
   "metadata": {
    "id": "fU3LwS741EZQ"
   }
  },
  {
   "cell_type": "code",
   "source": [
    "import numpy as np\n",
    "from selenium import webdriver\n",
    "from selenium.webdriver.common.by import By\n",
    "import pandas as pd"
   ],
   "metadata": {
    "id": "4aqZf-9e1aKt",
    "ExecuteTime": {
     "end_time": "2024-10-30T19:26:31.073337Z",
     "start_time": "2024-10-30T19:26:30.716616Z"
    }
   },
   "outputs": [],
   "execution_count": 2
  },
  {
   "cell_type": "markdown",
   "source": [
    "# Configuration"
   ],
   "metadata": {
    "id": "eVCAmQfy1rqh"
   }
  },
  {
   "cell_type": "code",
   "source": [
    "options = webdriver.ChromeOptions()\n",
    "# options.add_argument('--headless')\n",
    "options.add_argument('--no-sandbox')\n",
    "options.add_argument('--disable-dev-shm-usage')"
   ],
   "metadata": {
    "id": "wWzehF8809IJ",
    "ExecuteTime": {
     "end_time": "2024-10-30T18:48:53.650793Z",
     "start_time": "2024-10-30T18:48:53.645961Z"
    }
   },
   "outputs": [],
   "execution_count": 6
  },
  {
   "cell_type": "markdown",
   "source": [
    "# Simple Usage"
   ],
   "metadata": {
    "id": "3FU-fkTj1zEC"
   }
  },
  {
   "cell_type": "code",
   "source": [
    "# Initialize the webdriver.\n",
    "browser = webdriver.Chrome(options=options)"
   ],
   "metadata": {
    "id": "gGB1un_t10_N",
    "ExecuteTime": {
     "end_time": "2024-10-30T18:48:59.533434Z",
     "start_time": "2024-10-30T18:48:55.865369Z"
    }
   },
   "outputs": [],
   "execution_count": 7
  },
  {
   "cell_type": "code",
   "metadata": {
    "id": "8EYuaHWxa-wR",
    "ExecuteTime": {
     "end_time": "2024-10-30T18:49:04.173155Z",
     "start_time": "2024-10-30T18:49:03.144591Z"
    }
   },
   "source": [
    "# Navigate to a web page.\n",
    "browser.get('https://www.apple.com/mk/')"
   ],
   "outputs": [],
   "execution_count": 8
  },
  {
   "cell_type": "code",
   "source": [
    "# Print the page source code.\n",
    "print(browser.page_source)"
   ],
   "metadata": {
    "id": "HWnwzCye2Fq1",
    "ExecuteTime": {
     "end_time": "2024-10-30T18:49:10.076387Z",
     "start_time": "2024-10-30T18:49:09.996009Z"
    }
   },
   "outputs": [
    {
     "name": "stdout",
     "output_type": "stream",
     "text": [
      "<html xmlns=\"http://www.w3.org/1999/xhtml\" xml:lang=\"en-MK\" lang=\"en-MK\" prefix=\"og: http://ogp.me/ns#\" class=\"js no-touch progressive-image no-reduced-motion no-edge no-ie css-mask enhanced-xp desktop no-tablet windows no-android no-retina no-safari no-old-safari chrome no-firefox no-iphone no-ipad no-old-macos\" data-layout-name=\"evergreen\"><head>\n",
      "\t\n",
      "\n",
      "\n",
      "\n",
      "\n",
      "\n",
      "\n",
      "\n",
      "\n",
      "\n",
      "\n",
      "\n",
      "\n",
      "\n",
      "\n",
      "\n",
      "\n",
      "\n",
      "\n",
      "\n",
      "\n",
      "\n",
      "\n",
      "\n",
      "\n",
      "\n",
      "\n",
      "\n",
      "\n",
      "\n",
      "\n",
      "\n",
      "\n",
      "<meta charset=\"utf-8\">\n",
      "<link rel=\"canonical\" href=\"https://www.apple.com/mk/\">\n",
      "\n",
      "\n",
      "\t\n",
      "\t<link rel=\"alternate\" href=\"https://www.apple.com/\" hreflang=\"en-US\"><link rel=\"alternate\" href=\"https://www.apple.com/ae-ar/\" hreflang=\"ar-AE\"><link rel=\"alternate\" href=\"https://www.apple.com/ae/\" hreflang=\"en-AE\"><link rel=\"alternate\" href=\"https://www.apple.com/am/\" hreflang=\"en-AM\"><link rel=\"alternate\" href=\"https://www.apple.com/at/\" hreflang=\"de-AT\"><link rel=\"alternate\" href=\"https://www.apple.com/au/\" hreflang=\"en-AU\"><link rel=\"alternate\" href=\"https://www.apple.com/az/\" hreflang=\"en-AZ\"><link rel=\"alternate\" href=\"https://www.apple.com/befr/\" hreflang=\"fr-BE\"><link rel=\"alternate\" href=\"https://www.apple.com/benl/\" hreflang=\"nl-BE\"><link rel=\"alternate\" href=\"https://www.apple.com/bg/\" hreflang=\"bg-BG\"><link rel=\"alternate\" href=\"https://www.apple.com/bh-ar/\" hreflang=\"ar-BH\"><link rel=\"alternate\" href=\"https://www.apple.com/bh/\" hreflang=\"en-BH\"><link rel=\"alternate\" href=\"https://www.apple.com/br/\" hreflang=\"pt-BR\"><link rel=\"alternate\" href=\"https://www.apple.com/bw/\" hreflang=\"en-BW\"><link rel=\"alternate\" href=\"https://www.apple.com/by/\" hreflang=\"en-BY\"><link rel=\"alternate\" href=\"https://www.apple.com/ca/\" hreflang=\"en-CA\"><link rel=\"alternate\" href=\"https://www.apple.com/ca/fr/\" hreflang=\"fr-CA\"><link rel=\"alternate\" href=\"https://www.apple.com/cf/\" hreflang=\"fr-CF\"><link rel=\"alternate\" href=\"https://www.apple.com/chde/\" hreflang=\"de-CH\"><link rel=\"alternate\" href=\"https://www.apple.com/chfr/\" hreflang=\"fr-CH\"><link rel=\"alternate\" href=\"https://www.apple.com/ci/\" hreflang=\"fr-CI\"><link rel=\"alternate\" href=\"https://www.apple.com/cl/\" hreflang=\"es-CL\"><link rel=\"alternate\" href=\"https://www.apple.com/cm/\" hreflang=\"fr-CM\"><link rel=\"alternate\" href=\"https://www.apple.com/co/\" hreflang=\"es-CO\"><link rel=\"alternate\" href=\"https://www.apple.com/cz/\" hreflang=\"cs-CZ\"><link rel=\"alternate\" href=\"https://www.apple.com/de/\" hreflang=\"de-DE\"><link rel=\"alternate\" href=\"https://www.apple.com/dk/\" hreflang=\"da-DK\"><link rel=\"alternate\" href=\"https://www.apple.com/ee/\" hreflang=\"et-EE\"><link rel=\"alternate\" href=\"https://www.apple.com/eg-ar/\" hreflang=\"ar-EG\"><link rel=\"alternate\" href=\"https://www.apple.com/eg/\" hreflang=\"en-EG\"><link rel=\"alternate\" href=\"https://www.apple.com/es/\" hreflang=\"es-ES\"><link rel=\"alternate\" href=\"https://www.apple.com/fi/\" hreflang=\"fi-FI\"><link rel=\"alternate\" href=\"https://www.apple.com/fr/\" hreflang=\"fr-FR\"><link rel=\"alternate\" href=\"https://www.apple.com/ge/\" hreflang=\"en-GE\"><link rel=\"alternate\" href=\"https://www.apple.com/gn/\" hreflang=\"fr-GN\"><link rel=\"alternate\" href=\"https://www.apple.com/gq/\" hreflang=\"fr-GQ\"><link rel=\"alternate\" href=\"https://www.apple.com/gr/\" hreflang=\"el-GR\"><link rel=\"alternate\" href=\"https://www.apple.com/gw/\" hreflang=\"en-GW\"><link rel=\"alternate\" href=\"https://www.apple.com/hk/\" hreflang=\"zh-HK\"><link rel=\"alternate\" href=\"https://www.apple.com/hk/en/\" hreflang=\"en-HK\"><link rel=\"alternate\" href=\"https://www.apple.com/hr/\" hreflang=\"hr-HR\"><link rel=\"alternate\" href=\"https://www.apple.com/hu/\" hreflang=\"hu-HU\"><link rel=\"alternate\" href=\"https://www.apple.com/id/\" hreflang=\"en-ID\"><link rel=\"alternate\" href=\"https://www.apple.com/ie/\" hreflang=\"en-IE\"><link rel=\"alternate\" href=\"https://www.apple.com/il/\" hreflang=\"en-IL\"><link rel=\"alternate\" href=\"https://www.apple.com/in/\" hreflang=\"en-IN\"><link rel=\"alternate\" href=\"https://www.apple.com/it/\" hreflang=\"it-IT\"><link rel=\"alternate\" href=\"https://www.apple.com/jo-ar/\" hreflang=\"ar-JO\"><link rel=\"alternate\" href=\"https://www.apple.com/jo/\" hreflang=\"en-JO\"><link rel=\"alternate\" href=\"https://www.apple.com/jp/\" hreflang=\"ja-JP\"><link rel=\"alternate\" href=\"https://www.apple.com/ke/\" hreflang=\"en-KE\"><link rel=\"alternate\" href=\"https://www.apple.com/kg/\" hreflang=\"en-KG\"><link rel=\"alternate\" href=\"https://www.apple.com/kr/\" hreflang=\"ko-KR\"><link rel=\"alternate\" href=\"https://www.apple.com/kw-ar/\" hreflang=\"ar-KW\"><link rel=\"alternate\" href=\"https://www.apple.com/kw/\" hreflang=\"en-KW\"><link rel=\"alternate\" href=\"https://www.apple.com/kz/\" hreflang=\"en-KZ\"><link rel=\"alternate\" href=\"https://www.apple.com/la/\" hreflang=\"es-HN\"><link rel=\"alternate\" href=\"https://www.apple.com/la/\" hreflang=\"es-AR\"><link rel=\"alternate\" href=\"https://www.apple.com/la/\" hreflang=\"es-SV\"><link rel=\"alternate\" href=\"https://www.apple.com/la/\" hreflang=\"es-DO\"><link rel=\"alternate\" href=\"https://www.apple.com/la/\" hreflang=\"es-EC\"><link rel=\"alternate\" href=\"https://www.apple.com/la/\" hreflang=\"es-GT\"><link rel=\"alternate\" href=\"https://www.apple.com/la/\" hreflang=\"es-PE\"><link rel=\"alternate\" href=\"https://www.apple.com/la/\" hreflang=\"es-BO\"><link rel=\"alternate\" href=\"https://www.apple.com/la/\" hreflang=\"es-NI\"><link rel=\"alternate\" href=\"https://www.apple.com/la/\" hreflang=\"es-VE\"><link rel=\"alternate\" href=\"https://www.apple.com/la/\" hreflang=\"es-PA\"><link rel=\"alternate\" href=\"https://www.apple.com/la/\" hreflang=\"es-CR\"><link rel=\"alternate\" href=\"https://www.apple.com/la/\" hreflang=\"es-UY\"><link rel=\"alternate\" href=\"https://www.apple.com/la/\" hreflang=\"es-PY\"><link rel=\"alternate\" href=\"https://www.apple.com/lae/\" hreflang=\"en-AG\"><link rel=\"alternate\" href=\"https://www.apple.com/lae/\" hreflang=\"en-BS\"><link rel=\"alternate\" href=\"https://www.apple.com/lae/\" hreflang=\"en-TC\"><link rel=\"alternate\" href=\"https://www.apple.com/lae/\" hreflang=\"en-TT\"><link rel=\"alternate\" href=\"https://www.apple.com/lae/\" hreflang=\"en-SR\"><link rel=\"alternate\" href=\"https://www.apple.com/lae/\" hreflang=\"en-BM\"><link rel=\"alternate\" href=\"https://www.apple.com/lae/\" hreflang=\"en-BB\"><link rel=\"alternate\" href=\"https://www.apple.com/lae/\" hreflang=\"en-BZ\"><link rel=\"alternate\" href=\"https://www.apple.com/lae/\" hreflang=\"en-GD\"><link rel=\"alternate\" href=\"https://www.apple.com/lae/\" hreflang=\"en-KY\"><link rel=\"alternate\" href=\"https://www.apple.com/lae/\" hreflang=\"en-LC\"><link rel=\"alternate\" href=\"https://www.apple.com/lae/\" hreflang=\"en-MS\"><link rel=\"alternate\" href=\"https://www.apple.com/lae/\" hreflang=\"en-KN\"><link rel=\"alternate\" href=\"https://www.apple.com/lae/\" hreflang=\"en-AI\"><link rel=\"alternate\" href=\"https://www.apple.com/lae/\" hreflang=\"en-VC\"><link rel=\"alternate\" href=\"https://www.apple.com/lae/\" hreflang=\"en-GY\"><link rel=\"alternate\" href=\"https://www.apple.com/lae/\" hreflang=\"en-VG\"><link rel=\"alternate\" href=\"https://www.apple.com/lae/\" hreflang=\"en-DM\"><link rel=\"alternate\" href=\"https://www.apple.com/lae/\" hreflang=\"en-JM\"><link rel=\"alternate\" href=\"https://www.apple.com/li/\" hreflang=\"de-LI\"><link rel=\"alternate\" href=\"https://www.apple.com/lt/\" hreflang=\"lt-LT\"><link rel=\"alternate\" href=\"https://www.apple.com/lu/\" hreflang=\"fr-LU\"><link rel=\"alternate\" href=\"https://www.apple.com/lv/\" hreflang=\"lv-LV\"><link rel=\"alternate\" href=\"https://www.apple.com/ma/\" hreflang=\"fr-MA\"><link rel=\"alternate\" href=\"https://www.apple.com/md/\" hreflang=\"en-MD\"><link rel=\"alternate\" href=\"https://www.apple.com/me/\" hreflang=\"en-ME\"><link rel=\"alternate\" href=\"https://www.apple.com/mg/\" hreflang=\"en-MG\"><link rel=\"alternate\" href=\"https://www.apple.com/mk/\" hreflang=\"en-MK\"><link rel=\"alternate\" href=\"https://www.apple.com/ml/\" hreflang=\"fr-ML\"><link rel=\"alternate\" href=\"https://www.apple.com/mo/\" hreflang=\"zh-MO\"><link rel=\"alternate\" href=\"https://www.apple.com/mt/\" hreflang=\"en-MT\"><link rel=\"alternate\" href=\"https://www.apple.com/mu/\" hreflang=\"fr-MU\"><link rel=\"alternate\" href=\"https://www.apple.com/mx/\" hreflang=\"es-MX\"><link rel=\"alternate\" href=\"https://www.apple.com/my/\" hreflang=\"en-MY\"><link rel=\"alternate\" href=\"https://www.apple.com/mz/\" hreflang=\"en-MZ\"><link rel=\"alternate\" href=\"https://www.apple.com/ne/\" hreflang=\"fr-NE\"><link rel=\"alternate\" href=\"https://www.apple.com/ng/\" hreflang=\"en-NG\"><link rel=\"alternate\" href=\"https://www.apple.com/nl/\" hreflang=\"nl-NL\"><link rel=\"alternate\" href=\"https://www.apple.com/no/\" hreflang=\"no-NO\"><link rel=\"alternate\" href=\"https://www.apple.com/nz/\" hreflang=\"en-NZ\"><link rel=\"alternate\" href=\"https://www.apple.com/om-ar/\" hreflang=\"ar-OM\"><link rel=\"alternate\" href=\"https://www.apple.com/om/\" hreflang=\"en-OM\"><link rel=\"alternate\" href=\"https://www.apple.com/ph/\" hreflang=\"en-PH\"><link rel=\"alternate\" href=\"https://www.apple.com/pl/\" hreflang=\"pl-PL\"><link rel=\"alternate\" href=\"https://www.apple.com/pt/\" hreflang=\"pt-PT\"><link rel=\"alternate\" href=\"https://www.apple.com/qa-ar/\" hreflang=\"ar-QA\"><link rel=\"alternate\" href=\"https://www.apple.com/qa/\" hreflang=\"en-QA\"><link rel=\"alternate\" href=\"https://www.apple.com/ro/\" hreflang=\"ro-RO\"><link rel=\"alternate\" href=\"https://www.apple.com/sa-ar/\" hreflang=\"ar-SA\"><link rel=\"alternate\" href=\"https://www.apple.com/sa/\" hreflang=\"en-SA\"><link rel=\"alternate\" href=\"https://www.apple.com/se/\" hreflang=\"sv-SE\"><link rel=\"alternate\" href=\"https://www.apple.com/sg/\" hreflang=\"en-SG\"><link rel=\"alternate\" href=\"https://www.apple.com/si/\" hreflang=\"en-SI\"><link rel=\"alternate\" href=\"https://www.apple.com/sk/\" hreflang=\"sk-SK\"><link rel=\"alternate\" href=\"https://www.apple.com/sn/\" hreflang=\"fr-SN\"><link rel=\"alternate\" href=\"https://www.apple.com/th/\" hreflang=\"th-TH\"><link rel=\"alternate\" href=\"https://www.apple.com/tj/\" hreflang=\"en-TJ\"><link rel=\"alternate\" href=\"https://www.apple.com/tm/\" hreflang=\"en-TM\"><link rel=\"alternate\" href=\"https://www.apple.com/tn/\" hreflang=\"fr-TN\"><link rel=\"alternate\" href=\"https://www.apple.com/tr/\" hreflang=\"tr-TR\"><link rel=\"alternate\" href=\"https://www.apple.com/tw/\" hreflang=\"zh-TW\"><link rel=\"alternate\" href=\"https://www.apple.com/ua/\" hreflang=\"uk-UA\"><link rel=\"alternate\" href=\"https://www.apple.com/ug/\" hreflang=\"en-UG\"><link rel=\"alternate\" href=\"https://www.apple.com/uk/\" hreflang=\"en-GB\"><link rel=\"alternate\" href=\"https://www.apple.com/uz/\" hreflang=\"en-UZ\"><link rel=\"alternate\" href=\"https://www.apple.com/vn/\" hreflang=\"vi-VN\"><link rel=\"alternate\" href=\"https://www.apple.com/za/\" hreflang=\"en-ZA\">\n",
      "\n",
      "\n",
      "\n",
      "\n",
      "\t\n",
      "<meta name=\"viewport\" content=\"width=device-width, initial-scale=1, viewport-fit=cover\">\n",
      "\n",
      "\t\n",
      "\t\n",
      "\t\t<link rel=\"stylesheet\" type=\"text/css\" href=\"/api-www/global-elements/global-header/v1/assets/globalheader.css\">\n",
      "\t\t<link rel=\"stylesheet\" type=\"text/css\" href=\"/ac/globalfooter/8/en_MK/styles/ac-globalfooter.built.css\">\n",
      "\t\n",
      "\t<link rel=\"stylesheet\" type=\"text/css\" href=\"/ac/localnav/9/styles/ac-localnav.built.css\">\n",
      "\n",
      "\t<title>Apple (Macedonia)</title>\n",
      "\t<meta property=\"analytics-track\" content=\"Apple - Index/Tab\">\n",
      "\t<meta property=\"analytics-s-channel\" content=\"homepage\">\n",
      "\n",
      "\t<meta property=\"analytics-s-bucket-0\" content=\"applestoreww\">\n",
      "\t<meta property=\"analytics-s-bucket-1\" content=\"applestoreww\">\n",
      "\t<meta property=\"analytics-s-bucket-2\" content=\"applestoreww\">\n",
      "\n",
      "\t<meta name=\"Description\" content=\"Discover the innovative world of Apple and shop iPhone, iPad and Mac, plus explore accessories, entertainment, and expert device support.\">\n",
      "\t<meta property=\"og:title\" content=\"Apple (Macedonia)\">\n",
      "\t<meta property=\"og:description\" content=\"Discover the innovative world of Apple and shop iPhone, iPad and Mac, plus explore accessories, entertainment, and expert device support.\">\n",
      "\t<meta property=\"og:url\" content=\"https://www.apple.com/mk/\">\n",
      "\t<meta property=\"og:locale\" content=\"en_MK\">\n",
      "\t<meta property=\"og:image\" content=\"https://www.apple.com/ac/structured-data/images/open_graph_logo.png?201809270954\">\n",
      "\t<meta property=\"og:type\" content=\"website\">\n",
      "\t<meta property=\"og:site_name\" content=\"Apple (Macedonia)\">\n",
      "\t<link rel=\"stylesheet\" href=\"/wss/fonts?families=SF+Pro,v3|SF+Pro+Icons,v3\" type=\"text/css\" media=\"all\">\n",
      "\t<link rel=\"stylesheet\" href=\"/v/home/br/built/styles/main.built.css\" type=\"text/css\">\n",
      "\t<script src=\"/v/home/br/built/scripts/head.built.js\" type=\"text/javascript\" charset=\"utf-8\"></script>\n",
      "</head>\n",
      "<body class=\"page-home ac-nav-overlap globalnav-scrim globalheader-dark\" data-anim-scroll-group=\"body\">\n",
      "\t<h1 class=\"visuallyhidden\">Apple</h1>\n",
      "\t\n",
      "<meta name=\"globalnav-store-key\" content=\"SFX9YPYY9PPXCU9KH\">\n",
      "\n",
      "    <div id=\"globalheader\"><aside id=\"globalmessage-segment\" lang=\"en-MK\" dir=\"ltr\" class=\"globalmessage-segment\"><ul data-strings=\"{}\" class=\"globalmessage-segment-content\"></ul></aside><nav id=\"globalnav\" lang=\"en-MK\" dir=\"ltr\" aria-label=\"Global\" data-analytics-element-engagement-start=\"globalnav:onFlyoutOpen\" data-analytics-element-engagement-end=\"globalnav:onFlyoutClose\" data-analytics-activitymap-region-id=\"global nav\" data-analytics-region=\"global nav\" class=\"globalnav js   \" style=\"--r-globalnav-text-zoom-scale: 1;\"><div class=\"globalnav-content\"><div class=\"globalnav-item globalnav-menuback\"><button aria-label=\"Main menu\" class=\"globalnav-menuback-button\"><span class=\"globalnav-chevron-icon\"><svg height=\"48\" viewBox=\"0 0 9 48\" width=\"9\" xmlns=\"http://www.w3.org/2000/svg\"><path d=\"m1.5618 24.0621 6.5581-6.4238c.2368-.2319.2407-.6118.0088-.8486-.2324-.2373-.6123-.2407-.8486-.0088l-7 6.8569c-.1157.1138-.1807.2695-.1802.4316.001.1621.0674.3174.1846.4297l7 6.7241c.1162.1118.2661.1675.4155.1675.1577 0 .3149-.062.4326-.1846.2295-.2388.2222-.6187-.0171-.8481z\"></path></svg></span></button></div><ul id=\"globalnav-list\" class=\"globalnav-list\"><li data-analytics-element-engagement=\"globalnav hover - apple\" class=\"\n",
      "\t\t\t\tglobalnav-item\n",
      "\t\t\t\tglobalnav-item-apple\n",
      "\t\t\t\t\n",
      "\t\t\t\t\n",
      "\t\t\t\"><a href=\"/mk/\" data-globalnav-item-name=\"apple\" data-analytics-title=\"apple home\" aria-label=\"Apple\" class=\"globalnav-link globalnav-link-apple\"><span class=\"globalnav-image-regular globalnav-link-image\"><svg height=\"44\" viewBox=\"0 0 14 44\" width=\"14\" xmlns=\"http://www.w3.org/2000/svg\"><path d=\"m13.0729 17.6825a3.61 3.61 0 0 0 -1.7248 3.0365 3.5132 3.5132 0 0 0 2.1379 3.2223 8.394 8.394 0 0 1 -1.0948 2.2618c-.6816.9812-1.3943 1.9623-2.4787 1.9623s-1.3633-.63-2.613-.63c-1.2187 0-1.6525.6507-2.644.6507s-1.6834-.9089-2.4787-2.0243a9.7842 9.7842 0 0 1 -1.6628-5.2776c0-3.0984 2.014-4.7405 3.9969-4.7405 1.0535 0 1.9314.6919 2.5924.6919.63 0 1.6112-.7333 2.8092-.7333a3.7579 3.7579 0 0 1 3.1604 1.5802zm-3.7284-2.8918a3.5615 3.5615 0 0 0 .8469-2.22 1.5353 1.5353 0 0 0 -.031-.32 3.5686 3.5686 0 0 0 -2.3445 1.2084 3.4629 3.4629 0 0 0 -.8779 2.1585 1.419 1.419 0 0 0 .031.2892 1.19 1.19 0 0 0 .2169.0207 3.0935 3.0935 0 0 0 2.1586-1.1368z\"></path></svg></span><span class=\"globalnav-image-compact globalnav-link-image\"><svg height=\"48\" viewBox=\"0 0 17 48\" width=\"17\" xmlns=\"http://www.w3.org/2000/svg\"><path d=\"m15.5752 19.0792a4.2055 4.2055 0 0 0 -2.01 3.5376 4.0931 4.0931 0 0 0 2.4908 3.7542 9.7779 9.7779 0 0 1 -1.2755 2.6351c-.7941 1.1431-1.6244 2.2862-2.8878 2.2862s-1.5883-.734-3.0443-.734c-1.42 0-1.9252.7581-3.08.7581s-1.9611-1.0589-2.8876-2.3584a11.3987 11.3987 0 0 1 -1.9373-6.1487c0-3.61 2.3464-5.523 4.6566-5.523 1.2274 0 2.25.8062 3.02.8062.734 0 1.8771-.8543 3.2729-.8543a4.3778 4.3778 0 0 1 3.6822 1.841zm-6.8586-2.0456a1.3865 1.3865 0 0 1 -.2527-.024 1.6557 1.6557 0 0 1 -.0361-.337 4.0341 4.0341 0 0 1 1.0228-2.5148 4.1571 4.1571 0 0 1 2.7314-1.4078 1.7815 1.7815 0 0 1 .0361.373 4.1487 4.1487 0 0 1 -.9867 2.587 3.6039 3.6039 0 0 1 -2.5148 1.3236z\"></path></svg></span><span class=\"globalnav-link-text\">Apple</span></a></li><li data-topnav-flyout-item=\"menu\" data-topnav-flyout-label=\"Menu\" class=\"globalnav-item globalnav-menu\"><div data-topnav-flyout=\"menu\" class=\"globalnav-flyout\" style=\"--r-globalnav-flyout-item-total: 0; --r-globalnav-flyout-group-number: 0;\"><div class=\"globalnav-menu-list\" style=\"--r-globalnav-flyout-item-total: 5;\"><div data-analytics-element-engagement=\"globalnav hover - mac\" class=\"\n",
      "\t\t\t\tglobalnav-item\n",
      "\t\t\t\tglobalnav-item-mac\n",
      "\t\t\t\tglobalnav-item-menu\n",
      "\t\t\t\tglobalnav-item-submenu\n",
      "\t\t\t\" style=\"--r-globalnav-flyout-item-number: 0;\"><ul class=\"globalnav-submenu-trigger-group\"><li class=\"globalnav-submenu-trigger-item\"><a href=\"/mk/mac/\" data-globalnav-item-name=\"mac\" data-topnav-flyout-trigger-compact=\"true\" data-analytics-title=\"mac\" data-analytics-element-engagement=\"hover - mac\" aria-label=\"Mac\" class=\"globalnav-link globalnav-submenu-trigger-link globalnav-link-mac\"><span class=\"globalnav-link-text-container\"><span class=\"globalnav-image-regular globalnav-link-image\"><svg height=\"44\" viewBox=\"0 0 23 44\" width=\"23\" xmlns=\"http://www.w3.org/2000/svg\"><path d=\"m8.1558 25.9987v-6.457h-.0703l-2.666 6.457h-.8907l-2.666-6.457h-.0703v6.457h-.9844v-8.4551h1.2246l2.8945 7.0547h.0938l2.8945-7.0547h1.2246v8.4551zm2.5166-1.7696c0-1.1309.832-1.7812 2.3027-1.8691l1.8223-.1113v-.5742c0-.7793-.4863-1.207-1.4297-1.207-.7559 0-1.2832.2871-1.4238.7852h-1.0195c.1348-1.0137 1.1309-1.6816 2.4785-1.6816 1.541 0 2.4023.791 2.4023 2.1035v4.3242h-.9609v-.9318h-.0938c-.4102.6738-1.1016 1.043-1.9453 1.043-1.2246 0-2.1328-.7266-2.1328-1.8809zm4.125-.5859v-.5801l-1.6992.1113c-.9609.0645-1.3828.3984-1.3828 1.0312 0 .6445.5449 1.0195 1.2773 1.0195 1.0371.0001 1.8047-.6796 1.8047-1.5819zm6.958-2.0273c-.1641-.627-.7207-1.1367-1.6289-1.1367-1.1367 0-1.8516.9082-1.8516 2.3379 0 1.459.7266 2.3848 1.8516 2.3848.8496 0 1.4414-.3926 1.6289-1.1074h1.0195c-.1816 1.1602-1.125 2.0156-2.6426 2.0156-1.7695 0-2.9004-1.2832-2.9004-3.293 0-1.9688 1.125-3.2461 2.8945-3.2461 1.5352 0 2.4727.9199 2.6484 2.0449z\"></path></svg></span><span class=\"globalnav-link-text\">Mac</span></span><span class=\"globalnav-link-chevron\"><svg height=\"48\" viewBox=\"0 0 9 48\" width=\"9\" xmlns=\"http://www.w3.org/2000/svg\"><path d=\"m8.1155 30.358a.6.6 0 1 1 -.831.8653l-7-6.7242a.6.6 0 0 1 -.0045-.8613l7-6.8569a.6.6 0 1 1 .84.8574l-6.5582 6.4238z\"></path></svg></span></a></li><li class=\"globalnav-submenu-trigger-item\"><button id=\"globalnav-menubutton-link-mac\" class=\"globalnav-submenu-trigger-button\" aria-expanded=\"false\" aria-controls=\"globalnav-submenu-link-mac\" aria-label=\"Mac menu\" data-topnav-flyout-trigger-regular=\"true\"><span class=\"globalnav-image-regular globalnav-submenu-button-icon\"><svg height=\"10\" viewBox=\"0 0 10 10\" width=\"10\" xmlns=\"http://www.w3.org/2000/svg\"><path d=\"m4.6725 6.635-2.655-2.667a.445.445 0 0 1 -.123-.304.4331.4331 0 0 1 .427-.439h.006a.447.447 0 0 1 .316.135l2.357 2.365 2.356-2.365a.458.458 0 0 1 .316-.135.433.433 0 0 1 .433.433v.006a.4189.4189 0 0 1 -.123.3l-2.655 2.671a.4451.4451 0 0 1 -.327.14.464.464 0 0 1 -.328-.14z\"></path></svg></span><span class=\"globalnav-image-compact globalnav-submenu-button-icon\"><svg height=\"48\" viewBox=\"0 0 9 48\" width=\"9\" xmlns=\"http://www.w3.org/2000/svg\"><path d=\"m7.4382 24.0621-6.5581-6.4238c-.2368-.2319-.2407-.6118-.0088-.8486.2324-.2373.6123-.2407.8486-.0088l7 6.8569c.1157.1138.1807.2695.1802.4316-.001.1621-.0674.3174-.1846.4297l-7 6.7242c-.1162.1118-.2661.1675-.4155.1675-.1577 0-.3149-.062-.4326-.1846-.2295-.2388-.2222-.6187.0171-.8481l6.5537-6.2959z\"></path></svg></span></button></li></ul><div id=\"globalnav-submenu-link-mac\" class=\"globalnav-flyout globalnav-submenu\" aria-labelledby=\"globalnav-menubutton-link-mac\" style=\"--r-globalnav-flyout-item-total: 0; --r-globalnav-flyout-group-number: 0; --r-globalnav-flyout-height: 490px; --r-globalnav-flyout-rate: 240ms;\"><div class=\"globalnav-flyout-scroll-container\"><div class=\"globalnav-flyout-content globalnav-submenu-content\" style=\"--r-globalnav-flyout-elevated-group-count: 1; --r-globalnav-flyout-group-total: 1; --r-globalnav-flyout-item-total: 9;\"><div class=\"globalnav-submenu-group globalnav-submenu-group-elevated\" data-analytics-region=\"explore mac\" style=\"--r-globalnav-flyout-group-number: 0;\"><h2 class=\"globalnav-submenu-header\" id=\"26d2472a\" style=\"--r-globalnav-flyout-item-number: 1;\">Explore Mac</h2><ul class=\"globalnav-submenu-list\" aria-labelledby=\"26d2472a\"><li class=\"globalnav-submenu-list-item-elevated\" style=\"--r-globalnav-flyout-item-number: 2;\"><a href=\"/mk/mac/\" class=\"globalnav-submenu-link\" data-analytics-title=\"explore all mac\">Explore All Mac</a></li><li class=\"globalnav-submenu-list-item-elevated\" style=\"--r-globalnav-flyout-item-number: 3;\"><a href=\"/mk/macbook-air/\" class=\"globalnav-submenu-link\" data-analytics-title=\"macbook air\">MacBook Air</a></li><li class=\"globalnav-submenu-list-item-elevated\" style=\"--r-globalnav-flyout-item-number: 4;\"><a href=\"/mk/macbook-pro/\" class=\"globalnav-submenu-link\" data-analytics-title=\"macbook pro\">MacBook Pro</a></li><li class=\"globalnav-submenu-list-item-elevated\" style=\"--r-globalnav-flyout-item-number: 5;\"><a href=\"/mk/imac/\" class=\"globalnav-submenu-link\" data-analytics-title=\"imac\" aria-label=\"iMac\">iMac</a></li><li class=\"globalnav-submenu-list-item-elevated\" style=\"--r-globalnav-flyout-item-number: 6;\"><a href=\"/mk/mac-mini/\" class=\"globalnav-submenu-link\" data-analytics-title=\"mac mini\">Mac mini</a></li><li class=\"globalnav-submenu-list-item-elevated\" style=\"--r-globalnav-flyout-item-number: 7;\"><a href=\"/mk/mac-studio/\" class=\"globalnav-submenu-link\" data-analytics-title=\"mac studio\">Mac Studio</a></li><li class=\"globalnav-submenu-list-item-elevated\" style=\"--r-globalnav-flyout-item-number: 8;\"><a href=\"/mk/mac-pro/\" class=\"globalnav-submenu-link\" data-analytics-title=\"mac pro\">Mac Pro</a></li><li class=\"globalnav-submenu-list-item-elevated\" style=\"--r-globalnav-flyout-item-number: 9;\"><a href=\"/mk/displays/\" class=\"globalnav-submenu-link\" data-analytics-title=\"displays\">Displays</a></li></ul></div><div class=\"globalnav-submenu-group \" data-analytics-region=\"more from mac\" style=\"--r-globalnav-flyout-group-number: 1;\"><h2 class=\"globalnav-submenu-header\" id=\"e24060ec\" style=\"--r-globalnav-flyout-item-number: 1;\">More from Mac</h2><ul class=\"globalnav-submenu-list\" aria-labelledby=\"e24060ec\"><li class=\"globalnav-submenu-list-item\" style=\"--r-globalnav-flyout-item-number: 2;\"><a href=\"https://support.apple.com/en-euro/mac?cid=gn-ols-mac-psp-prodfly\" class=\"globalnav-submenu-link\" data-analytics-exit-link=\"true\" data-analytics-title=\"mac support\">Mac Support</a></li></ul></div></div></div></div></div><div data-analytics-element-engagement=\"globalnav hover - ipad\" class=\"\n",
      "\t\t\t\tglobalnav-item\n",
      "\t\t\t\tglobalnav-item-ipad\n",
      "\t\t\t\tglobalnav-item-menu\n",
      "\t\t\t\tglobalnav-item-submenu\n",
      "\t\t\t\" style=\"--r-globalnav-flyout-item-number: 1;\"><ul class=\"globalnav-submenu-trigger-group\"><li class=\"globalnav-submenu-trigger-item\"><a href=\"/mk/ipad/\" data-globalnav-item-name=\"ipad\" data-topnav-flyout-trigger-compact=\"true\" data-analytics-title=\"ipad\" data-analytics-element-engagement=\"hover - ipad\" aria-label=\"iPad\" class=\"globalnav-link globalnav-submenu-trigger-link globalnav-link-ipad\"><span class=\"globalnav-link-text-container\"><span class=\"globalnav-image-regular globalnav-link-image\"><svg height=\"44\" viewBox=\"0 0 24 44\" width=\"24\" xmlns=\"http://www.w3.org/2000/svg\"><path d=\"m14.9575 23.7002c0 .902-.768 1.582-1.805 1.582-.732 0-1.277-.375-1.277-1.02 0-.632.422-.966 1.383-1.031l1.699-.111zm-1.395-4.072c-1.347 0-2.343.668-2.478 1.681h1.019c.141-.498.668-.785 1.424-.785.944 0 1.43.428 1.43 1.207v.574l-1.822.112c-1.471.088-2.303.738-2.303 1.869 0 1.154.908 1.881 2.133 1.881.844 0 1.535-.369 1.945-1.043h.094v.931h.961v-4.324c0-1.312-.862-2.103-2.403-2.103zm6.769 5.575c-1.155 0-1.846-.885-1.846-2.361 0-1.471.697-2.362 1.846-2.362 1.142 0 1.857.914 1.857 2.362 0 1.459-.709 2.361-1.857 2.361zm1.834-8.027v3.503h-.088c-.358-.691-1.102-1.107-1.981-1.107-1.605 0-2.654 1.289-2.654 3.27 0 1.986 1.037 3.269 2.654 3.269.873 0 1.623-.416 2.022-1.119h.093v1.008h.961v-8.824zm-15.394 4.869h-1.863v-3.563h1.863c1.225 0 1.899.639 1.899 1.799 0 1.119-.697 1.764-1.899 1.764zm.276-4.5h-3.194v8.455h1.055v-3.018h2.127c1.588 0 2.719-1.119 2.719-2.701 0-1.611-1.108-2.736-2.707-2.736zm-6.064 8.454h1.008v-6.316h-1.008zm-.199-8.237c0-.387.316-.704.703-.704s.703.317.703.704c0 .386-.316.703-.703.703s-.703-.317-.703-.703z\"></path></svg></span><span class=\"globalnav-link-text\">iPad</span></span><span class=\"globalnav-link-chevron\"><svg height=\"48\" viewBox=\"0 0 9 48\" width=\"9\" xmlns=\"http://www.w3.org/2000/svg\"><path d=\"m8.1155 30.358a.6.6 0 1 1 -.831.8653l-7-6.7242a.6.6 0 0 1 -.0045-.8613l7-6.8569a.6.6 0 1 1 .84.8574l-6.5582 6.4238z\"></path></svg></span></a></li><li class=\"globalnav-submenu-trigger-item\"><button id=\"globalnav-menubutton-link-ipad\" class=\"globalnav-submenu-trigger-button\" aria-expanded=\"false\" aria-controls=\"globalnav-submenu-link-ipad\" aria-label=\"iPad menu\" data-topnav-flyout-trigger-regular=\"true\"><span class=\"globalnav-image-regular globalnav-submenu-button-icon\"><svg height=\"10\" viewBox=\"0 0 10 10\" width=\"10\" xmlns=\"http://www.w3.org/2000/svg\"><path d=\"m4.6725 6.635-2.655-2.667a.445.445 0 0 1 -.123-.304.4331.4331 0 0 1 .427-.439h.006a.447.447 0 0 1 .316.135l2.357 2.365 2.356-2.365a.458.458 0 0 1 .316-.135.433.433 0 0 1 .433.433v.006a.4189.4189 0 0 1 -.123.3l-2.655 2.671a.4451.4451 0 0 1 -.327.14.464.464 0 0 1 -.328-.14z\"></path></svg></span><span class=\"globalnav-image-compact globalnav-submenu-button-icon\"><svg height=\"48\" viewBox=\"0 0 9 48\" width=\"9\" xmlns=\"http://www.w3.org/2000/svg\"><path d=\"m7.4382 24.0621-6.5581-6.4238c-.2368-.2319-.2407-.6118-.0088-.8486.2324-.2373.6123-.2407.8486-.0088l7 6.8569c.1157.1138.1807.2695.1802.4316-.001.1621-.0674.3174-.1846.4297l-7 6.7242c-.1162.1118-.2661.1675-.4155.1675-.1577 0-.3149-.062-.4326-.1846-.2295-.2388-.2222-.6187.0171-.8481l6.5537-6.2959z\"></path></svg></span></button></li></ul><div id=\"globalnav-submenu-link-ipad\" class=\"globalnav-flyout globalnav-submenu\" aria-labelledby=\"globalnav-menubutton-link-ipad\" style=\"--r-globalnav-flyout-item-total: 0; --r-globalnav-flyout-group-number: 0; --r-globalnav-flyout-height: 376px; --r-globalnav-flyout-rate: 240ms;\"><div class=\"globalnav-flyout-scroll-container\"><div class=\"globalnav-flyout-content globalnav-submenu-content\" style=\"--r-globalnav-flyout-elevated-group-count: 1; --r-globalnav-flyout-group-total: 1; --r-globalnav-flyout-item-total: 6;\"><div class=\"globalnav-submenu-group globalnav-submenu-group-elevated\" data-analytics-region=\"explore ipad\" style=\"--r-globalnav-flyout-group-number: 0;\"><h2 class=\"globalnav-submenu-header\" id=\"de0ce09d\" style=\"--r-globalnav-flyout-item-number: 1;\">Explore iPad</h2><ul class=\"globalnav-submenu-list\" aria-labelledby=\"de0ce09d\"><li class=\"globalnav-submenu-list-item-elevated\" style=\"--r-globalnav-flyout-item-number: 2;\"><a href=\"/mk/ipad/\" class=\"globalnav-submenu-link\" data-analytics-title=\"explore all ipad\">Explore All iPad</a></li><li class=\"globalnav-submenu-list-item-elevated\" style=\"--r-globalnav-flyout-item-number: 3;\"><a href=\"/mk/ipad-pro/\" class=\"globalnav-submenu-link\" data-analytics-title=\"ipad pro\">iPad Pro</a></li><li class=\"globalnav-submenu-list-item-elevated\" style=\"--r-globalnav-flyout-item-number: 4;\"><a href=\"/mk/ipad-air/\" class=\"globalnav-submenu-link\" data-analytics-title=\"ipad air\">iPad Air</a></li><li class=\"globalnav-submenu-list-item-elevated\" style=\"--r-globalnav-flyout-item-number: 5;\"><a href=\"/mk/ipad-10.9/\" class=\"globalnav-submenu-link\" data-analytics-title=\"ipad\">iPad</a></li><li class=\"globalnav-submenu-list-item-elevated\" style=\"--r-globalnav-flyout-item-number: 6;\"><a href=\"/mk/ipad-mini/\" class=\"globalnav-submenu-link\" data-analytics-title=\"ipad mini\">iPad mini</a></li></ul></div><div class=\"globalnav-submenu-group \" data-analytics-region=\"more from ipad\" style=\"--r-globalnav-flyout-group-number: 1;\"><h2 class=\"globalnav-submenu-header\" id=\"86e490dd\" style=\"--r-globalnav-flyout-item-number: 1;\">More from iPad</h2><ul class=\"globalnav-submenu-list\" aria-labelledby=\"86e490dd\"><li class=\"globalnav-submenu-list-item\" style=\"--r-globalnav-flyout-item-number: 2;\"><a href=\"https://support.apple.com/en-euro/ipad?cid=gn-ols-ipad-psp-prodfly\" class=\"globalnav-submenu-link\" data-analytics-title=\"ipad support\" data-analytics-exit-link=\"true\">iPad Support</a></li></ul></div></div></div></div></div><div data-analytics-element-engagement=\"globalnav hover - iphone\" class=\"\n",
      "\t\t\t\tglobalnav-item\n",
      "\t\t\t\tglobalnav-item-iphone\n",
      "\t\t\t\tglobalnav-item-menu\n",
      "\t\t\t\tglobalnav-item-submenu\n",
      "\t\t\t\" style=\"--r-globalnav-flyout-item-number: 2;\"><ul class=\"globalnav-submenu-trigger-group\"><li class=\"globalnav-submenu-trigger-item\"><a href=\"/mk/iphone/\" data-globalnav-item-name=\"iphone\" data-topnav-flyout-trigger-compact=\"true\" data-analytics-title=\"iphone\" data-analytics-element-engagement=\"hover - iphone\" aria-label=\"iPhone\" class=\"globalnav-link globalnav-submenu-trigger-link globalnav-link-iphone\"><span class=\"globalnav-link-text-container\"><span class=\"globalnav-image-regular globalnav-link-image\"><svg height=\"44\" viewBox=\"0 0 38 44\" width=\"38\" xmlns=\"http://www.w3.org/2000/svg\"><path d=\"m32.7129 22.3203h3.48c-.023-1.119-.691-1.857-1.693-1.857-1.008 0-1.711.738-1.787 1.857zm4.459 2.045c-.293 1.078-1.277 1.746-2.66 1.746-1.752 0-2.848-1.266-2.848-3.264 0-1.986 1.113-3.275 2.848-3.275 1.705 0 2.742 1.213 2.742 3.176v.386h-4.541v.047c.053 1.248.75 2.039 1.822 2.039.815 0 1.366-.298 1.629-.855zm-12.282-4.682h.961v.996h.094c.316-.697.932-1.107 1.898-1.107 1.418 0 2.209.838 2.209 2.338v4.09h-1.007v-3.844c0-1.137-.481-1.676-1.489-1.676s-1.658.674-1.658 1.781v3.739h-1.008zm-2.499 3.158c0-1.5-.674-2.361-1.869-2.361-1.196 0-1.87.861-1.87 2.361 0 1.495.674 2.362 1.87 2.362 1.195 0 1.869-.867 1.869-2.362zm-4.782 0c0-2.033 1.114-3.269 2.913-3.269 1.798 0 2.912 1.236 2.912 3.269 0 2.028-1.114 3.27-2.912 3.27-1.799 0-2.913-1.242-2.913-3.27zm-6.636-5.666h1.008v3.504h.093c.317-.697.979-1.107 1.946-1.107 1.336 0 2.179.855 2.179 2.338v4.09h-1.007v-3.844c0-1.119-.504-1.676-1.459-1.676-1.131 0-1.752.715-1.752 1.781v3.739h-1.008zm-6.015 4.87h1.863c1.202 0 1.899-.645 1.899-1.764 0-1.16-.674-1.799-1.899-1.799h-1.863zm2.139-4.5c1.599 0 2.707 1.125 2.707 2.736 0 1.582-1.131 2.701-2.719 2.701h-2.127v3.018h-1.055v-8.455zm-6.114 8.454h1.008v-6.316h-1.008zm-.2-8.238c0-.386.317-.703.703-.703.387 0 .704.317.704.703 0 .387-.317.704-.704.704-.386 0-.703-.317-.703-.704z\"></path></svg></span><span class=\"globalnav-link-text\">iPhone</span></span><span class=\"globalnav-link-chevron\"><svg height=\"48\" viewBox=\"0 0 9 48\" width=\"9\" xmlns=\"http://www.w3.org/2000/svg\"><path d=\"m8.1155 30.358a.6.6 0 1 1 -.831.8653l-7-6.7242a.6.6 0 0 1 -.0045-.8613l7-6.8569a.6.6 0 1 1 .84.8574l-6.5582 6.4238z\"></path></svg></span></a></li><li class=\"globalnav-submenu-trigger-item\"><button id=\"globalnav-menubutton-link-iphone\" class=\"globalnav-submenu-trigger-button\" aria-expanded=\"false\" aria-controls=\"globalnav-submenu-link-iphone\" aria-label=\"iPhone menu\" data-topnav-flyout-trigger-regular=\"true\"><span class=\"globalnav-image-regular globalnav-submenu-button-icon\"><svg height=\"10\" viewBox=\"0 0 10 10\" width=\"10\" xmlns=\"http://www.w3.org/2000/svg\"><path d=\"m4.6725 6.635-2.655-2.667a.445.445 0 0 1 -.123-.304.4331.4331 0 0 1 .427-.439h.006a.447.447 0 0 1 .316.135l2.357 2.365 2.356-2.365a.458.458 0 0 1 .316-.135.433.433 0 0 1 .433.433v.006a.4189.4189 0 0 1 -.123.3l-2.655 2.671a.4451.4451 0 0 1 -.327.14.464.464 0 0 1 -.328-.14z\"></path></svg></span><span class=\"globalnav-image-compact globalnav-submenu-button-icon\"><svg height=\"48\" viewBox=\"0 0 9 48\" width=\"9\" xmlns=\"http://www.w3.org/2000/svg\"><path d=\"m7.4382 24.0621-6.5581-6.4238c-.2368-.2319-.2407-.6118-.0088-.8486.2324-.2373.6123-.2407.8486-.0088l7 6.8569c.1157.1138.1807.2695.1802.4316-.001.1621-.0674.3174-.1846.4297l-7 6.7242c-.1162.1118-.2661.1675-.4155.1675-.1577 0-.3149-.062-.4326-.1846-.2295-.2388-.2222-.6187.0171-.8481l6.5537-6.2959z\"></path></svg></span></button></li></ul><div id=\"globalnav-submenu-link-iphone\" class=\"globalnav-flyout globalnav-submenu\" aria-labelledby=\"globalnav-menubutton-link-iphone\" style=\"--r-globalnav-flyout-item-total: 0; --r-globalnav-flyout-group-number: 0; --r-globalnav-flyout-height: 414px; --r-globalnav-flyout-rate: 240ms;\"><div class=\"globalnav-flyout-scroll-container\"><div class=\"globalnav-flyout-content globalnav-submenu-content\" style=\"--r-globalnav-flyout-elevated-group-count: 1; --r-globalnav-flyout-group-total: 1; --r-globalnav-flyout-item-total: 7;\"><div class=\"globalnav-submenu-group globalnav-submenu-group-elevated\" data-analytics-region=\"explore iphone\" style=\"--r-globalnav-flyout-group-number: 0;\"><h2 class=\"globalnav-submenu-header\" id=\"38a7a22e\" style=\"--r-globalnav-flyout-item-number: 1;\">Explore iPhone</h2><ul class=\"globalnav-submenu-list\" aria-labelledby=\"38a7a22e\"><li class=\"globalnav-submenu-list-item-elevated\" style=\"--r-globalnav-flyout-item-number: 2;\"><a href=\"/mk/iphone/\" class=\"globalnav-submenu-link\" data-analytics-title=\"explore all iphone\">Explore All iPhone</a></li><li class=\"globalnav-submenu-list-item-elevated\" style=\"--r-globalnav-flyout-item-number: 3;\"><a href=\"/mk/iphone-16-pro/\" class=\"globalnav-submenu-link\" data-analytics-title=\"iphone 16 pro\">iPhone 16 Pro</a></li><li class=\"globalnav-submenu-list-item-elevated\" style=\"--r-globalnav-flyout-item-number: 4;\"><a href=\"/mk/iphone-16/\" class=\"globalnav-submenu-link\" data-analytics-title=\"iphone 16\">iPhone 16</a></li><li class=\"globalnav-submenu-list-item-elevated\" style=\"--r-globalnav-flyout-item-number: 5;\"><a href=\"/mk/iphone-15/specs/\" class=\"globalnav-submenu-link\" data-analytics-title=\"iphone 15\">iPhone 15</a></li><li class=\"globalnav-submenu-list-item-elevated\" style=\"--r-globalnav-flyout-item-number: 6;\"><a href=\"/mk/iphone-14/specs/\" class=\"globalnav-submenu-link\" data-analytics-title=\"iphone 14\">iPhone 14</a></li><li class=\"globalnav-submenu-list-item-elevated\" style=\"--r-globalnav-flyout-item-number: 7;\"><a href=\"/mk/iphone-se/\" class=\"globalnav-submenu-link\" data-analytics-title=\"iphone se\">iPhone SE</a></li></ul></div><div class=\"globalnav-submenu-group \" data-analytics-region=\"more from iphone\" style=\"--r-globalnav-flyout-group-number: 1;\"><h2 class=\"globalnav-submenu-header\" id=\"78045e16\" style=\"--r-globalnav-flyout-item-number: 1;\">More from iPhone</h2><ul class=\"globalnav-submenu-list\" aria-labelledby=\"78045e16\"><li class=\"globalnav-submenu-list-item\" style=\"--r-globalnav-flyout-item-number: 2;\"><a href=\"https://support.apple.com/en-mk/iphone?cid=gn-ols-iphone-psp-prodfly\" class=\"globalnav-submenu-link\" data-analytics-title=\"iphone support\" data-analytics-exit-link=\"true\">iPhone Support</a></li></ul></div></div></div></div></div><div data-analytics-element-engagement=\"globalnav hover - support\" class=\"\n",
      "\t\t\t\tglobalnav-item\n",
      "\t\t\t\tglobalnav-item-support\n",
      "\t\t\t\tglobalnav-item-menu\n",
      "\t\t\t\tglobalnav-item-submenu\n",
      "\t\t\t\" style=\"--r-globalnav-flyout-item-number: 3;\"><ul class=\"globalnav-submenu-trigger-group\"><li class=\"globalnav-submenu-trigger-item\"><a href=\"https://support.apple.com/en-mk/?cid=gn-ols-home-hp-tab\" data-globalnav-item-name=\"support\" data-topnav-flyout-trigger-compact=\"true\" data-analytics-title=\"support\" data-analytics-element-engagement=\"hover - support\" data-analytics-exit-link=\"true\" aria-label=\"Support\" class=\"globalnav-link globalnav-submenu-trigger-link globalnav-link-support\"><span class=\"globalnav-link-text-container\"><span class=\"globalnav-image-regular globalnav-link-image\"><svg height=\"44\" viewBox=\"0 0 44 44\" width=\"44\" xmlns=\"http://www.w3.org/2000/svg\"><path d=\"m42.1206 18.0337v1.635h1.406v.844h-1.406v3.574c0 .744.281 1.06.937 1.06.182 0 .282-.006.469-.023v.849c-.199.036-.392.059-.592.059-1.3 0-1.822-.48-1.822-1.687v-3.832h-1.019v-.844h1.019v-1.635zm-6.131 1.635h.961v.937h.093c.188-.615.914-1.049 1.752-1.049.164 0 .375.012.504.03v1.008c-.082-.024-.445-.059-.644-.059-.961 0-1.659.644-1.659 1.535v3.914h-1.007zm-2.463 3.158c0-1.5-.674-2.361-1.869-2.361s-1.869.861-1.869 2.361c0 1.494.674 2.361 1.869 2.361s1.869-.867 1.869-2.361zm-4.781 0c0-2.033 1.113-3.27 2.912-3.27s2.912 1.237 2.912 3.27c0 2.027-1.113 3.27-2.912 3.27s-2.912-1.243-2.912-3.27zm-2.108 0c0-1.477-.692-2.361-1.846-2.361-1.143 0-1.863.908-1.863 2.361 0 1.447.72 2.361 1.857 2.361 1.16 0 1.852-.884 1.852-2.361zm1.043 0c0 1.975-1.049 3.27-2.655 3.27-.902 0-1.629-.393-1.974-1.061h-.094v3.059h-1.008v-8.426h.961v1.054h.094c.404-.726 1.16-1.166 2.021-1.166 1.612 0 2.655 1.284 2.655 3.27zm-8.048 0c0-1.477-.691-2.361-1.845-2.361-1.143 0-1.864.908-1.864 2.361 0 1.447.721 2.361 1.858 2.361 1.16 0 1.851-.884 1.851-2.361zm1.043 0c0 1.975-1.049 3.27-2.654 3.27-.902 0-1.629-.393-1.975-1.061h-.093v3.059h-1.008v-8.426h.961v1.054h.093c.405-.726 1.161-1.166 2.022-1.166 1.611 0 2.654 1.284 2.654 3.27zm-7.645 3.158h-.961v-.99h-.094c-.316.703-.99 1.102-1.957 1.102-1.418 0-2.156-.844-2.156-2.338v-4.09h1.008v3.844c0 1.136.422 1.664 1.43 1.664 1.113 0 1.722-.663 1.722-1.77v-3.738h1.008zm-11.69-2.209c.129.885.972 1.447 2.174 1.447 1.136 0 1.974-.615 1.974-1.453 0-.72-.527-1.177-1.693-1.47l-1.084-.282c-1.529-.386-2.192-1.078-2.192-2.279 0-1.435 1.202-2.408 2.989-2.408 1.634 0 2.853.973 2.941 2.338h-1.06c-.147-.867-.862-1.383-1.916-1.383-1.125 0-1.87.562-1.87 1.418 0 .662.463 1.043 1.629 1.342l.885.234c1.752.44 2.455 1.119 2.455 2.361 0 1.553-1.224 2.543-3.158 2.543-1.793 0-3.029-.949-3.141-2.408z\"></path></svg></span><span class=\"globalnav-link-text\">Support</span></span><span class=\"globalnav-link-chevron\"><svg height=\"48\" viewBox=\"0 0 9 48\" width=\"9\" xmlns=\"http://www.w3.org/2000/svg\"><path d=\"m8.1155 30.358a.6.6 0 1 1 -.831.8653l-7-6.7242a.6.6 0 0 1 -.0045-.8613l7-6.8569a.6.6 0 1 1 .84.8574l-6.5582 6.4238z\"></path></svg></span></a></li><li class=\"globalnav-submenu-trigger-item\"><button id=\"globalnav-menubutton-link-support\" class=\"globalnav-submenu-trigger-button\" aria-expanded=\"false\" aria-controls=\"globalnav-submenu-link-support\" aria-label=\"Support menu\" data-topnav-flyout-trigger-regular=\"true\"><span class=\"globalnav-image-regular globalnav-submenu-button-icon\"><svg height=\"10\" viewBox=\"0 0 10 10\" width=\"10\" xmlns=\"http://www.w3.org/2000/svg\"><path d=\"m4.6725 6.635-2.655-2.667a.445.445 0 0 1 -.123-.304.4331.4331 0 0 1 .427-.439h.006a.447.447 0 0 1 .316.135l2.357 2.365 2.356-2.365a.458.458 0 0 1 .316-.135.433.433 0 0 1 .433.433v.006a.4189.4189 0 0 1 -.123.3l-2.655 2.671a.4451.4451 0 0 1 -.327.14.464.464 0 0 1 -.328-.14z\"></path></svg></span><span class=\"globalnav-image-compact globalnav-submenu-button-icon\"><svg height=\"48\" viewBox=\"0 0 9 48\" width=\"9\" xmlns=\"http://www.w3.org/2000/svg\"><path d=\"m7.4382 24.0621-6.5581-6.4238c-.2368-.2319-.2407-.6118-.0088-.8486.2324-.2373.6123-.2407.8486-.0088l7 6.8569c.1157.1138.1807.2695.1802.4316-.001.1621-.0674.3174-.1846.4297l-7 6.7242c-.1162.1118-.2661.1675-.4155.1675-.1577 0-.3149-.062-.4326-.1846-.2295-.2388-.2222-.6187.0171-.8481l6.5537-6.2959z\"></path></svg></span></button></li></ul><div id=\"globalnav-submenu-link-support\" class=\"globalnav-flyout globalnav-submenu\" aria-labelledby=\"globalnav-menubutton-link-support\" style=\"--r-globalnav-flyout-item-total: 0; --r-globalnav-flyout-group-number: 0; --r-globalnav-flyout-height: 376px; --r-globalnav-flyout-rate: 240ms;\"><div class=\"globalnav-flyout-scroll-container\"><div class=\"globalnav-flyout-content globalnav-submenu-content\" style=\"--r-globalnav-flyout-elevated-group-count: 1; --r-globalnav-flyout-group-total: 2; --r-globalnav-flyout-item-total: 6;\"><div class=\"globalnav-submenu-group globalnav-submenu-group-elevated\" data-analytics-region=\"explore support\" style=\"--r-globalnav-flyout-group-number: 0;\"><h2 class=\"globalnav-submenu-header\" id=\"73c672e6\" style=\"--r-globalnav-flyout-item-number: 1;\">Explore Support</h2><ul class=\"globalnav-submenu-list\" aria-labelledby=\"73c672e6\"><li class=\"globalnav-submenu-list-item-elevated\" style=\"--r-globalnav-flyout-item-number: 2;\"><a href=\"https://support.apple.com/en-mk/iphone?cid=gn-ols-iphone-psp-explore\" class=\"globalnav-submenu-link\" data-analytics-title=\"iphone\" data-analytics-exit-link=\"true\">iPhone</a></li><li class=\"globalnav-submenu-list-item-elevated\" style=\"--r-globalnav-flyout-item-number: 3;\"><a href=\"https://support.apple.com/en-euro/mac?cid=gn-ols-mac-psp-explore\" class=\"globalnav-submenu-link\" data-analytics-title=\"mac\" data-analytics-exit-link=\"true\">Mac</a></li><li class=\"globalnav-submenu-list-item-elevated\" style=\"--r-globalnav-flyout-item-number: 4;\"><a href=\"https://support.apple.com/en-euro/ipad?cid=gn-ols-ipad-psp-explore\" class=\"globalnav-submenu-link\" data-analytics-title=\"ipad\" data-analytics-exit-link=\"true\">iPad</a></li><li class=\"globalnav-submenu-list-item-elevated\" style=\"--r-globalnav-flyout-item-number: 5;\"><a href=\"https://support.apple.com/en-mk/music?cid=gn-ols-music-psp-explore\" class=\"globalnav-submenu-link\" data-analytics-title=\"music\" data-analytics-exit-link=\"true\">Music</a></li><li class=\"globalnav-submenu-list-item\" style=\"--r-globalnav-flyout-item-number: 6;\"><a href=\"https://support.apple.com/en-mk/?cid=gn-ols-home-hp-explore\" class=\"globalnav-submenu-link\" data-analytics-title=\"explore all support\" data-analytics-exit-link=\"true\">Explore Support</a></li></ul></div><div class=\"globalnav-submenu-group \" data-analytics-region=\"get help\" style=\"--r-globalnav-flyout-group-number: 1;\"><h2 class=\"globalnav-submenu-header\" id=\"ce2a260b\" style=\"--r-globalnav-flyout-item-number: 1;\">Get Help</h2><ul class=\"globalnav-submenu-list\" aria-labelledby=\"ce2a260b\"><li class=\"globalnav-submenu-list-item\" style=\"--r-globalnav-flyout-item-number: 2;\"><a href=\"https://discussions.apple.com/welcome?cid=gn-com-community-lp-get_help\" class=\"globalnav-submenu-link\" data-analytics-title=\"community\" data-analytics-exit-link=\"true\">Community</a></li><li class=\"globalnav-submenu-list-item\" style=\"--r-globalnav-flyout-item-number: 3;\"><a href=\"https://checkcoverage.apple.com/mk/en?cid=gn-ols-checkcoverage-lp-get_help\" class=\"globalnav-submenu-link\" data-analytics-title=\"check coverage\" data-analytics-exit-link=\"true\">Check Coverage</a></li><li class=\"globalnav-submenu-list-item\" style=\"--r-globalnav-flyout-item-number: 4;\"><a href=\"https://support.apple.com/en-mk/contact?cid=gn-ols-contact-lp-get_help\" class=\"globalnav-submenu-link\" data-analytics-title=\"contact us\" data-analytics-exit-link=\"true\">Contact Us</a></li></ul></div><div class=\"globalnav-submenu-group \" data-analytics-region=\"helpful topics\" style=\"--r-globalnav-flyout-group-number: 2;\"><h2 class=\"globalnav-submenu-header\" id=\"2b122f20\" style=\"--r-globalnav-flyout-item-number: 1;\">Helpful Topics</h2><ul class=\"globalnav-submenu-list\" aria-labelledby=\"2b122f20\"><li class=\"globalnav-submenu-list-item\" style=\"--r-globalnav-flyout-item-number: 2;\"><a href=\"https://support.apple.com/en-mk/apple-account?cid=gn-ols-appleaccount-psp-helpful_topics\" class=\"globalnav-submenu-link\" data-analytics-title=\"apple account and password\" data-analytics-exit-link=\"true\">Apple Account and Password</a></li><li class=\"globalnav-submenu-list-item\" style=\"--r-globalnav-flyout-item-number: 3;\"><a href=\"https://support.apple.com/en-mk/billing?cid=gn-ols-billing-collection-helpful_topics\" class=\"globalnav-submenu-link\" data-analytics-title=\"billing &amp; subscriptions\" data-analytics-exit-link=\"true\">Billing &amp; Subscriptions</a></li><li class=\"globalnav-submenu-list-item\" style=\"--r-globalnav-flyout-item-number: 4;\"><a href=\"https://support.apple.com/en-mk/accessibility?cid=gn-ols-accessibility-psp-helpful_topics\" class=\"globalnav-submenu-link\" data-analytics-title=\"accessibility\" data-analytics-exit-link=\"true\">Accessibility</a></li></ul></div></div></div></div></div><div data-analytics-element-engagement=\"globalnav hover - where-to-buy\" class=\"\n",
      "\t\t\t\tglobalnav-item\n",
      "\t\t\t\tglobalnav-item-where-to-buy\n",
      "\t\t\t\tglobalnav-item-menu\n",
      "\t\t\t\tglobalnav-item-submenu\n",
      "\t\t\t\" style=\"--r-globalnav-flyout-item-number: 4;\"><ul class=\"globalnav-submenu-trigger-group\"><li class=\"globalnav-submenu-trigger-item\"><a href=\"/mk/buy/\" data-globalnav-item-name=\"where-to-buy\" data-topnav-flyout-trigger-compact=\"true\" data-analytics-title=\"where to buy\" data-analytics-element-engagement=\"hover - where to buy\" aria-label=\"Where to Buy\" class=\"globalnav-link globalnav-submenu-trigger-link globalnav-link-where-to-buy\"><span class=\"globalnav-link-text-container\"><span class=\"globalnav-image-regular globalnav-link-image\"><svg height=\"44\" viewBox=\"0 0 75 44\" width=\"75\" xmlns=\"http://www.w3.org/2000/svg\"><path d=\"m69.7295 28.2349v-.861c.123.023.281.029.422.029.58 0 .896-.275 1.16-1.037l.117-.375-2.338-6.322h1.09l1.735 5.197h.093l1.729-5.197h1.072l-2.467 6.703c-.539 1.465-1.043 1.898-2.162 1.898-.135 0-.31-.012-.451-.035zm-1.646-2.25h-.96v-.99h-.094c-.317.703-.99 1.101-1.957 1.101-1.418 0-2.156-.843-2.156-2.338v-4.089h1.007v3.843c0 1.137.422 1.664 1.43 1.664 1.113 0 1.723-.662 1.723-1.769v-3.738h1.007zm-9.378-.932c1.272 0 1.94-.515 1.94-1.494 0-.978-.692-1.476-2.04-1.476h-1.986v2.97zm-2.086-3.879h1.688c1.277 0 1.927-.457 1.927-1.353 0-.861-.609-1.359-1.658-1.359h-1.957zm-1.055 4.811v-8.455h3.235c1.553 0 2.502.814 2.502 2.109 0 .879-.645 1.676-1.459 1.823v.093c1.154.147 1.887.938 1.887 2.057 0 1.488-1.067 2.373-2.866 2.373zm-6.195-3.158c0-1.5-.674-2.362-1.869-2.362-1.196 0-1.87.862-1.87 2.362 0 1.494.674 2.361 1.87 2.361 1.195 0 1.869-.867 1.869-2.361zm-4.782 0c0-2.033 1.114-3.27 2.913-3.27 1.798 0 2.912 1.237 2.912 3.27 0 2.027-1.114 3.269-2.912 3.269-1.799 0-2.913-1.242-2.913-3.269zm-2.615-4.793v1.635h1.406v.843h-1.406v3.575c0 .744.281 1.06.937 1.06.182 0 .281-.006.469-.023v.849c-.199.035-.393.059-.592.059-1.301 0-1.822-.481-1.822-1.688v-3.832h-1.02v-.843h1.02v-1.635zm-11.219 4.271h3.481c-.024-1.119-.692-1.857-1.693-1.857-1.008 0-1.711.738-1.788 1.857zm4.459 2.045c-.293 1.078-1.277 1.746-2.66 1.746-1.752 0-2.847-1.265-2.847-3.263 0-1.987 1.113-3.276 2.847-3.276 1.705 0 2.742 1.213 2.742 3.176v.387h-4.541v.047c.053 1.248.75 2.039 1.823 2.039.814 0 1.365-.299 1.629-.856zm-9.337-4.681h.961v.937h.094c.188-.615.914-1.049 1.752-1.049.164 0 .375.012.504.03v1.007c-.082-.023-.445-.058-.645-.058-.96 0-1.658.644-1.658 1.535v3.914h-1.008zm-6.122 2.636h3.481c-.024-1.119-.692-1.857-1.693-1.857-1.008 0-1.711.738-1.788 1.857zm4.459 2.045c-.293 1.078-1.277 1.746-2.66 1.746-1.752 0-2.847-1.265-2.847-3.263 0-1.987 1.113-3.276 2.847-3.276 1.705 0 2.742 1.213 2.742 3.176v.387h-4.541v.047c.053 1.248.75 2.039 1.823 2.039.814 0 1.365-.299 1.629-.856zm-12.332-7.189h1.008v3.504h.093c.317-.698.979-1.108 1.946-1.108 1.336 0 2.179.856 2.179 2.338v4.09h-1.007v-3.844c0-1.119-.504-1.676-1.459-1.676-1.131 0-1.752.715-1.752 1.782v3.738h-1.008zm-8.361 8.824h-.996l-2.303-8.455h1.102l1.681 6.873h.071l1.892-6.873h1.067l1.892 6.873h.071l1.681-6.873h1.102l-2.303 8.455h-.996l-1.945-6.674h-.071z\"></path></svg></span><span class=\"globalnav-link-text\">Where to Buy</span></span><span class=\"globalnav-link-chevron\"><svg height=\"48\" viewBox=\"0 0 9 48\" width=\"9\" xmlns=\"http://www.w3.org/2000/svg\"><path d=\"m8.1155 30.358a.6.6 0 1 1 -.831.8653l-7-6.7242a.6.6 0 0 1 -.0045-.8613l7-6.8569a.6.6 0 1 1 .84.8574l-6.5582 6.4238z\"></path></svg></span></a></li><li class=\"globalnav-submenu-trigger-item\"><button id=\"globalnav-menubutton-link-where-to-buy\" class=\"globalnav-submenu-trigger-button\" aria-expanded=\"false\" aria-controls=\"globalnav-submenu-link-where-to-buy\" aria-label=\"Where to Buy menu\" data-topnav-flyout-trigger-regular=\"true\"><span class=\"globalnav-image-regular globalnav-submenu-button-icon\"><svg height=\"10\" viewBox=\"0 0 10 10\" width=\"10\" xmlns=\"http://www.w3.org/2000/svg\"><path d=\"m4.6725 6.635-2.655-2.667a.445.445 0 0 1 -.123-.304.4331.4331 0 0 1 .427-.439h.006a.447.447 0 0 1 .316.135l2.357 2.365 2.356-2.365a.458.458 0 0 1 .316-.135.433.433 0 0 1 .433.433v.006a.4189.4189 0 0 1 -.123.3l-2.655 2.671a.4451.4451 0 0 1 -.327.14.464.464 0 0 1 -.328-.14z\"></path></svg></span><span class=\"globalnav-image-compact globalnav-submenu-button-icon\"><svg height=\"48\" viewBox=\"0 0 9 48\" width=\"9\" xmlns=\"http://www.w3.org/2000/svg\"><path d=\"m7.4382 24.0621-6.5581-6.4238c-.2368-.2319-.2407-.6118-.0088-.8486.2324-.2373.6123-.2407.8486-.0088l7 6.8569c.1157.1138.1807.2695.1802.4316-.001.1621-.0674.3174-.1846.4297l-7 6.7242c-.1162.1118-.2661.1675-.4155.1675-.1577 0-.3149-.062-.4326-.1846-.2295-.2388-.2222-.6187.0171-.8481l6.5537-6.2959z\"></path></svg></span></button></li></ul><div id=\"globalnav-submenu-link-where-to-buy\" class=\"globalnav-flyout globalnav-submenu\" aria-labelledby=\"globalnav-menubutton-link-where-to-buy\" style=\"--r-globalnav-flyout-item-total: 0; --r-globalnav-flyout-group-number: 0; --r-globalnav-flyout-height: 300px; --r-globalnav-flyout-rate: 240ms;\"><div class=\"globalnav-flyout-scroll-container\"><div class=\"globalnav-flyout-content globalnav-submenu-content\" style=\"--r-globalnav-flyout-elevated-group-count: 1; --r-globalnav-flyout-group-total: 0; --r-globalnav-flyout-item-total: 4;\"><div class=\"globalnav-submenu-group globalnav-submenu-group-elevated\" data-analytics-region=\"where to buy\" style=\"--r-globalnav-flyout-group-number: 0;\"><h2 class=\"globalnav-submenu-header\" id=\"1c688ee8\" style=\"--r-globalnav-flyout-item-number: 1;\">Explore</h2><ul class=\"globalnav-submenu-list\" aria-labelledby=\"1c688ee8\"><li class=\"globalnav-submenu-list-item-elevated\" style=\"--r-globalnav-flyout-item-number: 2;\"><a href=\"https://locate.apple.com/mk/en/sales\" class=\"globalnav-submenu-link\" data-analytics-title=\"authorized resellers\" data-analytics-exit-link=\"true\">Authorized Resellers</a></li><li class=\"globalnav-submenu-list-item-elevated\" style=\"--r-globalnav-flyout-item-number: 3;\"><a href=\"https://locate.apple.com/mk/en/service\" class=\"globalnav-submenu-link\" data-analytics-title=\"service &amp; support\" data-analytics-exit-link=\"true\">Service &amp; Support</a></li><li class=\"globalnav-submenu-list-item\" style=\"--r-globalnav-flyout-item-number: 4;\"><a href=\"/mk/buy/\" class=\"globalnav-submenu-link\" data-analytics-title=\"explore all ways to buy\" aria-label=\"Explore all ways to buy Apple products\">Explore All Ways to Buy</a></li></ul></div></div></div></div></div></div></div></li><li data-topnav-flyout-label=\"Search apple.com\" class=\"globalnav-item globalnav-search shift-0-0 globalnav-search-no-results\" data-globalnav-iconflyout-enabled=\"true\" data-analytics-region=\"search\"><a role=\"button\" id=\"globalnav-menubutton-link-search\" href=\"/mk/search\" data-topnav-flyout-trigger-regular=\"true\" data-topnav-flyout-trigger-compact=\"true\" aria-label=\"Search apple.com\" data-analytics-title=\"open - search field\" class=\"globalnav-link globalnav-link-search\"><span class=\"globalnav-image-regular\"><svg xmlns=\"http://www.w3.org/2000/svg\" width=\"15px\" height=\"44px\" viewBox=\"0 0 15 44\">\n",
      "<path d=\"M14.298,27.202l-3.87-3.87c0.701-0.929,1.122-2.081,1.122-3.332c0-3.06-2.489-5.55-5.55-5.55c-3.06,0-5.55,2.49-5.55,5.55 c0,3.061,2.49,5.55,5.55,5.55c1.251,0,2.403-0.421,3.332-1.122l3.87,3.87c0.151,0.151,0.35,0.228,0.548,0.228 s0.396-0.076,0.548-0.228C14.601,27.995,14.601,27.505,14.298,27.202z M1.55,20c0-2.454,1.997-4.45,4.45-4.45 c2.454,0,4.45,1.997,4.45,4.45S8.454,24.45,6,24.45C3.546,24.45,1.55,22.454,1.55,20z\"></path>\n",
      "</svg>\n",
      "</span><span class=\"globalnav-image-compact\"><svg height=\"48\" viewBox=\"0 0 17 48\" width=\"17\" xmlns=\"http://www.w3.org/2000/svg\"><path d=\"m16.2294 29.9556-4.1755-4.0821a6.4711 6.4711 0 1 0 -1.2839 1.2625l4.2005 4.1066a.9.9 0 1 0 1.2588-1.287zm-14.5294-8.0017a5.2455 5.2455 0 1 1 5.2455 5.2527 5.2549 5.2549 0 0 1 -5.2455-5.2527z\"></path></svg></span></a><div id=\"globalnav-submenu-search\" aria-labelledby=\"globalnav-menubutton-link-search\" class=\"globalnav-flyout globalnav-submenu\" style=\"--r-globalnav-flyout-item-total: 0; --r-globalnav-flyout-group-number: 0; --r-globalnav-flyout-height: 228px; --r-globalnav-flyout-rate: 240ms;\"><div class=\"globalnav-flyout-scroll-container\"><div class=\"globalnav-flyout-content globalnav-submenu-content\"><form action=\"/mk/search\" method=\"get\" class=\"globalnav-searchfield\"><div class=\"globalnav-searchfield-wrapper\"><input placeholder=\"Search apple.com\" aria-label=\"Search apple.com\" autocorrect=\"off\" autocapitalize=\"off\" autocomplete=\"off\" class=\"globalnav-searchfield-input\"><input id=\"globalnav-searchfield-src\" type=\"hidden\" name=\"src\" value=\"globalnav\"><button aria-label=\"Clear search\" tabindex=\"-1\" type=\"button\" class=\"globalnav-searchfield-reset\" disabled=\"\" aria-hidden=\"true\"><span class=\"globalnav-image-regular\"><svg height=\"14\" viewBox=\"0 0 14 14\" width=\"14\" xmlns=\"http://www.w3.org/2000/svg\"><path d=\"m7 .0339a6.9661 6.9661 0 1 0 6.9661 6.9661 6.9661 6.9661 0 0 0 -6.9661-6.9661zm2.798 8.9867a.55.55 0 0 1 -.778.7774l-2.02-2.02-2.02 2.02a.55.55 0 0 1 -.7784-.7774l2.0206-2.0206-2.0204-2.02a.55.55 0 0 1 .7782-.7778l2.02 2.02 2.02-2.02a.55.55 0 0 1 .778.7778l-2.0203 2.02z\"></path></svg></span><span class=\"globalnav-image-compact\"><svg height=\"16\" viewBox=\"0 0 16 16\" width=\"16\" xmlns=\"http://www.w3.org/2000/svg\"><path d=\"m0 8a8.0474 8.0474 0 0 1 7.9922-8 8.0609 8.0609 0 0 1 8.0078 8 8.0541 8.0541 0 0 1 -8 8 8.0541 8.0541 0 0 1 -8-8zm5.6549 3.2863 2.3373-2.353 2.3451 2.353a.6935.6935 0 0 0 .4627.1961.6662.6662 0 0 0 .6667-.6667.6777.6777 0 0 0 -.1961-.4706l-2.3451-2.3373 2.3529-2.3607a.5943.5943 0 0 0 .1961-.4549.66.66 0 0 0 -.6667-.6589.6142.6142 0 0 0 -.447.1961l-2.3686 2.3606-2.353-2.3527a.6152.6152 0 0 0 -.447-.1883.6529.6529 0 0 0 -.6667.651.6264.6264 0 0 0 .1961.4549l2.3451 2.3529-2.3451 2.353a.61.61 0 0 0 -.1961.4549.6661.6661 0 0 0 .6667.6667.6589.6589 0 0 0 .4627-.1961z\"></path></svg></span></button><button aria-label=\"Submit search\" tabindex=\"-1\" aria-hidden=\"true\" type=\"submit\" class=\"globalnav-searchfield-submit\" disabled=\"\"><span class=\"globalnav-image-regular\"><svg height=\"32\" viewBox=\"0 0 30 32\" width=\"30\" xmlns=\"http://www.w3.org/2000/svg\"><path d=\"m23.3291 23.3066-4.35-4.35c-.0105-.0105-.0247-.0136-.0355-.0235a6.8714 6.8714 0 1 0 -1.5736 1.4969c.0214.0256.03.0575.0542.0815l4.35 4.35a1.1 1.1 0 1 0 1.5557-1.5547zm-15.4507-8.582a5.6031 5.6031 0 1 1 5.603 5.61 5.613 5.613 0 0 1 -5.603-5.61z\"></path></svg></span><span class=\"globalnav-image-compact\"><svg width=\"38\" height=\"40\" viewBox=\"0 0 38 40\" xmlns=\"http://www.w3.org/2000/svg\"><path d=\"m28.6724 27.8633-5.07-5.07c-.0095-.0095-.0224-.0122-.032-.0213a7.9967 7.9967 0 1 0 -1.8711 1.7625c.0254.03.0357.0681.0642.0967l5.07 5.07a1.3 1.3 0 0 0 1.8389-1.8379zm-18.0035-10.0033a6.5447 6.5447 0 1 1 6.545 6.5449 6.5518 6.5518 0 0 1 -6.545-6.5449z\"></path></svg></span></button></div><div role=\"status\" aria-live=\"polite\" data-topnav-searchresults-label=\"total results\" class=\"globalnav-searchresults-count\">0 total results</div></form><div class=\"globalnav-searchresults\"><div class=\"globalnav-searchresults-current\"></div></div></div></div></div></li></ul><div class=\"globalnav-menutrigger\"><button id=\"globalnav-menutrigger-button\" aria-controls=\"globalnav-list\" aria-label=\"Menu\" data-topnav-menu-label-open=\"Menu\" data-topnav-menu-label-close=\"Close\" data-topnav-flyout-trigger-compact=\"menu\" class=\"globalnav-menutrigger-button\"><svg width=\"18\" height=\"18\" viewBox=\"0 0 18 18\"><polyline id=\"globalnav-menutrigger-bread-bottom\" fill=\"none\" stroke=\"currentColor\" stroke-width=\"1.2\" stroke-linecap=\"round\" stroke-linejoin=\"round\" points=\"2 12, 16 12\" class=\"globalnav-menutrigger-bread globalnav-menutrigger-bread-bottom\"><animate id=\"globalnav-anim-menutrigger-bread-bottom-open\" attributeName=\"points\" keyTimes=\"0;0.5;1\" dur=\"0.24s\" begin=\"indefinite\" fill=\"freeze\" calcMode=\"spline\" keySplines=\"0.42, 0, 1, 1;0, 0, 0.58, 1\" values=\" 2 12, 16 12; 2 9, 16 9; 3.5 15, 15 3.5\"></animate><animate id=\"globalnav-anim-menutrigger-bread-bottom-close\" attributeName=\"points\" keyTimes=\"0;0.5;1\" dur=\"0.24s\" begin=\"indefinite\" fill=\"freeze\" calcMode=\"spline\" keySplines=\"0.42, 0, 1, 1;0, 0, 0.58, 1\" values=\" 3.5 15, 15 3.5; 2 9, 16 9; 2 12, 16 12\"></animate></polyline><polyline id=\"globalnav-menutrigger-bread-top\" fill=\"none\" stroke=\"currentColor\" stroke-width=\"1.2\" stroke-linecap=\"round\" stroke-linejoin=\"round\" points=\"2 5, 16 5\" class=\"globalnav-menutrigger-bread globalnav-menutrigger-bread-top\"><animate id=\"globalnav-anim-menutrigger-bread-top-open\" attributeName=\"points\" keyTimes=\"0;0.5;1\" dur=\"0.24s\" begin=\"indefinite\" fill=\"freeze\" calcMode=\"spline\" keySplines=\"0.42, 0, 1, 1;0, 0, 0.58, 1\" values=\" 2 5, 16 5; 2 9, 16 9; 3.5 3.5, 15 15\"></animate><animate id=\"globalnav-anim-menutrigger-bread-top-close\" attributeName=\"points\" keyTimes=\"0;0.5;1\" dur=\"0.24s\" begin=\"indefinite\" fill=\"freeze\" calcMode=\"spline\" keySplines=\"0.42, 0, 1, 1;0, 0, 0.58, 1\" values=\" 3.5 3.5, 15 15; 2 9, 16 9; 2 5, 16 5\"></animate></polyline></svg></button></div></div><span style=\"visibility: hidden; position: absolute; top: 0px; z-index: -1;\">&nbsp;</span></nav><div id=\"globalnav-curtain\" class=\"globalnav-curtain\"></div><div id=\"globalnav-placeholder\" class=\"globalnav-placeholder\"></div></div><script id=\"__ACGH_DATA__\" type=\"application/json\">{\"props\":{\"globalNavData\":{\"locale\":\"en_MK\",\"ariaLabel\":\"Global\",\"analyticsAttributes\":[{\"name\":\"data-analytics-activitymap-region-id\",\"value\":\"global nav\"},{\"name\":\"data-analytics-region\",\"value\":\"global nav\"}],\"links\":[{\"id\":\"6c8de98ee80e1d31f9dd6d963f0ab5f37f861c51236fb7f9dd0bfe0dc6d9d833\",\"name\":\"apple\",\"text\":\"Apple\",\"url\":\"/mk/\",\"ariaLabel\":\"Apple\",\"submenuAriaLabel\":\"Apple menu\",\"images\":[{\"name\":\"regular\",\"assetInline\":\"<svg height=\\\"44\\\" viewBox=\\\"0 0 14 44\\\" width=\\\"14\\\" xmlns=\\\"http://www.w3.org/2000/svg\\\"><path d=\\\"m13.0729 17.6825a3.61 3.61 0 0 0 -1.7248 3.0365 3.5132 3.5132 0 0 0 2.1379 3.2223 8.394 8.394 0 0 1 -1.0948 2.2618c-.6816.9812-1.3943 1.9623-2.4787 1.9623s-1.3633-.63-2.613-.63c-1.2187 0-1.6525.6507-2.644.6507s-1.6834-.9089-2.4787-2.0243a9.7842 9.7842 0 0 1 -1.6628-5.2776c0-3.0984 2.014-4.7405 3.9969-4.7405 1.0535 0 1.9314.6919 2.5924.6919.63 0 1.6112-.7333 2.8092-.7333a3.7579 3.7579 0 0 1 3.1604 1.5802zm-3.7284-2.8918a3.5615 3.5615 0 0 0 .8469-2.22 1.5353 1.5353 0 0 0 -.031-.32 3.5686 3.5686 0 0 0 -2.3445 1.2084 3.4629 3.4629 0 0 0 -.8779 2.1585 1.419 1.419 0 0 0 .031.2892 1.19 1.19 0 0 0 .2169.0207 3.0935 3.0935 0 0 0 2.1586-1.1368z\\\"/></svg>\"},{\"name\":\"compact\",\"assetInline\":\"<svg height=\\\"48\\\" viewBox=\\\"0 0 17 48\\\" width=\\\"17\\\" xmlns=\\\"http://www.w3.org/2000/svg\\\"><path d=\\\"m15.5752 19.0792a4.2055 4.2055 0 0 0 -2.01 3.5376 4.0931 4.0931 0 0 0 2.4908 3.7542 9.7779 9.7779 0 0 1 -1.2755 2.6351c-.7941 1.1431-1.6244 2.2862-2.8878 2.2862s-1.5883-.734-3.0443-.734c-1.42 0-1.9252.7581-3.08.7581s-1.9611-1.0589-2.8876-2.3584a11.3987 11.3987 0 0 1 -1.9373-6.1487c0-3.61 2.3464-5.523 4.6566-5.523 1.2274 0 2.25.8062 3.02.8062.734 0 1.8771-.8543 3.2729-.8543a4.3778 4.3778 0 0 1 3.6822 1.841zm-6.8586-2.0456a1.3865 1.3865 0 0 1 -.2527-.024 1.6557 1.6557 0 0 1 -.0361-.337 4.0341 4.0341 0 0 1 1.0228-2.5148 4.1571 4.1571 0 0 1 2.7314-1.4078 1.7815 1.7815 0 0 1 .0361.373 4.1487 4.1487 0 0 1 -.9867 2.587 3.6039 3.6039 0 0 1 -2.5148 1.3236z\\\"/></svg>\"}],\"analyticsAttributes\":[{\"name\":\"data-analytics-title\",\"value\":\"apple home\"}]},{\"id\":\"cd09240ad427fdb69e032b3cdb839d805325cdfe6c34d6729fb5a5fb070d3495\",\"name\":\"mac\",\"text\":\"Mac\",\"url\":\"/mk/mac/\",\"ariaLabel\":\"Mac\",\"submenuAriaLabel\":\"Mac menu\",\"images\":[{\"name\":\"regular\",\"assetInline\":\"<svg height=\\\"44\\\" viewBox=\\\"0 0 23 44\\\" width=\\\"23\\\" xmlns=\\\"http://www.w3.org/2000/svg\\\"><path d=\\\"m8.1558 25.9987v-6.457h-.0703l-2.666 6.457h-.8907l-2.666-6.457h-.0703v6.457h-.9844v-8.4551h1.2246l2.8945 7.0547h.0938l2.8945-7.0547h1.2246v8.4551zm2.5166-1.7696c0-1.1309.832-1.7812 2.3027-1.8691l1.8223-.1113v-.5742c0-.7793-.4863-1.207-1.4297-1.207-.7559 0-1.2832.2871-1.4238.7852h-1.0195c.1348-1.0137 1.1309-1.6816 2.4785-1.6816 1.541 0 2.4023.791 2.4023 2.1035v4.3242h-.9609v-.9318h-.0938c-.4102.6738-1.1016 1.043-1.9453 1.043-1.2246 0-2.1328-.7266-2.1328-1.8809zm4.125-.5859v-.5801l-1.6992.1113c-.9609.0645-1.3828.3984-1.3828 1.0312 0 .6445.5449 1.0195 1.2773 1.0195 1.0371.0001 1.8047-.6796 1.8047-1.5819zm6.958-2.0273c-.1641-.627-.7207-1.1367-1.6289-1.1367-1.1367 0-1.8516.9082-1.8516 2.3379 0 1.459.7266 2.3848 1.8516 2.3848.8496 0 1.4414-.3926 1.6289-1.1074h1.0195c-.1816 1.1602-1.125 2.0156-2.6426 2.0156-1.7695 0-2.9004-1.2832-2.9004-3.293 0-1.9688 1.125-3.2461 2.8945-3.2461 1.5352 0 2.4727.9199 2.6484 2.0449z\\\"/></svg>\"}],\"analyticsAttributes\":[{\"name\":\"data-analytics-title\",\"value\":\"mac\"},{\"name\":\"data-analytics-element-engagement\",\"value\":\"hover - mac\"}]},{\"id\":\"7d1daf89d3a86785e5ee89cddde481d3479e0bce8f7fd1444a151e9e64a418b0\",\"name\":\"ipad\",\"text\":\"iPad\",\"url\":\"/mk/ipad/\",\"ariaLabel\":\"iPad\",\"submenuAriaLabel\":\"iPad menu\",\"images\":[{\"name\":\"regular\",\"assetInline\":\"<svg height=\\\"44\\\" viewBox=\\\"0 0 24 44\\\" width=\\\"24\\\" xmlns=\\\"http://www.w3.org/2000/svg\\\"><path d=\\\"m14.9575 23.7002c0 .902-.768 1.582-1.805 1.582-.732 0-1.277-.375-1.277-1.02 0-.632.422-.966 1.383-1.031l1.699-.111zm-1.395-4.072c-1.347 0-2.343.668-2.478 1.681h1.019c.141-.498.668-.785 1.424-.785.944 0 1.43.428 1.43 1.207v.574l-1.822.112c-1.471.088-2.303.738-2.303 1.869 0 1.154.908 1.881 2.133 1.881.844 0 1.535-.369 1.945-1.043h.094v.931h.961v-4.324c0-1.312-.862-2.103-2.403-2.103zm6.769 5.575c-1.155 0-1.846-.885-1.846-2.361 0-1.471.697-2.362 1.846-2.362 1.142 0 1.857.914 1.857 2.362 0 1.459-.709 2.361-1.857 2.361zm1.834-8.027v3.503h-.088c-.358-.691-1.102-1.107-1.981-1.107-1.605 0-2.654 1.289-2.654 3.27 0 1.986 1.037 3.269 2.654 3.269.873 0 1.623-.416 2.022-1.119h.093v1.008h.961v-8.824zm-15.394 4.869h-1.863v-3.563h1.863c1.225 0 1.899.639 1.899 1.799 0 1.119-.697 1.764-1.899 1.764zm.276-4.5h-3.194v8.455h1.055v-3.018h2.127c1.588 0 2.719-1.119 2.719-2.701 0-1.611-1.108-2.736-2.707-2.736zm-6.064 8.454h1.008v-6.316h-1.008zm-.199-8.237c0-.387.316-.704.703-.704s.703.317.703.704c0 .386-.316.703-.703.703s-.703-.317-.703-.703z\\\"/></svg>\"}],\"analyticsAttributes\":[{\"name\":\"data-analytics-title\",\"value\":\"ipad\"},{\"name\":\"data-analytics-element-engagement\",\"value\":\"hover - ipad\"}]},{\"id\":\"76bc99f706ad8196c43535d06a564148d618249832ad3c26911772557a68cc16\",\"name\":\"iphone\",\"text\":\"iPhone\",\"url\":\"/mk/iphone/\",\"ariaLabel\":\"iPhone\",\"submenuAriaLabel\":\"iPhone menu\",\"images\":[{\"name\":\"regular\",\"assetInline\":\"<svg height=\\\"44\\\" viewBox=\\\"0 0 38 44\\\" width=\\\"38\\\" xmlns=\\\"http://www.w3.org/2000/svg\\\"><path d=\\\"m32.7129 22.3203h3.48c-.023-1.119-.691-1.857-1.693-1.857-1.008 0-1.711.738-1.787 1.857zm4.459 2.045c-.293 1.078-1.277 1.746-2.66 1.746-1.752 0-2.848-1.266-2.848-3.264 0-1.986 1.113-3.275 2.848-3.275 1.705 0 2.742 1.213 2.742 3.176v.386h-4.541v.047c.053 1.248.75 2.039 1.822 2.039.815 0 1.366-.298 1.629-.855zm-12.282-4.682h.961v.996h.094c.316-.697.932-1.107 1.898-1.107 1.418 0 2.209.838 2.209 2.338v4.09h-1.007v-3.844c0-1.137-.481-1.676-1.489-1.676s-1.658.674-1.658 1.781v3.739h-1.008zm-2.499 3.158c0-1.5-.674-2.361-1.869-2.361-1.196 0-1.87.861-1.87 2.361 0 1.495.674 2.362 1.87 2.362 1.195 0 1.869-.867 1.869-2.362zm-4.782 0c0-2.033 1.114-3.269 2.913-3.269 1.798 0 2.912 1.236 2.912 3.269 0 2.028-1.114 3.27-2.912 3.27-1.799 0-2.913-1.242-2.913-3.27zm-6.636-5.666h1.008v3.504h.093c.317-.697.979-1.107 1.946-1.107 1.336 0 2.179.855 2.179 2.338v4.09h-1.007v-3.844c0-1.119-.504-1.676-1.459-1.676-1.131 0-1.752.715-1.752 1.781v3.739h-1.008zm-6.015 4.87h1.863c1.202 0 1.899-.645 1.899-1.764 0-1.16-.674-1.799-1.899-1.799h-1.863zm2.139-4.5c1.599 0 2.707 1.125 2.707 2.736 0 1.582-1.131 2.701-2.719 2.701h-2.127v3.018h-1.055v-8.455zm-6.114 8.454h1.008v-6.316h-1.008zm-.2-8.238c0-.386.317-.703.703-.703.387 0 .704.317.704.703 0 .387-.317.704-.704.704-.386 0-.703-.317-.703-.704z\\\"/></svg>\"}],\"analyticsAttributes\":[{\"name\":\"data-analytics-title\",\"value\":\"iphone\"},{\"name\":\"data-analytics-element-engagement\",\"value\":\"hover - iphone\"}]},{\"id\":\"b4dcaea53eef343666e4d2739f8f27188387dd91d6b266e277ec6e465d66b393\",\"name\":\"support\",\"text\":\"Support\",\"url\":\"https://support.apple.com/en-mk/?cid=gn-ols-home-hp-tab\",\"ariaLabel\":\"Support\",\"submenuAriaLabel\":\"Support menu\",\"images\":[{\"name\":\"regular\",\"assetInline\":\"<svg height=\\\"44\\\" viewBox=\\\"0 0 44 44\\\" width=\\\"44\\\" xmlns=\\\"http://www.w3.org/2000/svg\\\"><path d=\\\"m42.1206 18.0337v1.635h1.406v.844h-1.406v3.574c0 .744.281 1.06.937 1.06.182 0 .282-.006.469-.023v.849c-.199.036-.392.059-.592.059-1.3 0-1.822-.48-1.822-1.687v-3.832h-1.019v-.844h1.019v-1.635zm-6.131 1.635h.961v.937h.093c.188-.615.914-1.049 1.752-1.049.164 0 .375.012.504.03v1.008c-.082-.024-.445-.059-.644-.059-.961 0-1.659.644-1.659 1.535v3.914h-1.007zm-2.463 3.158c0-1.5-.674-2.361-1.869-2.361s-1.869.861-1.869 2.361c0 1.494.674 2.361 1.869 2.361s1.869-.867 1.869-2.361zm-4.781 0c0-2.033 1.113-3.27 2.912-3.27s2.912 1.237 2.912 3.27c0 2.027-1.113 3.27-2.912 3.27s-2.912-1.243-2.912-3.27zm-2.108 0c0-1.477-.692-2.361-1.846-2.361-1.143 0-1.863.908-1.863 2.361 0 1.447.72 2.361 1.857 2.361 1.16 0 1.852-.884 1.852-2.361zm1.043 0c0 1.975-1.049 3.27-2.655 3.27-.902 0-1.629-.393-1.974-1.061h-.094v3.059h-1.008v-8.426h.961v1.054h.094c.404-.726 1.16-1.166 2.021-1.166 1.612 0 2.655 1.284 2.655 3.27zm-8.048 0c0-1.477-.691-2.361-1.845-2.361-1.143 0-1.864.908-1.864 2.361 0 1.447.721 2.361 1.858 2.361 1.16 0 1.851-.884 1.851-2.361zm1.043 0c0 1.975-1.049 3.27-2.654 3.27-.902 0-1.629-.393-1.975-1.061h-.093v3.059h-1.008v-8.426h.961v1.054h.093c.405-.726 1.161-1.166 2.022-1.166 1.611 0 2.654 1.284 2.654 3.27zm-7.645 3.158h-.961v-.99h-.094c-.316.703-.99 1.102-1.957 1.102-1.418 0-2.156-.844-2.156-2.338v-4.09h1.008v3.844c0 1.136.422 1.664 1.43 1.664 1.113 0 1.722-.663 1.722-1.77v-3.738h1.008zm-11.69-2.209c.129.885.972 1.447 2.174 1.447 1.136 0 1.974-.615 1.974-1.453 0-.72-.527-1.177-1.693-1.47l-1.084-.282c-1.529-.386-2.192-1.078-2.192-2.279 0-1.435 1.202-2.408 2.989-2.408 1.634 0 2.853.973 2.941 2.338h-1.06c-.147-.867-.862-1.383-1.916-1.383-1.125 0-1.87.562-1.87 1.418 0 .662.463 1.043 1.629 1.342l.885.234c1.752.44 2.455 1.119 2.455 2.361 0 1.553-1.224 2.543-3.158 2.543-1.793 0-3.029-.949-3.141-2.408z\\\"/></svg>\"}],\"analyticsAttributes\":[{\"name\":\"data-analytics-title\",\"value\":\"support\"},{\"name\":\"data-analytics-element-engagement\",\"value\":\"hover - support\"},{\"name\":\"data-analytics-exit-link\",\"value\":\"true\"}]},{\"id\":\"e603fda6d2e04591ff605728025b907e39356f9b3aaae88d9d43131cb7c1ae6c\",\"name\":\"where-to-buy\",\"text\":\"Where to Buy\",\"url\":\"/mk/buy/\",\"ariaLabel\":\"Where to Buy\",\"submenuAriaLabel\":\"Where to Buy menu\",\"images\":[{\"name\":\"regular\",\"assetInline\":\"<svg height=\\\"44\\\" viewBox=\\\"0 0 75 44\\\" width=\\\"75\\\" xmlns=\\\"http://www.w3.org/2000/svg\\\"><path d=\\\"m69.7295 28.2349v-.861c.123.023.281.029.422.029.58 0 .896-.275 1.16-1.037l.117-.375-2.338-6.322h1.09l1.735 5.197h.093l1.729-5.197h1.072l-2.467 6.703c-.539 1.465-1.043 1.898-2.162 1.898-.135 0-.31-.012-.451-.035zm-1.646-2.25h-.96v-.99h-.094c-.317.703-.99 1.101-1.957 1.101-1.418 0-2.156-.843-2.156-2.338v-4.089h1.007v3.843c0 1.137.422 1.664 1.43 1.664 1.113 0 1.723-.662 1.723-1.769v-3.738h1.007zm-9.378-.932c1.272 0 1.94-.515 1.94-1.494 0-.978-.692-1.476-2.04-1.476h-1.986v2.97zm-2.086-3.879h1.688c1.277 0 1.927-.457 1.927-1.353 0-.861-.609-1.359-1.658-1.359h-1.957zm-1.055 4.811v-8.455h3.235c1.553 0 2.502.814 2.502 2.109 0 .879-.645 1.676-1.459 1.823v.093c1.154.147 1.887.938 1.887 2.057 0 1.488-1.067 2.373-2.866 2.373zm-6.195-3.158c0-1.5-.674-2.362-1.869-2.362-1.196 0-1.87.862-1.87 2.362 0 1.494.674 2.361 1.87 2.361 1.195 0 1.869-.867 1.869-2.361zm-4.782 0c0-2.033 1.114-3.27 2.913-3.27 1.798 0 2.912 1.237 2.912 3.27 0 2.027-1.114 3.269-2.912 3.269-1.799 0-2.913-1.242-2.913-3.269zm-2.615-4.793v1.635h1.406v.843h-1.406v3.575c0 .744.281 1.06.937 1.06.182 0 .281-.006.469-.023v.849c-.199.035-.393.059-.592.059-1.301 0-1.822-.481-1.822-1.688v-3.832h-1.02v-.843h1.02v-1.635zm-11.219 4.271h3.481c-.024-1.119-.692-1.857-1.693-1.857-1.008 0-1.711.738-1.788 1.857zm4.459 2.045c-.293 1.078-1.277 1.746-2.66 1.746-1.752 0-2.847-1.265-2.847-3.263 0-1.987 1.113-3.276 2.847-3.276 1.705 0 2.742 1.213 2.742 3.176v.387h-4.541v.047c.053 1.248.75 2.039 1.823 2.039.814 0 1.365-.299 1.629-.856zm-9.337-4.681h.961v.937h.094c.188-.615.914-1.049 1.752-1.049.164 0 .375.012.504.03v1.007c-.082-.023-.445-.058-.645-.058-.96 0-1.658.644-1.658 1.535v3.914h-1.008zm-6.122 2.636h3.481c-.024-1.119-.692-1.857-1.693-1.857-1.008 0-1.711.738-1.788 1.857zm4.459 2.045c-.293 1.078-1.277 1.746-2.66 1.746-1.752 0-2.847-1.265-2.847-3.263 0-1.987 1.113-3.276 2.847-3.276 1.705 0 2.742 1.213 2.742 3.176v.387h-4.541v.047c.053 1.248.75 2.039 1.823 2.039.814 0 1.365-.299 1.629-.856zm-12.332-7.189h1.008v3.504h.093c.317-.698.979-1.108 1.946-1.108 1.336 0 2.179.856 2.179 2.338v4.09h-1.007v-3.844c0-1.119-.504-1.676-1.459-1.676-1.131 0-1.752.715-1.752 1.782v3.738h-1.008zm-8.361 8.824h-.996l-2.303-8.455h1.102l1.681 6.873h.071l1.892-6.873h1.067l1.892 6.873h.071l1.681-6.873h1.102l-2.303 8.455h-.996l-1.945-6.674h-.071z\\\"/></svg>\"}],\"analyticsAttributes\":[{\"name\":\"data-analytics-title\",\"value\":\"where to buy\"},{\"name\":\"data-analytics-element-engagement\",\"value\":\"hover - where to buy\"}]}],\"search\":{\"analyticsAttributes\":[{\"name\":\"data-analytics-region\",\"value\":\"search\"}],\"open\":{\"url\":\"/mk/search\",\"images\":[{\"name\":\"regular\",\"assetInline\":\"<svg xmlns=\\\"http://www.w3.org/2000/svg\\\" width=\\\"15px\\\" height=\\\"44px\\\" viewBox=\\\"0 0 15 44\\\">\\n<path d=\\\"M14.298,27.202l-3.87-3.87c0.701-0.929,1.122-2.081,1.122-3.332c0-3.06-2.489-5.55-5.55-5.55c-3.06,0-5.55,2.49-5.55,5.55 c0,3.061,2.49,5.55,5.55,5.55c1.251,0,2.403-0.421,3.332-1.122l3.87,3.87c0.151,0.151,0.35,0.228,0.548,0.228 s0.396-0.076,0.548-0.228C14.601,27.995,14.601,27.505,14.298,27.202z M1.55,20c0-2.454,1.997-4.45,4.45-4.45 c2.454,0,4.45,1.997,4.45,4.45S8.454,24.45,6,24.45C3.546,24.45,1.55,22.454,1.55,20z\\\"/>\\n</svg>\\n\"},{\"name\":\"compact\",\"assetInline\":\"<svg height=\\\"48\\\" viewBox=\\\"0 0 17 48\\\" width=\\\"17\\\" xmlns=\\\"http://www.w3.org/2000/svg\\\"><path d=\\\"m16.2294 29.9556-4.1755-4.0821a6.4711 6.4711 0 1 0 -1.2839 1.2625l4.2005 4.1066a.9.9 0 1 0 1.2588-1.287zm-14.5294-8.0017a5.2455 5.2455 0 1 1 5.2455 5.2527 5.2549 5.2549 0 0 1 -5.2455-5.2527z\\\"/></svg>\"}],\"ariaLabel\":\"Search apple.com\",\"analyticsAttributes\":[{\"name\":\"data-analytics-title\",\"value\":\"open - search field\"}]},\"close\":{\"ariaLabel\":\"Close\"},\"input\":{\"placeholderTextRegular\":\"Search apple.com\",\"placeholderTextCompact\":\"Search\",\"ariaLabel\":\"Search apple.com\"},\"submit\":{\"images\":[{\"name\":\"regular\",\"assetInline\":\"<svg height=\\\"32\\\" viewBox=\\\"0 0 30 32\\\" width=\\\"30\\\" xmlns=\\\"http://www.w3.org/2000/svg\\\"><path d=\\\"m23.3291 23.3066-4.35-4.35c-.0105-.0105-.0247-.0136-.0355-.0235a6.8714 6.8714 0 1 0 -1.5736 1.4969c.0214.0256.03.0575.0542.0815l4.35 4.35a1.1 1.1 0 1 0 1.5557-1.5547zm-15.4507-8.582a5.6031 5.6031 0 1 1 5.603 5.61 5.613 5.613 0 0 1 -5.603-5.61z\\\"/></svg>\"},{\"name\":\"compact\",\"assetInline\":\"<svg width=\\\"38\\\" height=\\\"40\\\" viewBox=\\\"0 0 38 40\\\" xmlns=\\\"http://www.w3.org/2000/svg\\\"><path d=\\\"m28.6724 27.8633-5.07-5.07c-.0095-.0095-.0224-.0122-.032-.0213a7.9967 7.9967 0 1 0 -1.8711 1.7625c.0254.03.0357.0681.0642.0967l5.07 5.07a1.3 1.3 0 0 0 1.8389-1.8379zm-18.0035-10.0033a6.5447 6.5447 0 1 1 6.545 6.5449 6.5518 6.5518 0 0 1 -6.545-6.5449z\\\"/></svg>\"}],\"ariaLabel\":\"Submit search\"},\"reset\":{\"images\":[{\"name\":\"regular\",\"assetInline\":\"<svg height=\\\"14\\\" viewBox=\\\"0 0 14 14\\\" width=\\\"14\\\" xmlns=\\\"http://www.w3.org/2000/svg\\\"><path d=\\\"m7 .0339a6.9661 6.9661 0 1 0 6.9661 6.9661 6.9661 6.9661 0 0 0 -6.9661-6.9661zm2.798 8.9867a.55.55 0 0 1 -.778.7774l-2.02-2.02-2.02 2.02a.55.55 0 0 1 -.7784-.7774l2.0206-2.0206-2.0204-2.02a.55.55 0 0 1 .7782-.7778l2.02 2.02 2.02-2.02a.55.55 0 0 1 .778.7778l-2.0203 2.02z\\\"/></svg>\"},{\"name\":\"compact\",\"assetInline\":\"<svg height=\\\"16\\\" viewBox=\\\"0 0 16 16\\\" width=\\\"16\\\" xmlns=\\\"http://www.w3.org/2000/svg\\\"><path d=\\\"m0 8a8.0474 8.0474 0 0 1 7.9922-8 8.0609 8.0609 0 0 1 8.0078 8 8.0541 8.0541 0 0 1 -8 8 8.0541 8.0541 0 0 1 -8-8zm5.6549 3.2863 2.3373-2.353 2.3451 2.353a.6935.6935 0 0 0 .4627.1961.6662.6662 0 0 0 .6667-.6667.6777.6777 0 0 0 -.1961-.4706l-2.3451-2.3373 2.3529-2.3607a.5943.5943 0 0 0 .1961-.4549.66.66 0 0 0 -.6667-.6589.6142.6142 0 0 0 -.447.1961l-2.3686 2.3606-2.353-2.3527a.6152.6152 0 0 0 -.447-.1883.6529.6529 0 0 0 -.6667.651.6264.6264 0 0 0 .1961.4549l2.3451 2.3529-2.3451 2.353a.61.61 0 0 0 -.1961.4549.6661.6661 0 0 0 .6667.6667.6589.6589 0 0 0 .4627-.1961z\\\" /></svg>\"}],\"ariaLabel\":\"Clear search\"},\"results\":{\"ariaLabel\":\"total results\"},\"defaultLinks\":{\"title\":\"Quick Links\",\"images\":[{\"name\":\"regular\",\"assetInline\":\"<svg height=\\\"16\\\" viewBox=\\\"0 0 9 16\\\" width=\\\"9\\\" xmlns=\\\"http://www.w3.org/2000/svg\\\"><path d=\\\"m8.6124 8.1035-2.99 2.99a.5.5 0 0 1 -.7071-.7071l2.1366-2.1364h-6.316a.5.5 0 0 1 0-1h6.316l-2.1368-2.1367a.5.5 0 0 1 .7071-.7071l2.99 2.99a.5.5 0 0 1 .0002.7073z\\\"/></svg>\"},{\"name\":\"compact\",\"assetInline\":\"<svg height=\\\"25\\\" viewBox=\\\"0 0 13 25\\\" width=\\\"13\\\" xmlns=\\\"http://www.w3.org/2000/svg\\\"><path d=\\\"m12.3577 13.4238-4.4444 4.4444a.6.6 0 0 1 -.8486-.8477l3.37-3.37h-9.3231a.65.65 0 0 1 0-1.3008h9.3232l-3.37-3.37a.6.6 0 0 1 .8486-.8477l4.4444 4.4444a.5989.5989 0 0 1 -.0001.8474z\\\"/></svg>\"}],\"analyticsAttributes\":[{\"name\":\"data-analytics-region\",\"value\":\"defaultlinks search\"}]},\"defaultLinksApiUrl\":\"/search-services/suggestions/defaultlinks/\",\"suggestedLinks\":{\"title\":\"Suggested Links\",\"images\":[{\"name\":\"regular\",\"assetInline\":\"<svg height=\\\"16\\\" viewBox=\\\"0 0 9 16\\\" width=\\\"9\\\" xmlns=\\\"http://www.w3.org/2000/svg\\\"><path d=\\\"m8.6124 8.1035-2.99 2.99a.5.5 0 0 1 -.7071-.7071l2.1366-2.1364h-6.316a.5.5 0 0 1 0-1h6.316l-2.1368-2.1367a.5.5 0 0 1 .7071-.7071l2.99 2.99a.5.5 0 0 1 .0002.7073z\\\"/></svg>\"},{\"name\":\"compact\",\"assetInline\":\"<svg height=\\\"25\\\" viewBox=\\\"0 0 13 25\\\" width=\\\"13\\\" xmlns=\\\"http://www.w3.org/2000/svg\\\"><path d=\\\"m12.3577 13.4238-4.4444 4.4444a.6.6 0 0 1 -.8486-.8477l3.37-3.37h-9.3231a.65.65 0 0 1 0-1.3008h9.3232l-3.37-3.37a.6.6 0 0 1 .8486-.8477l4.4444 4.4444a.5989.5989 0 0 1 -.0001.8474z\\\"/></svg>\"}],\"analyticsAttributes\":[{\"name\":\"data-analytics-region\",\"value\":\"suggested links\"}]},\"suggestedSearches\":{\"title\":\"Suggested Searches\",\"images\":[{\"name\":\"regular\",\"assetInline\":\"<svg height=\\\"16\\\" viewBox=\\\"0 0 9 16\\\" width=\\\"9\\\" xmlns=\\\"http://www.w3.org/2000/svg\\\"><path d=\\\"m8.6235 11.2266-2.2141-2.2142a3.43 3.43 0 0 0 .7381-2.1124 3.469 3.469 0 1 0 -1.5315 2.8737l2.23 2.23a.55.55 0 0 0 .7773-.7773zm-7.708-4.3266a2.7659 2.7659 0 1 1 2.7657 2.766 2.7694 2.7694 0 0 1 -2.7657-2.766z\\\"/></svg>\"},{\"name\":\"compact\",\"assetInline\":\"<svg height=\\\"25\\\" viewBox=\\\"0 0 13 25\\\" width=\\\"13\\\" xmlns=\\\"http://www.w3.org/2000/svg\\\"><path d=\\\"m12.3936 17.7969-3.1231-3.1231a4.83 4.83 0 0 0 1.023-2.9541 4.89 4.89 0 1 0 -2.1806 4.059v.0006l3.1484 3.1484a.8.8 0 0 0 1.1319-1.1308zm-10.9536-6.0769a3.9768 3.9768 0 1 1 3.976 3.9773 3.981 3.981 0 0 1 -3.976-3.9773z\\\"/></svg>\"}],\"analyticsAttributes\":[{\"name\":\"data-analytics-region\",\"value\":\"suggested search\"}]},\"suggestionsApiUrl\":\"/search-services/suggestions/\"},\"segmentbar\":{\"dataStrings\":{}},\"menu\":{\"open\":{\"ariaLabel\":\"Menu\"},\"close\":{\"ariaLabel\":\"Close\"},\"back\":{\"ariaLabel\":\"Main menu\",\"images\":[{\"name\":\"compact\",\"assetInline\":\"<svg height=\\\"48\\\" viewBox=\\\"0 0 9 48\\\" width=\\\"9\\\" xmlns=\\\"http://www.w3.org/2000/svg\\\"><path d=\\\"m1.5618 24.0621 6.5581-6.4238c.2368-.2319.2407-.6118.0088-.8486-.2324-.2373-.6123-.2407-.8486-.0088l-7 6.8569c-.1157.1138-.1807.2695-.1802.4316.001.1621.0674.3174.1846.4297l7 6.7241c.1162.1118.2661.1675.4155.1675.1577 0 .3149-.062.4326-.1846.2295-.2388.2222-.6187-.0171-.8481z\\\"/></svg>\"}]}},\"submenu\":{\"open\":{\"images\":[{\"name\":\"regular\",\"assetInline\":\"<svg height=\\\"10\\\" viewBox=\\\"0 0 10 10\\\" width=\\\"10\\\" xmlns=\\\"http://www.w3.org/2000/svg\\\"><path d=\\\"m4.6725 6.635-2.655-2.667a.445.445 0 0 1 -.123-.304.4331.4331 0 0 1 .427-.439h.006a.447.447 0 0 1 .316.135l2.357 2.365 2.356-2.365a.458.458 0 0 1 .316-.135.433.433 0 0 1 .433.433v.006a.4189.4189 0 0 1 -.123.3l-2.655 2.671a.4451.4451 0 0 1 -.327.14.464.464 0 0 1 -.328-.14z\\\"/></svg>\"},{\"name\":\"compact\",\"assetInline\":\"<svg height=\\\"48\\\" viewBox=\\\"0 0 9 48\\\" width=\\\"9\\\" xmlns=\\\"http://www.w3.org/2000/svg\\\"><path d=\\\"m7.4382 24.0621-6.5581-6.4238c-.2368-.2319-.2407-.6118-.0088-.8486.2324-.2373.6123-.2407.8486-.0088l7 6.8569c.1157.1138.1807.2695.1802.4316-.001.1621-.0674.3174-.1846.4297l-7 6.7242c-.1162.1118-.2661.1675-.4155.1675-.1577 0-.3149-.062-.4326-.1846-.2295-.2388-.2222-.6187.0171-.8481l6.5537-6.2959z\\\"/></svg>\"}]}},\"textDirection\":\"ltr\",\"wwwDomain\":\"www.apple.com\",\"searchUrlPath\":\"/mk/search\",\"storeUrlPath\":\"\",\"hasAbsoluteUrls\":false,\"hasShopRedirectUrls\":false,\"analyticsType\":\"marcom\",\"storeApiKey\":\"\",\"submenuApiUrl\":\"/api-www/global-elements/global-header/v1/flyouts\"},\"config\":{\"acGlobalHeaderVersion\":\"ac-globalheader-192-20240507-154002\"}}}</script>\n",
      "    <script type=\"text/javascript\" src=\"/api-www/global-elements/global-header/v1/assets/globalheader.umd.js\"></script>\n",
      "\n",
      "\n",
      "\t\n",
      "\n",
      "<script src=\"/metrics/ac-analytics/2.21.0/scripts/ac-analytics.js\" type=\"text/javascript\" charset=\"utf-8\"></script>\n",
      "\n",
      "\t<main class=\"main\" role=\"main\">\n",
      "\t\t<section class=\"homepage-section collection-module\" data-module-template=\"heroes\" data-analytics-region=\"hero\">\n",
      "\t\t\t<div data-unit-id=\"iphone-16-pro\" data-analytics-section-engagement=\"name:hero-iphone-16-pro\">\n",
      "\t<div class=\"module-content\">\n",
      "\t\t<div class=\"unit-wrapper theme-dark split-copy-wrapper\">\n",
      "\t\t\t<a class=\"unit-link\" href=\"/mk/iphone-16-pro/\" target=\"_self\" rel=\"follow\" data-analytics-region=\"learn more\" aria-hidden=\"true\" tabindex=\"-1\">&nbsp;</a>\n",
      "\t\t\t<div class=\"unit-copy-wrapper\">\n",
      "\t\t\t\t<div class=\"split-wrapper-top\">\n",
      "\t\t\t\t\t<h2 class=\"headline\">iPhone&nbsp;16&nbsp;Pro</h2>\n",
      "\t\t\t\t</div>\n",
      "\t\t\t\t<div class=\"split-wrapper-bottom\">\n",
      "\t\t\t\t\t<div class=\"cta-links\">\n",
      "\t\t\t\t\t\t<a class=\"button button-elevated button-primary\" href=\"/mk/iphone-16-pro/\" target=\"_self\" rel=\"follow\" data-analytics-region=\"learn more\" data-analytics-title=\"learn more - iphone 16 pro\" aria-label=\"Learn more, iPhone 16 Pro\">Learn more</a>\n",
      "\t\t\t\t\t</div>\n",
      "\t\t\t\t</div>\n",
      "\t\t\t</div>\n",
      "\t\t\t<div class=\"unit-image-wrapper\">\n",
      "\t\t\t\t<figure class=\"unit-image unit-image-iphone-16-pro-hero-iphone16pro-avail\"></figure>\n",
      "\t\t\t</div>\n",
      "\t\t</div>\n",
      "\t</div>\n",
      "</div>\n",
      "\n",
      "\n",
      "\n",
      "\n",
      "\t\t\t<link rel=\"stylesheet\" href=\"/euro/home/cemea/en-ww/heroes/iphone-16/style.css\" type=\"text/css\">\n",
      "<div data-unit-id=\"iphone-16\" data-analytics-section-engagement=\"name:hero-iphone-16\">\n",
      "\t<div class=\"module-content\">\n",
      "\t\t<div class=\"unit-wrapper theme-dark split-copy-wrapper\">\n",
      "\t\t\t<a class=\"unit-link\" href=\"/mk/iphone-16/\" target=\"_self\" rel=\"follow\" data-analytics-region=\"learn more\" aria-hidden=\"true\" tabindex=\"-1\">&nbsp;</a>\n",
      "\t\t\t\t<div class=\"unit-copy-wrapper\">\n",
      "\t\t\t\t\t<div class=\"split-wrapper-top\">\n",
      "\t\t\t\t\t\t<h2 class=\"headline\">iPhone&nbsp;16</h2>\n",
      "\t\t\t\t\t</div>\n",
      "\t\t\t\t\t<div class=\"split-wrapper-bottom\">\n",
      "\t\t\t\t\t\t<div class=\"cta-links\">\n",
      "\t\t\t\t\t\t\t<a class=\"button button-elevated button-primary\" href=\"/mk/iphone-16/\" target=\"_self\" rel=\"follow\" data-analytics-region=\"learn more\" data-analytics-title=\"learn more - iphone 16\" aria-label=\"Learn more, iPhone 16 \">Learn more</a>\n",
      "\t\t\t\t\t\t</div>\n",
      "\t\t\t\t\t</div>\n",
      "\t\t\t\t</div>\n",
      "\t\t\t\t<div class=\"unit-image-wrapper\">\n",
      "\t\t\t\t\t<figure class=\"unit-image unit-image-iphone-16-hero-iphone16-avail\"></figure>\n",
      "\t\t\t\t</div>\n",
      "\t\t</div>\n",
      "\t</div>\n",
      "</div>\n",
      "\n",
      "\t\t\t\n",
      "\n",
      "\n",
      "<div data-unit-id=\"macbook-air-m3\" data-analytics-section-engagement=\"name:hero-macbook-air-m3\">\n",
      "\t<div class=\"module-content\">\n",
      "\n",
      "\t\t<div class=\"unit-wrapper\">\n",
      "\t\t\t<a class=\"unit-link\" href=\"/mk/macbook-air/\" target=\"_self\" rel=\"follow\" data-analytics-region=\"learn more\" aria-hidden=\"true\" tabindex=\"-1\">&nbsp;</a>\n",
      "\t\t\t<div class=\"unit-copy-wrapper\">\n",
      "\n",
      "\t\t\t\t<h2 class=\"headline\" aria-label=\"MacBook Air\">MacBook&nbsp;Air</h2>\n",
      "\t\t\t\t<p class=\"subhead\">Lean. Mean. M3 machine.</p>\n",
      "\t\t\t\t<div class=\"cta-links\">\n",
      "\t\t\t\t\t<a class=\"button button-elevated button-primary\" href=\"/mk/macbook-air/\" target=\"_self\" rel=\"follow\" data-analytics-region=\"learn more\" data-analytics-title=\"learn more - macbook air with m3 chip\" aria-label=\"Learn more about MacBook Air with M3 chip\">Learn more</a>\n",
      "\n",
      "\t\t\t\t</div>\n",
      "\t\t\t</div>\n",
      "\t\t\t<div class=\"unit-image-wrapper\">\n",
      "\t\t\t\t<figure class=\"unit-image unit-image-macbook-air-m3-hero-macbook-air-m3\">\n",
      "\t\t\t\t</figure>\n",
      "\t\t\t</div>\n",
      "\t\t</div>\n",
      "\t</div>\n",
      "</div>\n",
      "\n",
      "\t\t</section>\n",
      "\t\t<section class=\"homepage-section collection-module\" data-module-template=\"promos\" data-analytics-region=\"promo\">\n",
      "\t\t\n",
      "\n",
      "<div data-unit-id=\"ipad-pro\" data-analytics-section-engagement=\"name:promo-ipad-pro\">\n",
      "    <div class=\"module-content\">\n",
      "\n",
      "        <div class=\"unit-wrapper theme-dark refresh\">\n",
      "            <a class=\"unit-link\" href=\"/mk/ipad-pro/\" target=\"_self\" rel=\"follow\" data-analytics-region=\"learn more\" aria-hidden=\"true\" tabindex=\"-1\">&nbsp;</a>\n",
      "            <div class=\"unit-copy-wrapper\">\n",
      "                <h4 class=\"headline\">iPad&nbsp;Pro</h4>\n",
      "                <h3 class=\"subhead\">Unbelievably thin. <br class=\"large-hide medium-show-inline small-show-inline\">Incredibly&nbsp;powerful.</h3>\n",
      "\n",
      "\n",
      "                <div class=\"cta-links\">\n",
      "                    <a class=\"button button-primary\" href=\"/mk/ipad-pro/\" target=\"_self\" rel=\"follow\" data-analytics-region=\"learn more\" data-analytics-title=\"Learn more about iPad Pro\" aria-label=\"Learn more, iPad Pro\">Learn more</a>\n",
      "                </div>\n",
      "            </div>\n",
      "            <div class=\"unit-image-wrapper\">\n",
      "                <figure class=\"unit-image unit-image-ipad-pro-promo-ipadpro\">\n",
      "                </figure>\n",
      "            </div>\n",
      "        </div>\n",
      "    </div>\n",
      "</div>\n",
      "<link rel=\"stylesheet\" type=\"text/css\" href=\"/euro/home/cemea/en-ww/promos/ipad-pro/style.css\">\n",
      "\n",
      "\t\t\t<div data-unit-id=\"ipad-air\" data-analytics-section-engagement=\"name:promo-ipad-air\">\n",
      "  <div class=\"module-content\">\n",
      "    <div class=\"unit-wrapper\">\n",
      "      <a class=\"unit-link\" href=\"/mk/ipad-air/\" target=\"_self\" rel=\"follow\" data-analytics-region=\"learn more\" aria-hidden=\"true\" tabindex=\"-1\">&nbsp;</a>\n",
      "      <div class=\"unit-copy-wrapper\">\n",
      "        <h3 class=\"logo-image logo-image-ipad-air-promo-logo-ipadair headline\">\n",
      "          <span class=\"visuallyhidden\">iPad&nbsp;Air</span>\n",
      "        </h3>\n",
      "        <p class=\"subhead\">Two sizes. Faster chip. Does it&nbsp;all.</p>\n",
      "\n",
      "        <div class=\"cta-links\">\n",
      "          <a class=\"button  button-primary-dark\" href=\"/mk/ipad-air/\" target=\"_self\" rel=\"follow\" data-analytics-region=\"learn more\" data-analytics-title=\"learn more - ipad air\" aria-label=\"Learn more, iPad Air\">Learn more</a>\n",
      "        </div>\n",
      "      </div>\n",
      "      <div class=\"unit-image-wrapper\">\n",
      "        <figure class=\"unit-image unit-image-ipad-air-promo-ipadair\"></figure>\n",
      "      </div>\n",
      "    </div>\n",
      "  </div>\n",
      "</div>\n",
      "\n",
      "\t\t\t<link rel=\"stylesheet\" href=\"/euro/home/cemea/en-ww/promos/macbook-pro-14-and-16/style.css\" type=\"text/css\">\n",
      "<div data-unit-id=\"macbook-pro-14-and-16\" data-analytics-section-engagement=\"name:promo-macbook-pro-14-and-16\">\n",
      "\t<div class=\"module-content\">\n",
      "\t\t<div class=\"unit-wrapper promo-legacy-top-copy fill-secondary\">\n",
      "\t\t\t<a class=\"unit-link\" href=\"/mk/macbook-pro/\" target=\"_self\" rel=\"follow\" data-analytics-region=\"learn more\" aria-hidden=\"true\" tabindex=\"-1\">&nbsp;</a>\n",
      "\t\t\t<div class=\"unit-copy-wrapper\">\n",
      "\t\t\t\t<h4 class=\"headline\">MacBook&nbsp;Pro</h4>\n",
      "\t\t\t\t<h5 class=\"subhead\" role=\"presentation\">Mind-blowing. Head-turning.</h5>\n",
      "\t\t\t\t<div class=\"cta-links\">\n",
      "\t\t\t\t\t<a class=\"button button-primary\" href=\"/mk/macbook-pro/\" target=\"_self\" rel=\"follow\" data-analytics-region=\"learn more\" data-analytics-title=\"Learn more about MacBook Pro 14 and 16 inch\" aria-label=\"Learn more about MacBook Pro 14 and 16 inch\">Learn more</a>\n",
      "\t\t\t\t</div>\n",
      "\t\t\t</div>\n",
      "\t\t\t<div class=\"unit-image-wrapper\">\n",
      "\t\t\t\t<figure class=\"unit-image unit-image-macbook-pro-14-and-16-promo-mbp\">\n",
      "\t\t\t\t</figure>\n",
      "\t\t\t</div>\n",
      "\t\t</div>\n",
      "\t</div>\n",
      "</div>\n",
      "\t\t\t<div data-unit-id=\"ipad\" data-analytics-section-engagement=\"name:promo-ipad\">\n",
      "\t<div class=\"module-content\">\n",
      "\t\t<div class=\"unit-wrapper promo-legacy-top-copy fill-secondary\">\n",
      "\t\t\t<a class=\"unit-link\" href=\"/mk/ipad-10.9/\" target=\"_self\" rel=\"follow\" data-analytics-region=\"learn more\" aria-hidden=\"true\" tabindex=\"-1\">&nbsp;</a>\n",
      "\t\t\t<div class=\"unit-copy-wrapper\">\n",
      "\t\t\t\t<h4 class=\"headline\">iPad</h4>\n",
      "\t\t\t\t<h5 class=\"subhead\" role=\"presentation\">Lovable. Drawable. Magical.</h5>\n",
      "\t\t\t\t<div class=\"cta-links\">\n",
      "\t\t\t\t\t<a class=\"button button-primary\" href=\"/mk/ipad-10.9/\" target=\"_self\" rel=\"follow\" data-analytics-region=\"learn more\" data-analytics-title=\"Learn more about iPad\" aria-label=\"Learn more about iPad\">Learn more</a>\n",
      "\t\t\t\t</div>\n",
      "\t\t\t</div>\n",
      "\t\t\t<div class=\"unit-image-wrapper\">\n",
      "\t\t\t\t<figure class=\"unit-image unit-image-ipad-promo-ipad\">\n",
      "\t\t\t\t</figure>\n",
      "\t\t\t</div>\n",
      "\t\t</div>\n",
      "\t</div>\n",
      "</div>\n",
      "<link rel=\"stylesheet\" type=\"text/css\" href=\"/euro/home/cemea/en-ww/promos/ipad/style.css\">\n",
      "\t\t</section>\n",
      "\t</main>\n",
      "\t\n",
      "\t<footer class=\"js\" lang=\"en-MK\" id=\"ac-globalfooter\" data-analytics-region=\"global footer\" role=\"contentinfo\" aria-labelledby=\"ac-gf-label\">\n",
      "\t\t<div class=\"ac-gf-content\">\n",
      "\t\t\t<h2 class=\"ac-gf-label\" id=\"ac-gf-label\">Apple Footer</h2>\n",
      "\t\n",
      "\t\t\t\n",
      "    \t<nav class=\"ac-gf-directory \" aria-label=\"Apple Directory\" role=\"navigation\">\n",
      "\t\t<div class=\"ac-gf-directory-column\">\n",
      "\t\t\t<div class=\"ac-gf-directory-column-section\">\n",
      "\t\t\t\t<h3 class=\"ac-gf-directory-column-section-title\">\n",
      "\t\t\t\t\t<span class=\"ac-gf-directory-column-section-title-text\">Explore</span>\n",
      "\t\t\t\t\t<button class=\"ac-gf-directory-column-section-title-button\" disabled=\"\">\n",
      "\t\t\t\t\t\t<span class=\"ac-gf-directory-column-section-title-text\">Explore</span>\n",
      "\t\t\t\t\t\t<span class=\"ac-gf-directory-column-section-title-icon\" aria-hidden=\"true\"><svg class=\"footer-icon-svg\" width=\"11\" height=\"6\" viewBox=\"0 0 11 6\">\n",
      "\t<polyline data-footer-icon-shape=\"\" stroke=\"currentColor\" stroke-linecap=\"round\" stroke-linejoin=\"round\" fill=\"none\" fill-rule=\"evenodd\" points=\"10.075 0.675 5.5 5.323 0.925 0.675\">\n",
      "\t\t<animate data-footer-animate=\"expand\" attributeName=\"points\" values=\"10.075 0.675 5.5 5.323 0.925 0.675;\n",
      "\t\t\t\t\t10.075 3 5.5 3 0.925 3;\n",
      "\t\t\t\t\t10.075 5.325 5.5 0.676 0.925 5.325\" dur=\"320ms\" begin=\"indefinite\" fill=\"freeze\" keyTimes=\"0;\n",
      "\t\t\t\t\t0.5;\n",
      "\t\t\t\t\t1\" calcMode=\"spline\" keySplines=\"0.12, 0, 0.38, 0;\n",
      "\t\t\t\t\t\t0.2, 1, 0.68, 1\"></animate>\n",
      "\t\t<animate data-footer-animate=\"collapse\" attributeName=\"points\" values=\"10.075 5.325 5.5 0.676 0.925 5.325;\n",
      "\t\t\t\t\t10.075 3 5.5 3 0.925 3;\n",
      "\t\t\t\t\t10.075 0.675 5.5 5.323 0.925 0.675\" dur=\"320ms\" begin=\"indefinite\" fill=\"freeze\" keyTimes=\"0;\n",
      "\t\t\t\t\t0.5;\n",
      "\t\t\t\t\t1\" calcMode=\"spline\" keySplines=\"0.2, 0, 0.68, 0;\n",
      "\t\t\t\t\t\t0.2, 1, 0.68, 1\"></animate>\n",
      "\t</polyline>\n",
      "</svg></span>\n",
      "\t\t\t\t\t</button>\n",
      "\t\t\t\t</h3>\n",
      "\t\t\t\t<ul id=\"footer-directory-column-section-products\" class=\"ac-gf-directory-column-section-list\" role=\"list\">\n",
      "\t\t\t\t\t<li class=\"ac-gf-directory-column-section-item\" role=\"listitem\"><a class=\"ac-gf-directory-column-section-link\" href=\"/mk/mac/\" data-analytics-title=\"mac\">Mac</a></li>\n",
      "\t\t\t\t\t<li class=\"ac-gf-directory-column-section-item\" role=\"listitem\"><a class=\"ac-gf-directory-column-section-link\" href=\"/mk/ipad/\" data-analytics-title=\"ipad\">iPad</a></li>\n",
      "\t\t\t\t\t<li class=\"ac-gf-directory-column-section-item\" role=\"listitem\"><a class=\"ac-gf-directory-column-section-link\" href=\"/mk/iphone/\" data-analytics-title=\"iphone\">iPhone</a></li>\n",
      "\t\t\t\t</ul>\n",
      "\t\t\t</div>\n",
      "\t\t</div>\n",
      "\t\t<div class=\"ac-gf-directory-column\">\n",
      "\t\t\t<div class=\"ac-gf-directory-column-section\">\n",
      "\t\t\t\t<h3 class=\"ac-gf-directory-column-section-title\">\n",
      "\t\t\t\t\t<span class=\"ac-gf-directory-column-section-title-text\">Account</span>\n",
      "\t\t\t\t\t<button class=\"ac-gf-directory-column-section-title-button\" disabled=\"\">\n",
      "\t\t\t\t\t\t<span class=\"ac-gf-directory-column-section-title-text\">Account</span>\n",
      "\t\t\t\t\t\t<span class=\"ac-gf-directory-column-section-title-icon\" aria-hidden=\"true\"><svg class=\"footer-icon-svg\" width=\"11\" height=\"6\" viewBox=\"0 0 11 6\">\n",
      "\t<polyline data-footer-icon-shape=\"\" stroke=\"currentColor\" stroke-linecap=\"round\" stroke-linejoin=\"round\" fill=\"none\" fill-rule=\"evenodd\" points=\"10.075 0.675 5.5 5.323 0.925 0.675\">\n",
      "\t\t<animate data-footer-animate=\"expand\" attributeName=\"points\" values=\"10.075 0.675 5.5 5.323 0.925 0.675;\n",
      "\t\t\t\t\t10.075 3 5.5 3 0.925 3;\n",
      "\t\t\t\t\t10.075 5.325 5.5 0.676 0.925 5.325\" dur=\"320ms\" begin=\"indefinite\" fill=\"freeze\" keyTimes=\"0;\n",
      "\t\t\t\t\t0.5;\n",
      "\t\t\t\t\t1\" calcMode=\"spline\" keySplines=\"0.12, 0, 0.38, 0;\n",
      "\t\t\t\t\t\t0.2, 1, 0.68, 1\"></animate>\n",
      "\t\t<animate data-footer-animate=\"collapse\" attributeName=\"points\" values=\"10.075 5.325 5.5 0.676 0.925 5.325;\n",
      "\t\t\t\t\t10.075 3 5.5 3 0.925 3;\n",
      "\t\t\t\t\t10.075 0.675 5.5 5.323 0.925 0.675\" dur=\"320ms\" begin=\"indefinite\" fill=\"freeze\" keyTimes=\"0;\n",
      "\t\t\t\t\t0.5;\n",
      "\t\t\t\t\t1\" calcMode=\"spline\" keySplines=\"0.2, 0, 0.68, 0;\n",
      "\t\t\t\t\t\t0.2, 1, 0.68, 1\"></animate>\n",
      "\t</polyline>\n",
      "</svg></span>\n",
      "\t\t\t\t\t</button>\n",
      "\t\t\t\t</h3>\n",
      "\t\t\t\t<ul id=\"footer-directory-column-section-accounts\" class=\"ac-gf-directory-column-section-list\" role=\"list\">\n",
      "\t\t\t\t\t<li class=\"ac-gf-directory-column-section-item\" role=\"listitem\"><a class=\"ac-gf-directory-column-section-link\" href=\"https://account.apple.com/mk/\" data-analytics-title=\"apple account\" data-analytics-exit-link=\"\">Manage Your Apple Account</a></li>\n",
      "\t\t\t\t\t<li class=\"ac-gf-directory-column-section-item\" role=\"listitem\"><a class=\"ac-gf-directory-column-section-link\" href=\"https://www.icloud.com\" data-analytics-title=\"icloud.com\" data-analytics-exit-link=\"\">iCloud.com</a></li>\n",
      "\t\t\t\t</ul>\n",
      "\t\t\t</div>\n",
      "\t\t</div>\n",
      "\t\t<div class=\"ac-gf-directory-column\">\n",
      "\t\t\t<div class=\"ac-gf-directory-column-section\">\n",
      "\t\t\t\t<h3 class=\"ac-gf-directory-column-section-title\">\n",
      "\t\t\t\t\t<span class=\"ac-gf-directory-column-section-title-text\">Apple Values</span>\n",
      "\t\t\t\t\t<button class=\"ac-gf-directory-column-section-title-button\" disabled=\"\">\n",
      "\t\t\t\t\t\t<span class=\"ac-gf-directory-column-section-title-text\">Apple Values</span>\n",
      "\t\t\t\t\t\t<span class=\"ac-gf-directory-column-section-title-icon\" aria-hidden=\"true\"><svg class=\"footer-icon-svg\" width=\"11\" height=\"6\" viewBox=\"0 0 11 6\">\n",
      "\t<polyline data-footer-icon-shape=\"\" stroke=\"currentColor\" stroke-linecap=\"round\" stroke-linejoin=\"round\" fill=\"none\" fill-rule=\"evenodd\" points=\"10.075 0.675 5.5 5.323 0.925 0.675\">\n",
      "\t\t<animate data-footer-animate=\"expand\" attributeName=\"points\" values=\"10.075 0.675 5.5 5.323 0.925 0.675;\n",
      "\t\t\t\t\t10.075 3 5.5 3 0.925 3;\n",
      "\t\t\t\t\t10.075 5.325 5.5 0.676 0.925 5.325\" dur=\"320ms\" begin=\"indefinite\" fill=\"freeze\" keyTimes=\"0;\n",
      "\t\t\t\t\t0.5;\n",
      "\t\t\t\t\t1\" calcMode=\"spline\" keySplines=\"0.12, 0, 0.38, 0;\n",
      "\t\t\t\t\t\t0.2, 1, 0.68, 1\"></animate>\n",
      "\t\t<animate data-footer-animate=\"collapse\" attributeName=\"points\" values=\"10.075 5.325 5.5 0.676 0.925 5.325;\n",
      "\t\t\t\t\t10.075 3 5.5 3 0.925 3;\n",
      "\t\t\t\t\t10.075 0.675 5.5 5.323 0.925 0.675\" dur=\"320ms\" begin=\"indefinite\" fill=\"freeze\" keyTimes=\"0;\n",
      "\t\t\t\t\t0.5;\n",
      "\t\t\t\t\t1\" calcMode=\"spline\" keySplines=\"0.2, 0, 0.68, 0;\n",
      "\t\t\t\t\t\t0.2, 1, 0.68, 1\"></animate>\n",
      "\t</polyline>\n",
      "</svg></span>\n",
      "\t\t\t\t\t</button>\n",
      "\t\t\t\t</h3>\n",
      "\t\t\t\t<ul id=\"footer-directory-column-section-responsibility\" class=\"ac-gf-directory-column-section-list\" role=\"list\">\n",
      "\t\t\t\t\t<li class=\"ac-gf-directory-column-section-item\" role=\"listitem\"><a class=\"ac-gf-directory-column-section-link\" href=\"/legal/privacy/en-ww/\" data-analytics-title=\"privacy\">Privacy</a></li>\n",
      "\t\t\t\t</ul>\n",
      "\t\t\t</div>\n",
      "\t\t</div>\n",
      "\t\t<div class=\"ac-gf-directory-column\">\n",
      "\t\t\t<div class=\"ac-gf-directory-column-section\">\n",
      "\t\t\t\t<h3 class=\"ac-gf-directory-column-section-title\">\n",
      "\t\t\t\t\t<span class=\"ac-gf-directory-column-section-title-text\">About Apple</span>\n",
      "\t\t\t\t\t<button class=\"ac-gf-directory-column-section-title-button\" disabled=\"\">\n",
      "\t\t\t\t\t\t<span class=\"ac-gf-directory-column-section-title-text\">About Apple</span>\n",
      "\t\t\t\t\t\t<span class=\"ac-gf-directory-column-section-title-icon\" aria-hidden=\"true\"><svg class=\"footer-icon-svg\" width=\"11\" height=\"6\" viewBox=\"0 0 11 6\">\n",
      "\t<polyline data-footer-icon-shape=\"\" stroke=\"currentColor\" stroke-linecap=\"round\" stroke-linejoin=\"round\" fill=\"none\" fill-rule=\"evenodd\" points=\"10.075 0.675 5.5 5.323 0.925 0.675\">\n",
      "\t\t<animate data-footer-animate=\"expand\" attributeName=\"points\" values=\"10.075 0.675 5.5 5.323 0.925 0.675;\n",
      "\t\t\t\t\t10.075 3 5.5 3 0.925 3;\n",
      "\t\t\t\t\t10.075 5.325 5.5 0.676 0.925 5.325\" dur=\"320ms\" begin=\"indefinite\" fill=\"freeze\" keyTimes=\"0;\n",
      "\t\t\t\t\t0.5;\n",
      "\t\t\t\t\t1\" calcMode=\"spline\" keySplines=\"0.12, 0, 0.38, 0;\n",
      "\t\t\t\t\t\t0.2, 1, 0.68, 1\"></animate>\n",
      "\t\t<animate data-footer-animate=\"collapse\" attributeName=\"points\" values=\"10.075 5.325 5.5 0.676 0.925 5.325;\n",
      "\t\t\t\t\t10.075 3 5.5 3 0.925 3;\n",
      "\t\t\t\t\t10.075 0.675 5.5 5.323 0.925 0.675\" dur=\"320ms\" begin=\"indefinite\" fill=\"freeze\" keyTimes=\"0;\n",
      "\t\t\t\t\t0.5;\n",
      "\t\t\t\t\t1\" calcMode=\"spline\" keySplines=\"0.2, 0, 0.68, 0;\n",
      "\t\t\t\t\t\t0.2, 1, 0.68, 1\"></animate>\n",
      "\t</polyline>\n",
      "</svg></span>\n",
      "\t\t\t\t\t</button>\n",
      "\t\t\t\t</h3>\n",
      "\t\t\t\t<ul id=\"footer-directory-column-section-about\" class=\"ac-gf-directory-column-section-list\" role=\"list\">\n",
      "\t\t\t\t\t<li class=\"ac-gf-directory-column-section-item\" role=\"listitem\"><a class=\"ac-gf-directory-column-section-link\" href=\"https://investor.apple.com/\" data-analytics-title=\"investors\" data-analytics-exit-link=\"\">Investors</a></li>\n",
      "\t\t\t\t\t<li class=\"ac-gf-directory-column-section-item\" role=\"listitem\"><a class=\"ac-gf-directory-column-section-link\" href=\"/compliance/\" data-analytics-title=\"ethics and compliance\">Ethics &amp; Compliance</a></li>\n",
      "\t\t\t\t</ul>\n",
      "\t\t\t</div>\n",
      "\t\t</div>\n",
      "\t</nav>\n",
      "\n",
      "    \t<section class=\"ac-gf-footer\">\n",
      "\t\t<div class=\"ac-gf-footer-shop\" x-ms-format-detection=\"none\">\n",
      "\t\t\t<a href=\"https://locate.apple.com/mk/en/\" data-analytics-title=\"other retailers or resellers\" data-analytics-exit-link=\"\">Find a retailer</a> near you.\n",
      "\t\t</div>\n",
      "\t\t<div class=\"ac-gf-footer-locale\">\n",
      "\t\t\t<a class=\"ac-gf-footer-locale-link\" href=\"/choose-country-region/\" title=\"Choose your country or region\" aria-label=\"North Macedonia. Choose your country or region\" data-analytics-title=\"choose your country\">North Macedonia</a>\n",
      "\t\t</div>\n",
      "\t\t<div class=\"ac-gf-footer-legal\">\n",
      "\t\t\t<div class=\"ac-gf-footer-legal-copyright\">Copyright ©\n",
      "\t\t\t\t\n",
      "\t\t\t\t2024\n",
      "\t\t\t\t Apple Inc. All rights reserved.\n",
      "\t\t\t</div>\n",
      "\t\t\t<ul class=\"ac-gf-footer-legal-links\" role=\"list\">\n",
      "\t\t\t\t<li class=\"ac-gf-footer-legal-links-item\" role=\"listitem\">\n",
      "\t\t\t\t\t<a class=\"ac-gf-footer-legal-link\" href=\"/legal/\" data-analytics-title=\"terms of use\">Terms of Use</a>\n",
      "\t\t\t\t</li>\n",
      "\t\t\t\t<li class=\"ac-gf-footer-legal-links-item\" role=\"listitem\">\n",
      "\t\t\t\t\t<a class=\"ac-gf-footer-legal-link\" href=\"/mk/sitemap/\" data-analytics-title=\"site map\">Site Map</a>\n",
      "\t\t\t\t</li>\n",
      "\t\t\t</ul>\n",
      "\t\t</div>\n",
      "\t</section>\n",
      "\n",
      "    <script type=\"text/javascript\" src=\"/ac/globalfooter/8/en_MK/scripts/ac-globalfooter.built.js\"></script>\n",
      "\n",
      "<script type=\"application/ld+json\">\n",
      "\t{\n",
      "\t\t\"@context\": \"http://schema.org\",\n",
      "\t\t\"@id\": \"https://www.apple.com/#organization\",\n",
      "\t\t\"@type\": \"Organization\",\n",
      "\t\t\"name\": \"Apple\",\n",
      "\t\t\"url\": \"https://www.apple.com/\",\n",
      "\t\t\"logo\": \"https://www.apple.com/ac/structured-data/images/knowledge_graph_logo.png?201809270954\",\n",
      "\t\t\"subOrganization\": {\n",
      "\t\t\t\"@type\": \"Organization\",\n",
      "\t\t\t\"name\": \"Apple Support\",\n",
      "\t\t\t\"url\": \"https://support.apple.com\",\n",
      "\t    \"@id\": \"https://support.apple.com/#organization\"\n",
      "\t\t},\n",
      "\t\t\"contactPoint\": [\n",
      "\t\t\t{\n",
      "\t\t\t\t\"@type\": \"ContactPoint\",\n",
      "\t\t\t\t\"telephone\": \"+1-800-692-7753\",\n",
      "\t\t\t\t\"contactType\": \"sales\",\n",
      "\t\t\t\t\"areaServed\": \"US\"\n",
      "\t\t\t},\n",
      "\t\t\t{\n",
      "\t\t\t\t\"@type\": \"ContactPoint\",\n",
      "\t\t\t\t\"telephone\": \"+1-800-275-2273\",\n",
      "\t\t\t\t\"contactType\": \"technical support\",\n",
      "\t\t\t\t\"areaServed\": \"US\",\n",
      "\t\t\t\t\"availableLanguage\": [\"EN\", \"ES\"]\n",
      "\t\t\t},\n",
      "\t\t\t{\n",
      "\t\t\t\t\"@type\": \"ContactPoint\",\n",
      "\t\t\t\t\"telephone\": \"+1-800-275-2273\",\n",
      "\t\t\t\t\"contactType\": \"customer support\",\n",
      "\t\t\t\t\"areaServed\": \"US\",\n",
      "\t\t\t\t\"availableLanguage\": [\"EN\", \"ES\"]\n",
      "\t\t\t}\n",
      "\t\t],\n",
      "\t\t\"sameAs\": [\n",
      "\t\t\t\"http://www.wikidata.org/entity/Q312\",\n",
      "\t\t\t\"https://www.youtube.com/user/Apple\",\n",
      "\t\t\t\"https://www.linkedin.com/company/apple\",\n",
      "\t\t\t\"https://www.facebook.com/Apple\",\n",
      "\t\t\t\"https://www.twitter.com/Apple\"\n",
      "\t\t]\n",
      "\t}\n",
      "</script>\n",
      "\n",
      "<script type=\"text/javascript\" src=\"/ac/localeswitcher/4/en_MK/scripts/localeswitcher.built.js\"></script>\n",
      "\n",
      "\n",
      "\n",
      "\t\t</div>\n",
      "\t</footer>\n",
      "\t\n",
      "\t<script type=\"application/ld+json\">\n",
      "\t{\n",
      "\t\t\"@context\": \"http://schema.org\",\n",
      "\t\t\"@id\": \"https://www.apple.com/mk/#webpage\",\n",
      "\t\t\"@type\": \"WebPage\",\n",
      "\t\t\"url\": \"https://www.apple.com/mk/\",\n",
      "\t\t\"name\": \"Apple (North Macedonia)\"\n",
      "\t}\n",
      "</script>\n",
      "\n",
      "\t\n",
      "\t<script src=\"/v/home/br/built/scripts/main.built.js\" type=\"text/javascript\" charset=\"utf-8\"></script><span style=\"visibility: hidden; position: absolute; top: 0px; bottom: 0px; z-index: -1;\">&nbsp;<iframe style=\"position: absolute; top: 0px; left: 0px; width: 100%; height: 100%;\"></iframe></span><div id=\"viewport-emitter\" data-viewport-emitter-dispatch=\"\" data-viewport-emitter-state=\"{&quot;viewport&quot;:&quot;medium&quot;,&quot;orientation&quot;:&quot;landscape&quot;,&quot;retina&quot;:false}\"></div>\n",
      "\t\n",
      "<link rel=\"stylesheet\" href=\"/ac/ac-films/6.10.0/styles/modal.css\">\n",
      "<script src=\"/ac/ac-films/6.10.0/scripts/autofilms.built.js\" type=\"text/javascript\"></script>\n",
      "\t\n",
      "\n",
      "<script src=\"/metrics/data-relay/1.1.4/scripts/data-relay.js\" type=\"text/javascript\" charset=\"utf-8\"></script>\n",
      "<script src=\"/metrics/data-relay/1.1.4/scripts/auto-relay.js\" type=\"text/javascript\" charset=\"utf-8\"></script>\n",
      "\n",
      "\t\n",
      "\t\n",
      "\t\n",
      "\t\n",
      "\n",
      "\t\t\t\t\t\t\n",
      "\t\t\t\t\t\n",
      "\n",
      "\t\t\t\t\n",
      "\n",
      "\n",
      "\n",
      "\t\n",
      "</body><div cssdimensionstracker=\"true\" style=\"position: fixed; top: 0px; width: 100%; height: 100vh; pointer-events: none; visibility: hidden; z-index: -1;\"></div></html>\n"
     ]
    }
   ],
   "execution_count": 9
  },
  {
   "cell_type": "code",
   "source": [
    "# Select an element from the page.\n",
    "element = browser.find_element(By.CLASS_NAME, 'headline')"
   ],
   "metadata": {
    "id": "H-5h-xse2L8I"
   },
   "execution_count": null,
   "outputs": []
  },
  {
   "cell_type": "code",
   "source": [
    "# Print the element's innner text.\n",
    "print(element.text)"
   ],
   "metadata": {
    "id": "Rne65WGs3CJs"
   },
   "execution_count": null,
   "outputs": []
  },
  {
   "cell_type": "markdown",
   "source": [
    "# Laboratory Exercise - Run Mode (8 points)"
   ],
   "metadata": {
    "id": "JzaK-Awf4hKN"
   }
  },
  {
   "cell_type": "markdown",
   "source": [
    "In this laboratory assignment, the goal is to perform web scraping on the website https://books.toscrape.com/. Your task includes the extraction of book titles and prices for a minimum of 20 books from this website. Following this data extraction, you will construct a data frame to organize the collected data. Finally, you are expected to generate a histogram to provide a visual representation of the distribution of book prices."
   ],
   "metadata": {
    "id": "S0YnPh8r4p7M"
   }
  },
  {
   "cell_type": "markdown",
   "source": [
    "## Hints\n",
    "- To navigate to a specific page with a given URL, use the `browser.get(url)` method.\n",
    "- When selecting a single element, use `browser.find_element`, and for multiple elements, use `browser.find_elements`. Both of these functions take two arguments. The first specifies the attribute used to locate the element on the web page, and the second specifies the value of that attribute.\n",
    "- The `By` class is used to specify which attribute is used to locate elements on a page. These are the various ways the attributes are used to locate elements on a page: `By.ID`, `By.NAME`, `By.TAG_NAME`, `BY.CLASS_NAME`, `By.CSS_SELECTOR`, etc.\n",
    "- For more details, check the documentation (https://selenium-python.readthedocs.io/locating-elements.html)."
   ],
   "metadata": {
    "id": "pAWUA3br7pnH"
   }
  },
  {
   "cell_type": "markdown",
   "source": [
    "## Solution"
   ],
   "metadata": {
    "id": "JsyFl54d-79Y"
   }
  },
  {
   "cell_type": "code",
   "source": [
    "# Write your code here. Add as many code boxes as you need."
   ],
   "metadata": {
    "id": "LZIHRH7f3F00"
   },
   "execution_count": null,
   "outputs": []
  },
  {
   "metadata": {
    "ExecuteTime": {
     "end_time": "2024-10-30T19:26:39.253455Z",
     "start_time": "2024-10-30T19:26:39.248727Z"
    }
   },
   "cell_type": "code",
   "source": [
    "chrome_options = webdriver.ChromeOptions()\n",
    "chrome_options.add_argument(\"--no-sandbox\")\n",
    "chrome_options.add_argument(\"--disable-dev-shm-usage\")"
   ],
   "outputs": [],
   "execution_count": 3
  },
  {
   "metadata": {
    "ExecuteTime": {
     "end_time": "2024-10-30T19:30:50.737847Z",
     "start_time": "2024-10-30T19:30:49.258566Z"
    }
   },
   "cell_type": "code",
   "source": "chrome = webdriver.Chrome(options=chrome_options)",
   "outputs": [],
   "execution_count": 21
  },
  {
   "metadata": {
    "ExecuteTime": {
     "end_time": "2024-10-30T19:30:53.491596Z",
     "start_time": "2024-10-30T19:30:52.446368Z"
    }
   },
   "cell_type": "code",
   "source": [
    "snapshot_url = \"https://books.toscrape.com/\"\n",
    "chrome.get(snapshot_url)"
   ],
   "outputs": [],
   "execution_count": 22
  },
  {
   "metadata": {
    "ExecuteTime": {
     "end_time": "2024-10-30T19:30:54.881324Z",
     "start_time": "2024-10-30T19:30:54.861626Z"
    }
   },
   "cell_type": "code",
   "source": [
    "book_elements = chrome.find_elements(By.CSS_SELECTOR, \"article.product_pod\")\n",
    "for book_element in book_elements:\n",
    "    print(book_element)"
   ],
   "outputs": [
    {
     "name": "stdout",
     "output_type": "stream",
     "text": [
      "<selenium.webdriver.remote.webelement.WebElement (session=\"b0129c13b5f28eb0b5114a3503046923\", element=\"f.C46BE2EA0E5EFD8EFA4C790F6FF15166.d.C181576CECF9781E51A216D74AE422B8.e.26\")>\n",
      "<selenium.webdriver.remote.webelement.WebElement (session=\"b0129c13b5f28eb0b5114a3503046923\", element=\"f.C46BE2EA0E5EFD8EFA4C790F6FF15166.d.C181576CECF9781E51A216D74AE422B8.e.27\")>\n",
      "<selenium.webdriver.remote.webelement.WebElement (session=\"b0129c13b5f28eb0b5114a3503046923\", element=\"f.C46BE2EA0E5EFD8EFA4C790F6FF15166.d.C181576CECF9781E51A216D74AE422B8.e.28\")>\n",
      "<selenium.webdriver.remote.webelement.WebElement (session=\"b0129c13b5f28eb0b5114a3503046923\", element=\"f.C46BE2EA0E5EFD8EFA4C790F6FF15166.d.C181576CECF9781E51A216D74AE422B8.e.29\")>\n",
      "<selenium.webdriver.remote.webelement.WebElement (session=\"b0129c13b5f28eb0b5114a3503046923\", element=\"f.C46BE2EA0E5EFD8EFA4C790F6FF15166.d.C181576CECF9781E51A216D74AE422B8.e.30\")>\n",
      "<selenium.webdriver.remote.webelement.WebElement (session=\"b0129c13b5f28eb0b5114a3503046923\", element=\"f.C46BE2EA0E5EFD8EFA4C790F6FF15166.d.C181576CECF9781E51A216D74AE422B8.e.31\")>\n",
      "<selenium.webdriver.remote.webelement.WebElement (session=\"b0129c13b5f28eb0b5114a3503046923\", element=\"f.C46BE2EA0E5EFD8EFA4C790F6FF15166.d.C181576CECF9781E51A216D74AE422B8.e.32\")>\n",
      "<selenium.webdriver.remote.webelement.WebElement (session=\"b0129c13b5f28eb0b5114a3503046923\", element=\"f.C46BE2EA0E5EFD8EFA4C790F6FF15166.d.C181576CECF9781E51A216D74AE422B8.e.33\")>\n",
      "<selenium.webdriver.remote.webelement.WebElement (session=\"b0129c13b5f28eb0b5114a3503046923\", element=\"f.C46BE2EA0E5EFD8EFA4C790F6FF15166.d.C181576CECF9781E51A216D74AE422B8.e.34\")>\n",
      "<selenium.webdriver.remote.webelement.WebElement (session=\"b0129c13b5f28eb0b5114a3503046923\", element=\"f.C46BE2EA0E5EFD8EFA4C790F6FF15166.d.C181576CECF9781E51A216D74AE422B8.e.35\")>\n",
      "<selenium.webdriver.remote.webelement.WebElement (session=\"b0129c13b5f28eb0b5114a3503046923\", element=\"f.C46BE2EA0E5EFD8EFA4C790F6FF15166.d.C181576CECF9781E51A216D74AE422B8.e.36\")>\n",
      "<selenium.webdriver.remote.webelement.WebElement (session=\"b0129c13b5f28eb0b5114a3503046923\", element=\"f.C46BE2EA0E5EFD8EFA4C790F6FF15166.d.C181576CECF9781E51A216D74AE422B8.e.37\")>\n",
      "<selenium.webdriver.remote.webelement.WebElement (session=\"b0129c13b5f28eb0b5114a3503046923\", element=\"f.C46BE2EA0E5EFD8EFA4C790F6FF15166.d.C181576CECF9781E51A216D74AE422B8.e.38\")>\n",
      "<selenium.webdriver.remote.webelement.WebElement (session=\"b0129c13b5f28eb0b5114a3503046923\", element=\"f.C46BE2EA0E5EFD8EFA4C790F6FF15166.d.C181576CECF9781E51A216D74AE422B8.e.39\")>\n",
      "<selenium.webdriver.remote.webelement.WebElement (session=\"b0129c13b5f28eb0b5114a3503046923\", element=\"f.C46BE2EA0E5EFD8EFA4C790F6FF15166.d.C181576CECF9781E51A216D74AE422B8.e.40\")>\n",
      "<selenium.webdriver.remote.webelement.WebElement (session=\"b0129c13b5f28eb0b5114a3503046923\", element=\"f.C46BE2EA0E5EFD8EFA4C790F6FF15166.d.C181576CECF9781E51A216D74AE422B8.e.41\")>\n",
      "<selenium.webdriver.remote.webelement.WebElement (session=\"b0129c13b5f28eb0b5114a3503046923\", element=\"f.C46BE2EA0E5EFD8EFA4C790F6FF15166.d.C181576CECF9781E51A216D74AE422B8.e.42\")>\n",
      "<selenium.webdriver.remote.webelement.WebElement (session=\"b0129c13b5f28eb0b5114a3503046923\", element=\"f.C46BE2EA0E5EFD8EFA4C790F6FF15166.d.C181576CECF9781E51A216D74AE422B8.e.43\")>\n",
      "<selenium.webdriver.remote.webelement.WebElement (session=\"b0129c13b5f28eb0b5114a3503046923\", element=\"f.C46BE2EA0E5EFD8EFA4C790F6FF15166.d.C181576CECF9781E51A216D74AE422B8.e.44\")>\n",
      "<selenium.webdriver.remote.webelement.WebElement (session=\"b0129c13b5f28eb0b5114a3503046923\", element=\"f.C46BE2EA0E5EFD8EFA4C790F6FF15166.d.C181576CECF9781E51A216D74AE422B8.e.45\")>\n"
     ]
    }
   ],
   "execution_count": 23
  },
  {
   "metadata": {
    "ExecuteTime": {
     "end_time": "2024-10-30T19:26:42.378924Z",
     "start_time": "2024-10-30T19:26:41.798485Z"
    }
   },
   "cell_type": "code",
   "source": [
    "books = []\n",
    "for book_element in book_elements:\n",
    "    title_element = book_element.find_element(By.CSS_SELECTOR, \"h3 > a\")\n",
    "    price_element = book_element.find_element(By.CSS_SELECTOR, \".price_color\")\n",
    "    title = title_element.text\n",
    "    price = float(price_element.text[1:])\n",
    "    # print(title)\n",
    "    # print(price)\n",
    "    book = {\"Title\":title, \"Price\":price}\n",
    "    books.append(book)"
   ],
   "outputs": [],
   "execution_count": 7
  },
  {
   "metadata": {
    "ExecuteTime": {
     "end_time": "2024-10-30T19:26:42.386628Z",
     "start_time": "2024-10-30T19:26:42.379946Z"
    }
   },
   "cell_type": "code",
   "source": "books",
   "outputs": [
    {
     "data": {
      "text/plain": [
       "[{'Title': 'A Light in the ...', 'Price': 51.77},\n",
       " {'Title': 'Tipping the Velvet', 'Price': 53.74},\n",
       " {'Title': 'Soumission', 'Price': 50.1},\n",
       " {'Title': 'Sharp Objects', 'Price': 47.82},\n",
       " {'Title': 'Sapiens: A Brief History ...', 'Price': 54.23},\n",
       " {'Title': 'The Requiem Red', 'Price': 22.65},\n",
       " {'Title': 'The Dirty Little Secrets ...', 'Price': 33.34},\n",
       " {'Title': 'The Coming Woman: A ...', 'Price': 17.93},\n",
       " {'Title': 'The Boys in the ...', 'Price': 22.6},\n",
       " {'Title': 'The Black Maria', 'Price': 52.15},\n",
       " {'Title': 'Starving Hearts (Triangular Trade ...', 'Price': 13.99},\n",
       " {'Title': \"Shakespeare's Sonnets\", 'Price': 20.66},\n",
       " {'Title': 'Set Me Free', 'Price': 17.46},\n",
       " {'Title': \"Scott Pilgrim's Precious Little ...\", 'Price': 52.29},\n",
       " {'Title': 'Rip it Up and ...', 'Price': 35.02},\n",
       " {'Title': 'Our Band Could Be ...', 'Price': 57.25},\n",
       " {'Title': 'Olio', 'Price': 23.88},\n",
       " {'Title': 'Mesaerion: The Best Science ...', 'Price': 37.59},\n",
       " {'Title': 'Libertarianism for Beginners', 'Price': 51.33},\n",
       " {'Title': \"It's Only the Himalayas\", 'Price': 45.17}]"
      ]
     },
     "execution_count": 8,
     "metadata": {},
     "output_type": "execute_result"
    }
   ],
   "execution_count": 8
  },
  {
   "metadata": {
    "ExecuteTime": {
     "end_time": "2024-10-30T19:26:42.403300Z",
     "start_time": "2024-10-30T19:26:42.388685Z"
    }
   },
   "cell_type": "code",
   "source": [
    "books_df = pd.DataFrame(books)\n",
    "books_df"
   ],
   "outputs": [
    {
     "data": {
      "text/plain": [
       "                                    Title  Price\n",
       "0                      A Light in the ...  51.77\n",
       "1                      Tipping the Velvet  53.74\n",
       "2                              Soumission  50.10\n",
       "3                           Sharp Objects  47.82\n",
       "4            Sapiens: A Brief History ...  54.23\n",
       "5                         The Requiem Red  22.65\n",
       "6            The Dirty Little Secrets ...  33.34\n",
       "7                 The Coming Woman: A ...  17.93\n",
       "8                     The Boys in the ...  22.60\n",
       "9                         The Black Maria  52.15\n",
       "10  Starving Hearts (Triangular Trade ...  13.99\n",
       "11                  Shakespeare's Sonnets  20.66\n",
       "12                            Set Me Free  17.46\n",
       "13    Scott Pilgrim's Precious Little ...  52.29\n",
       "14                      Rip it Up and ...  35.02\n",
       "15                  Our Band Could Be ...  57.25\n",
       "16                                   Olio  23.88\n",
       "17        Mesaerion: The Best Science ...  37.59\n",
       "18           Libertarianism for Beginners  51.33\n",
       "19                It's Only the Himalayas  45.17"
      ],
      "text/html": [
       "<div>\n",
       "<style scoped>\n",
       "    .dataframe tbody tr th:only-of-type {\n",
       "        vertical-align: middle;\n",
       "    }\n",
       "\n",
       "    .dataframe tbody tr th {\n",
       "        vertical-align: top;\n",
       "    }\n",
       "\n",
       "    .dataframe thead th {\n",
       "        text-align: right;\n",
       "    }\n",
       "</style>\n",
       "<table border=\"1\" class=\"dataframe\">\n",
       "  <thead>\n",
       "    <tr style=\"text-align: right;\">\n",
       "      <th></th>\n",
       "      <th>Title</th>\n",
       "      <th>Price</th>\n",
       "    </tr>\n",
       "  </thead>\n",
       "  <tbody>\n",
       "    <tr>\n",
       "      <th>0</th>\n",
       "      <td>A Light in the ...</td>\n",
       "      <td>51.77</td>\n",
       "    </tr>\n",
       "    <tr>\n",
       "      <th>1</th>\n",
       "      <td>Tipping the Velvet</td>\n",
       "      <td>53.74</td>\n",
       "    </tr>\n",
       "    <tr>\n",
       "      <th>2</th>\n",
       "      <td>Soumission</td>\n",
       "      <td>50.10</td>\n",
       "    </tr>\n",
       "    <tr>\n",
       "      <th>3</th>\n",
       "      <td>Sharp Objects</td>\n",
       "      <td>47.82</td>\n",
       "    </tr>\n",
       "    <tr>\n",
       "      <th>4</th>\n",
       "      <td>Sapiens: A Brief History ...</td>\n",
       "      <td>54.23</td>\n",
       "    </tr>\n",
       "    <tr>\n",
       "      <th>5</th>\n",
       "      <td>The Requiem Red</td>\n",
       "      <td>22.65</td>\n",
       "    </tr>\n",
       "    <tr>\n",
       "      <th>6</th>\n",
       "      <td>The Dirty Little Secrets ...</td>\n",
       "      <td>33.34</td>\n",
       "    </tr>\n",
       "    <tr>\n",
       "      <th>7</th>\n",
       "      <td>The Coming Woman: A ...</td>\n",
       "      <td>17.93</td>\n",
       "    </tr>\n",
       "    <tr>\n",
       "      <th>8</th>\n",
       "      <td>The Boys in the ...</td>\n",
       "      <td>22.60</td>\n",
       "    </tr>\n",
       "    <tr>\n",
       "      <th>9</th>\n",
       "      <td>The Black Maria</td>\n",
       "      <td>52.15</td>\n",
       "    </tr>\n",
       "    <tr>\n",
       "      <th>10</th>\n",
       "      <td>Starving Hearts (Triangular Trade ...</td>\n",
       "      <td>13.99</td>\n",
       "    </tr>\n",
       "    <tr>\n",
       "      <th>11</th>\n",
       "      <td>Shakespeare's Sonnets</td>\n",
       "      <td>20.66</td>\n",
       "    </tr>\n",
       "    <tr>\n",
       "      <th>12</th>\n",
       "      <td>Set Me Free</td>\n",
       "      <td>17.46</td>\n",
       "    </tr>\n",
       "    <tr>\n",
       "      <th>13</th>\n",
       "      <td>Scott Pilgrim's Precious Little ...</td>\n",
       "      <td>52.29</td>\n",
       "    </tr>\n",
       "    <tr>\n",
       "      <th>14</th>\n",
       "      <td>Rip it Up and ...</td>\n",
       "      <td>35.02</td>\n",
       "    </tr>\n",
       "    <tr>\n",
       "      <th>15</th>\n",
       "      <td>Our Band Could Be ...</td>\n",
       "      <td>57.25</td>\n",
       "    </tr>\n",
       "    <tr>\n",
       "      <th>16</th>\n",
       "      <td>Olio</td>\n",
       "      <td>23.88</td>\n",
       "    </tr>\n",
       "    <tr>\n",
       "      <th>17</th>\n",
       "      <td>Mesaerion: The Best Science ...</td>\n",
       "      <td>37.59</td>\n",
       "    </tr>\n",
       "    <tr>\n",
       "      <th>18</th>\n",
       "      <td>Libertarianism for Beginners</td>\n",
       "      <td>51.33</td>\n",
       "    </tr>\n",
       "    <tr>\n",
       "      <th>19</th>\n",
       "      <td>It's Only the Himalayas</td>\n",
       "      <td>45.17</td>\n",
       "    </tr>\n",
       "  </tbody>\n",
       "</table>\n",
       "</div>"
      ]
     },
     "execution_count": 9,
     "metadata": {},
     "output_type": "execute_result"
    }
   ],
   "execution_count": 9
  },
  {
   "metadata": {
    "ExecuteTime": {
     "end_time": "2024-10-30T19:26:42.413626Z",
     "start_time": "2024-10-30T19:26:42.403300Z"
    }
   },
   "cell_type": "code",
   "source": "books_df.info()",
   "outputs": [
    {
     "name": "stdout",
     "output_type": "stream",
     "text": [
      "<class 'pandas.core.frame.DataFrame'>\n",
      "RangeIndex: 20 entries, 0 to 19\n",
      "Data columns (total 2 columns):\n",
      " #   Column  Non-Null Count  Dtype  \n",
      "---  ------  --------------  -----  \n",
      " 0   Title   20 non-null     object \n",
      " 1   Price   20 non-null     float64\n",
      "dtypes: float64(1), object(1)\n",
      "memory usage: 452.0+ bytes\n"
     ]
    }
   ],
   "execution_count": 10
  },
  {
   "metadata": {
    "ExecuteTime": {
     "end_time": "2024-10-30T19:26:42.814098Z",
     "start_time": "2024-10-30T19:26:42.414635Z"
    }
   },
   "cell_type": "code",
   "source": "books_df.hist(bins=6)",
   "outputs": [
    {
     "data": {
      "text/plain": [
       "array([[<Axes: title={'center': 'Price'}>]], dtype=object)"
      ]
     },
     "execution_count": 11,
     "metadata": {},
     "output_type": "execute_result"
    },
    {
     "data": {
      "text/plain": [
       "<Figure size 640x480 with 1 Axes>"
      ],
      "image/png": "[encoded data removed]"
     },
     "metadata": {},
     "output_type": "display_data"
    }
   ],
   "execution_count": 11
  },
  {
   "metadata": {
    "ExecuteTime": {
     "end_time": "2024-10-30T19:43:58.967028Z",
     "start_time": "2024-10-30T19:43:58.962565Z"
    }
   },
   "cell_type": "code",
   "source": "from VNP.packages.visualization import *",
   "outputs": [],
   "execution_count": 46
  },
  {
   "metadata": {
    "ExecuteTime": {
     "end_time": "2024-10-30T19:26:43.757311Z",
     "start_time": "2024-10-30T19:26:43.635821Z"
    }
   },
   "cell_type": "code",
   "source": "plt.hist(data=books_df, x=\"Price\", bins=6)",
   "outputs": [
    {
     "data": {
      "text/plain": [
       "(array([4., 3., 2., 1., 2., 8.]),\n",
       " array([13.99, 21.2 , 28.41, 35.62, 42.83, 50.04, 57.25]),\n",
       " <BarContainer object of 6 artists>)"
      ]
     },
     "execution_count": 13,
     "metadata": {},
     "output_type": "execute_result"
    },
    {
     "data": {
      "text/plain": [
       "<Figure size 640x480 with 1 Axes>"
      ],
      "image/png": "[encoded data removed]"
     },
     "metadata": {},
     "output_type": "display_data"
    }
   ],
   "execution_count": 13
  },
  {
   "cell_type": "markdown",
   "source": [
    "# Laboratory Exercise - Bonus Task (+ 2 points)"
   ],
   "metadata": {
    "id": "UyMTnSHn681f"
   }
  },
  {
   "cell_type": "markdown",
   "source": [
    "As an additional task, you will need to click on each book listed on the page, proceed to the individual page for each book, and extract the quantity of available copies. Subsequently, you are required to compute both the mean and standard deviation of the quantities of these books."
   ],
   "metadata": {
    "id": "aMhYrG8V7hKY"
   }
  },
  {
   "cell_type": "markdown",
   "source": [
    "## Hints\n",
    "- To click on a specific `element` on a web page use `element.click()`.\n",
    "- To navigate back to the previous page use `browser.back()`."
   ],
   "metadata": {
    "id": "jQIBbGWS9-tx"
   }
  },
  {
   "cell_type": "markdown",
   "source": [
    "## Solution"
   ],
   "metadata": {
    "id": "lxPS-iXi-5fO"
   }
  },
  {
   "cell_type": "code",
   "source": "# Write your code here. Add as many code boxes as you need.",
   "metadata": {
    "id": "kbuPg7136_2q",
    "ExecuteTime": {
     "end_time": "2024-10-30T19:26:43.767989Z",
     "start_time": "2024-10-30T19:26:43.762926Z"
    }
   },
   "outputs": [],
   "execution_count": 14
  },
  {
   "metadata": {
    "ExecuteTime": {
     "end_time": "2024-10-30T19:45:39.256751Z",
     "start_time": "2024-10-30T19:45:34.007274Z"
    }
   },
   "cell_type": "code",
   "source": [
    "stocks = []\n",
    "for book_element in book_elements:\n",
    "    redirect_link = book_element.find_element(By.CSS_SELECTOR, \".image_container img\")\n",
    "    redirect_link.click()\n",
    "    stock_element = chrome.find_element(By.CSS_SELECTOR, \".availability\")\n",
    "    stock_element_text = stock_element.text\n",
    "    available_stock = int(stock_element_text.split()[2][1:])\n",
    "    stocks.append(available_stock)\n",
    "    chrome.back()\n",
    "\n",
    "stocks"
   ],
   "outputs": [
    {
     "data": {
      "text/plain": [
       "[22,\n",
       " 20,\n",
       " 20,\n",
       " 20,\n",
       " 20,\n",
       " 19,\n",
       " 19,\n",
       " 19,\n",
       " 19,\n",
       " 19,\n",
       " 19,\n",
       " 19,\n",
       " 19,\n",
       " 19,\n",
       " 19,\n",
       " 19,\n",
       " 19,\n",
       " 19,\n",
       " 19,\n",
       " 19]"
      ]
     },
     "execution_count": 51,
     "metadata": {},
     "output_type": "execute_result"
    }
   ],
   "execution_count": 51
  },
  {
   "metadata": {
    "ExecuteTime": {
     "end_time": "2024-10-30T19:44:15.018246Z",
     "start_time": "2024-10-30T19:44:15.013753Z"
    }
   },
   "cell_type": "code",
   "source": "import numpy as np",
   "outputs": [],
   "execution_count": 49
  },
  {
   "metadata": {
    "ExecuteTime": {
     "end_time": "2024-10-30T19:44:16.436083Z",
     "start_time": "2024-10-30T19:44:16.427476Z"
    }
   },
   "cell_type": "code",
   "source": [
    "books_df[\"Available Stock\"] = np.array(stocks)\n",
    "books_df"
   ],
   "outputs": [
    {
     "data": {
      "text/plain": [
       "                                    Title  Price  Available Stock\n",
       "0                      A Light in the ...  51.77               22\n",
       "1                      Tipping the Velvet  53.74               20\n",
       "2                              Soumission  50.10               20\n",
       "3                           Sharp Objects  47.82               20\n",
       "4            Sapiens: A Brief History ...  54.23               20\n",
       "5                         The Requiem Red  22.65               19\n",
       "6            The Dirty Little Secrets ...  33.34               19\n",
       "7                 The Coming Woman: A ...  17.93               19\n",
       "8                     The Boys in the ...  22.60               19\n",
       "9                         The Black Maria  52.15               19\n",
       "10  Starving Hearts (Triangular Trade ...  13.99               19\n",
       "11                  Shakespeare's Sonnets  20.66               19\n",
       "12                            Set Me Free  17.46               19\n",
       "13    Scott Pilgrim's Precious Little ...  52.29               19\n",
       "14                      Rip it Up and ...  35.02               19\n",
       "15                  Our Band Could Be ...  57.25               19\n",
       "16                                   Olio  23.88               19\n",
       "17        Mesaerion: The Best Science ...  37.59               19\n",
       "18           Libertarianism for Beginners  51.33               19\n",
       "19                It's Only the Himalayas  45.17               19"
      ],
      "text/html": [
       "<div>\n",
       "<style scoped>\n",
       "    .dataframe tbody tr th:only-of-type {\n",
       "        vertical-align: middle;\n",
       "    }\n",
       "\n",
       "    .dataframe tbody tr th {\n",
       "        vertical-align: top;\n",
       "    }\n",
       "\n",
       "    .dataframe thead th {\n",
       "        text-align: right;\n",
       "    }\n",
       "</style>\n",
       "<table border=\"1\" class=\"dataframe\">\n",
       "  <thead>\n",
       "    <tr style=\"text-align: right;\">\n",
       "      <th></th>\n",
       "      <th>Title</th>\n",
       "      <th>Price</th>\n",
       "      <th>Available Stock</th>\n",
       "    </tr>\n",
       "  </thead>\n",
       "  <tbody>\n",
       "    <tr>\n",
       "      <th>0</th>\n",
       "      <td>A Light in the ...</td>\n",
       "      <td>51.77</td>\n",
       "      <td>22</td>\n",
       "    </tr>\n",
       "    <tr>\n",
       "      <th>1</th>\n",
       "      <td>Tipping the Velvet</td>\n",
       "      <td>53.74</td>\n",
       "      <td>20</td>\n",
       "    </tr>\n",
       "    <tr>\n",
       "      <th>2</th>\n",
       "      <td>Soumission</td>\n",
       "      <td>50.10</td>\n",
       "      <td>20</td>\n",
       "    </tr>\n",
       "    <tr>\n",
       "      <th>3</th>\n",
       "      <td>Sharp Objects</td>\n",
       "      <td>47.82</td>\n",
       "      <td>20</td>\n",
       "    </tr>\n",
       "    <tr>\n",
       "      <th>4</th>\n",
       "      <td>Sapiens: A Brief History ...</td>\n",
       "      <td>54.23</td>\n",
       "      <td>20</td>\n",
       "    </tr>\n",
       "    <tr>\n",
       "      <th>5</th>\n",
       "      <td>The Requiem Red</td>\n",
       "      <td>22.65</td>\n",
       "      <td>19</td>\n",
       "    </tr>\n",
       "    <tr>\n",
       "      <th>6</th>\n",
       "      <td>The Dirty Little Secrets ...</td>\n",
       "      <td>33.34</td>\n",
       "      <td>19</td>\n",
       "    </tr>\n",
       "    <tr>\n",
       "      <th>7</th>\n",
       "      <td>The Coming Woman: A ...</td>\n",
       "      <td>17.93</td>\n",
       "      <td>19</td>\n",
       "    </tr>\n",
       "    <tr>\n",
       "      <th>8</th>\n",
       "      <td>The Boys in the ...</td>\n",
       "      <td>22.60</td>\n",
       "      <td>19</td>\n",
       "    </tr>\n",
       "    <tr>\n",
       "      <th>9</th>\n",
       "      <td>The Black Maria</td>\n",
       "      <td>52.15</td>\n",
       "      <td>19</td>\n",
       "    </tr>\n",
       "    <tr>\n",
       "      <th>10</th>\n",
       "      <td>Starving Hearts (Triangular Trade ...</td>\n",
       "      <td>13.99</td>\n",
       "      <td>19</td>\n",
       "    </tr>\n",
       "    <tr>\n",
       "      <th>11</th>\n",
       "      <td>Shakespeare's Sonnets</td>\n",
       "      <td>20.66</td>\n",
       "      <td>19</td>\n",
       "    </tr>\n",
       "    <tr>\n",
       "      <th>12</th>\n",
       "      <td>Set Me Free</td>\n",
       "      <td>17.46</td>\n",
       "      <td>19</td>\n",
       "    </tr>\n",
       "    <tr>\n",
       "      <th>13</th>\n",
       "      <td>Scott Pilgrim's Precious Little ...</td>\n",
       "      <td>52.29</td>\n",
       "      <td>19</td>\n",
       "    </tr>\n",
       "    <tr>\n",
       "      <th>14</th>\n",
       "      <td>Rip it Up and ...</td>\n",
       "      <td>35.02</td>\n",
       "      <td>19</td>\n",
       "    </tr>\n",
       "    <tr>\n",
       "      <th>15</th>\n",
       "      <td>Our Band Could Be ...</td>\n",
       "      <td>57.25</td>\n",
       "      <td>19</td>\n",
       "    </tr>\n",
       "    <tr>\n",
       "      <th>16</th>\n",
       "      <td>Olio</td>\n",
       "      <td>23.88</td>\n",
       "      <td>19</td>\n",
       "    </tr>\n",
       "    <tr>\n",
       "      <th>17</th>\n",
       "      <td>Mesaerion: The Best Science ...</td>\n",
       "      <td>37.59</td>\n",
       "      <td>19</td>\n",
       "    </tr>\n",
       "    <tr>\n",
       "      <th>18</th>\n",
       "      <td>Libertarianism for Beginners</td>\n",
       "      <td>51.33</td>\n",
       "      <td>19</td>\n",
       "    </tr>\n",
       "    <tr>\n",
       "      <th>19</th>\n",
       "      <td>It's Only the Himalayas</td>\n",
       "      <td>45.17</td>\n",
       "      <td>19</td>\n",
       "    </tr>\n",
       "  </tbody>\n",
       "</table>\n",
       "</div>"
      ]
     },
     "execution_count": 50,
     "metadata": {},
     "output_type": "execute_result"
    }
   ],
   "execution_count": 50
  },
  {
   "metadata": {
    "ExecuteTime": {
     "end_time": "2024-10-30T19:47:47.330249Z",
     "start_time": "2024-10-30T19:47:47.323637Z"
    }
   },
   "cell_type": "code",
   "source": "books_df[\"Price\"].describe()",
   "outputs": [
    {
     "data": {
      "text/plain": [
       "count    20.000000\n",
       "mean     38.048500\n",
       "std      15.135231\n",
       "min      13.990000\n",
       "25%      22.637500\n",
       "50%      41.380000\n",
       "75%      51.865000\n",
       "max      57.250000\n",
       "Name: Price, dtype: float64"
      ]
     },
     "execution_count": 57,
     "metadata": {},
     "output_type": "execute_result"
    }
   ],
   "execution_count": 57
  },
  {
   "metadata": {
    "ExecuteTime": {
     "end_time": "2024-10-30T19:48:15.921856Z",
     "start_time": "2024-10-30T19:48:15.912955Z"
    }
   },
   "cell_type": "code",
   "source": "books_df[\"Available Stock\"].describe()\n",
   "outputs": [
    {
     "data": {
      "text/plain": [
       "count    20.00000\n",
       "mean     19.35000\n",
       "std       0.74516\n",
       "min      19.00000\n",
       "25%      19.00000\n",
       "50%      19.00000\n",
       "75%      19.25000\n",
       "max      22.00000\n",
       "Name: Available Stock, dtype: float64"
      ]
     },
     "execution_count": 58,
     "metadata": {},
     "output_type": "execute_result"
    }
   ],
   "execution_count": 58
  }
 ]
}
