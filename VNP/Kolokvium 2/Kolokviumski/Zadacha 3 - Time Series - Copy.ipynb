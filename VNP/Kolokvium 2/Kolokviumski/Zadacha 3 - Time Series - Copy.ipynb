{
 "cells": [
  {
   "cell_type": "markdown",
   "metadata": {},
   "source": [
    "![image](screenshot.png)"
   ]
  },
  {
   "cell_type": "markdown",
   "metadata": {
    "id": "bPifLCgpTIOE"
   },
   "source": [
    "# Time-series Forecasting\n",
    "\n",
    "## Description\n",
    "The data consists of 52,416 observations of energy consumption on a 10-minute window. Every observation is described by the following feature columns.\n",
    "\n",
    "Your task is to **aggregate the observations on an interval of 2 hours**. For this time interval, using the values of the **4 previous time intervals**, forecast the target value one step in the future. Choose which features you are going to use.\n",
    "\n",
    "**You must train a Boosting model for the task. Choose the model based on the number, and type of features available.**\n",
    "\n",
    "\n",
    "\n",
    "Features:\n",
    "\n",
    "* Date: Time window of ten minutes.\n",
    "* Temperature: Weather Temperature.\n",
    "* Humidity: Weather Humidity.\n",
    "* WindSpeed: Wind Speed.\n",
    "* GeneralDiffuseFlows: “Diffuse flow” is a catchall term to describe low-temperature (< 0.2° to ~ 100°C) fluids that slowly discharge through sulfide mounds, fractured lava flows, and assemblages of bacterial mats and macrofauna.\n",
    "* DiffuseFlows\n",
    "\n",
    "Target:\n",
    "\n",
    "SolarPower\n",
    "\n",
    "## Dataset links:\n",
    "* [DS1](https://drive.google.com/file/d/1-Pcpb1xWpKc8Cgs-P7xqBFHw2NM0dBsA/view?usp=sharing)\n",
    "* [DS2](https://drive.google.com/file/d/1-Pul07w6LXpm-uo99qbNc86FHhwl4yQD/view?usp=sharing)"
   ]
  },
  {
   "cell_type": "markdown",
   "metadata": {
    "id": "WRImf3uwjeVy"
   },
   "source": [
    "## Read the datasets"
   ]
  },
  {
   "cell_type": "markdown",
   "metadata": {
    "id": "ZNXTm_lwjhpb"
   },
   "source": [
    "## Merge the datasets (and pre-processing if needed)"
   ]
  },
  {
   "cell_type": "markdown",
   "metadata": {
    "id": "6cTsIz3vjjJr"
   },
   "source": [
    "## Group the datasets into time intervals of 2 hours"
   ]
  },
  {
   "cell_type": "markdown",
   "metadata": {
    "id": "SDiLVboNjmbU"
   },
   "source": [
    "## Create lags"
   ]
  },
  {
   "cell_type": "markdown",
   "metadata": {
    "id": "YiHdAHJJjuUL"
   },
   "source": [
    "# Split the dataset into 80% training and 20% testing datasets"
   ]
  },
  {
   "cell_type": "markdown",
   "metadata": {
    "id": "eMx4eOy8j5vE"
   },
   "source": [
    "## Create the model, pre-process the data and make it suitable for training"
   ]
  },
  {
   "cell_type": "markdown",
   "metadata": {
    "id": "VpO5gwPKkEZV"
   },
   "source": [
    "## Perofrm hyper-parameter optimization with a 5-fold cross validation.\n",
    "\n",
    "Important: Do not use many values for the hyper-parameters due to time constraints.\n",
    "\n",
    "KEEP IN MIND THE DATASET IS TIME-SERIES."
   ]
  },
  {
   "cell_type": "markdown",
   "metadata": {
    "id": "T251oIhoj_py"
   },
   "source": [
    "## Fit the model with the best parameters on the training dataset"
   ]
  },
  {
   "cell_type": "markdown",
   "metadata": {
    "id": "UAuCQBvSkN1U"
   },
   "source": [
    "## Visualize the targets against the predictions"
   ]
  }
 ],
 "metadata": {
  "colab": {
   "provenance": []
  },
  "kernelspec": {
   "display_name": "i2ds",
   "language": "python",
   "name": "python3"
  },
  "language_info": {
   "codemirror_mode": {
    "name": "ipython",
    "version": 3
   },
   "file_extension": ".py",
   "mimetype": "text/x-python",
   "name": "python",
   "nbconvert_exporter": "python",
   "pygments_lexer": "ipython3",
   "version": "3.12.5"
  }
 },
 "nbformat": 4,
 "nbformat_minor": 0
}
