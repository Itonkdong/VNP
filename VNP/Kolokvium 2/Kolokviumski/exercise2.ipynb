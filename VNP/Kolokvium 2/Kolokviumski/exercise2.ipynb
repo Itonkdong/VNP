{
 "cells": [
  {
   "cell_type": "markdown",
   "metadata": {},
   "source": [
    "![image](screenshot.png)"
   ]
  },
  {
   "metadata": {
    "ExecuteTime": {
     "end_time": "2025-01-19T19:24:25.161683Z",
     "start_time": "2025-01-19T19:24:24.671848Z"
    }
   },
   "cell_type": "code",
   "source": [
    "from datasets import load_dataset\n",
    "\n",
    "dataset = load_dataset(\"csv\", data_files=\"../data/IMDB_1.csv\")\n",
    "dataset"
   ],
   "outputs": [
    {
     "data": {
      "text/plain": [
       "DatasetDict({\n",
       "    train: Dataset({\n",
       "        features: ['review_es', 'sentiment'],\n",
       "        num_rows: 250\n",
       "    })\n",
       "})"
      ]
     },
     "execution_count": 16,
     "metadata": {},
     "output_type": "execute_result"
    }
   ],
   "execution_count": 16
  },
  {
   "metadata": {
    "ExecuteTime": {
     "end_time": "2025-01-19T19:24:25.170834Z",
     "start_time": "2025-01-19T19:24:25.161683Z"
    }
   },
   "cell_type": "code",
   "source": [
    "df = dataset[\"train\"].to_pandas()\n",
    "df[\"sentiment\"].unique()"
   ],
   "outputs": [
    {
     "data": {
      "text/plain": [
       "array(['positive', 'negative'], dtype=object)"
      ]
     },
     "execution_count": 17,
     "metadata": {},
     "output_type": "execute_result"
    }
   ],
   "execution_count": 17
  },
  {
   "metadata": {
    "ExecuteTime": {
     "end_time": "2025-01-19T19:24:26.159482Z",
     "start_time": "2025-01-19T19:24:26.150417Z"
    }
   },
   "cell_type": "code",
   "source": "df",
   "outputs": [
    {
     "data": {
      "text/plain": [
       "                                             review_es sentiment\n",
       "0    Uno de los otros críticos ha mencionado que de...  positive\n",
       "1    Una pequeña pequeña producción.La técnica de f...  positive\n",
       "2    Pensé que esta era una manera maravillosa de p...  positive\n",
       "3    Básicamente, hay una familia donde un niño peq...  negative\n",
       "4    El \"amor en el tiempo\" de Petter Mattei es una...  positive\n",
       "..                                                 ...       ...\n",
       "245  He visto esta película al menos 100 veces y to...  positive\n",
       "246  Este espectáculo no tiene absolutamente ningún...  negative\n",
       "247  ¡Esta película fue tan mala que fue divertido!...  negative\n",
       "248  Meryl Streep es un genio.Bueno, al menos como ...  positive\n",
       "249  'Airport 4' is basically a slopped together me...  negative\n",
       "\n",
       "[250 rows x 2 columns]"
      ],
      "text/html": [
       "<div>\n",
       "<style scoped>\n",
       "    .dataframe tbody tr th:only-of-type {\n",
       "        vertical-align: middle;\n",
       "    }\n",
       "\n",
       "    .dataframe tbody tr th {\n",
       "        vertical-align: top;\n",
       "    }\n",
       "\n",
       "    .dataframe thead th {\n",
       "        text-align: right;\n",
       "    }\n",
       "</style>\n",
       "<table border=\"1\" class=\"dataframe\">\n",
       "  <thead>\n",
       "    <tr style=\"text-align: right;\">\n",
       "      <th></th>\n",
       "      <th>review_es</th>\n",
       "      <th>sentiment</th>\n",
       "    </tr>\n",
       "  </thead>\n",
       "  <tbody>\n",
       "    <tr>\n",
       "      <th>0</th>\n",
       "      <td>Uno de los otros críticos ha mencionado que de...</td>\n",
       "      <td>positive</td>\n",
       "    </tr>\n",
       "    <tr>\n",
       "      <th>1</th>\n",
       "      <td>Una pequeña pequeña producción.La técnica de f...</td>\n",
       "      <td>positive</td>\n",
       "    </tr>\n",
       "    <tr>\n",
       "      <th>2</th>\n",
       "      <td>Pensé que esta era una manera maravillosa de p...</td>\n",
       "      <td>positive</td>\n",
       "    </tr>\n",
       "    <tr>\n",
       "      <th>3</th>\n",
       "      <td>Básicamente, hay una familia donde un niño peq...</td>\n",
       "      <td>negative</td>\n",
       "    </tr>\n",
       "    <tr>\n",
       "      <th>4</th>\n",
       "      <td>El \"amor en el tiempo\" de Petter Mattei es una...</td>\n",
       "      <td>positive</td>\n",
       "    </tr>\n",
       "    <tr>\n",
       "      <th>...</th>\n",
       "      <td>...</td>\n",
       "      <td>...</td>\n",
       "    </tr>\n",
       "    <tr>\n",
       "      <th>245</th>\n",
       "      <td>He visto esta película al menos 100 veces y to...</td>\n",
       "      <td>positive</td>\n",
       "    </tr>\n",
       "    <tr>\n",
       "      <th>246</th>\n",
       "      <td>Este espectáculo no tiene absolutamente ningún...</td>\n",
       "      <td>negative</td>\n",
       "    </tr>\n",
       "    <tr>\n",
       "      <th>247</th>\n",
       "      <td>¡Esta película fue tan mala que fue divertido!...</td>\n",
       "      <td>negative</td>\n",
       "    </tr>\n",
       "    <tr>\n",
       "      <th>248</th>\n",
       "      <td>Meryl Streep es un genio.Bueno, al menos como ...</td>\n",
       "      <td>positive</td>\n",
       "    </tr>\n",
       "    <tr>\n",
       "      <th>249</th>\n",
       "      <td>'Airport 4' is basically a slopped together me...</td>\n",
       "      <td>negative</td>\n",
       "    </tr>\n",
       "  </tbody>\n",
       "</table>\n",
       "<p>250 rows × 2 columns</p>\n",
       "</div>"
      ]
     },
     "execution_count": 18,
     "metadata": {},
     "output_type": "execute_result"
    }
   ],
   "execution_count": 18
  },
  {
   "cell_type": "markdown",
   "metadata": {
    "id": "jKehrreBM1HX"
   },
   "source": [
    "# <font color='orange'>Направете претпроцесирање на податоците</font>"
   ]
  },
  {
   "metadata": {
    "ExecuteTime": {
     "end_time": "2025-01-19T19:24:27.382650Z",
     "start_time": "2025-01-19T19:24:27.365010Z"
    }
   },
   "cell_type": "code",
   "source": [
    "from sklearn.preprocessing import LabelEncoder\n",
    "\n",
    "encoder = LabelEncoder()\n",
    "\n",
    "labels = encoder.fit_transform(dataset[\"train\"][\"sentiment\"])\n",
    "labels"
   ],
   "outputs": [
    {
     "data": {
      "text/plain": [
       "array([1, 1, 1, 0, 1, 1, 1, 0, 0, 1, 0, 0, 0, 0, 1, 0, 1, 0, 1, 0, 1, 0,\n",
       "       1, 0, 0, 1, 1, 0, 0, 1, 1, 1, 0, 1, 0, 0, 0, 0, 1, 0, 0, 1, 0, 0,\n",
       "       1, 1, 0, 0, 1, 0, 1, 1, 1, 1, 0, 0, 0, 0, 1, 1, 0, 0, 1, 0, 0, 1,\n",
       "       0, 0, 0, 0, 0, 0, 1, 1, 0, 1, 1, 0, 0, 1, 1, 0, 0, 0, 0, 0, 0, 0,\n",
       "       0, 0, 1, 0, 1, 1, 0, 1, 0, 0, 0, 1, 1, 0, 1, 1, 0, 1, 1, 0, 1, 1,\n",
       "       0, 0, 0, 1, 1, 1, 1, 0, 0, 0, 1, 1, 0, 0, 1, 0, 0, 0, 1, 1, 1, 1,\n",
       "       0, 0, 0, 0, 1, 0, 1, 0, 0, 0, 0, 1, 0, 1, 1, 1, 0, 0, 1, 0, 0, 1,\n",
       "       0, 0, 0, 1, 0, 1, 1, 0, 0, 0, 1, 0, 1, 0, 0, 0, 0, 0, 1, 1, 0, 0,\n",
       "       1, 0, 1, 0, 1, 0, 0, 0, 0, 0, 1, 0, 1, 0, 1, 1, 1, 1, 0, 0, 0, 0,\n",
       "       1, 0, 0, 1, 1, 1, 0, 1, 0, 0, 1, 1, 0, 0, 0, 1, 0, 1, 1, 0, 1, 0,\n",
       "       0, 1, 1, 0, 1, 0, 1, 1, 1, 1, 0, 1, 1, 1, 1, 1, 1, 0, 1, 0, 0, 1,\n",
       "       0, 1, 0, 1, 0, 0, 1, 0])"
      ]
     },
     "execution_count": 19,
     "metadata": {},
     "output_type": "execute_result"
    }
   ],
   "execution_count": 19
  },
  {
   "metadata": {},
   "cell_type": "code",
   "outputs": [],
   "execution_count": null,
   "source": ""
  },
  {
   "metadata": {
    "ExecuteTime": {
     "end_time": "2025-01-19T19:24:28.270489Z",
     "start_time": "2025-01-19T19:24:28.261100Z"
    }
   },
   "cell_type": "code",
   "source": [
    "dataset[\"train\"] = dataset[\"train\"].add_column(\"label\", labels)\n",
    "dataset['train'] = dataset['train'].remove_columns(\"sentiment\")\n",
    "dataset = dataset.rename_column(\"review_es\", \"text\")\n",
    "dataset"
   ],
   "outputs": [
    {
     "data": {
      "text/plain": [
       "DatasetDict({\n",
       "    train: Dataset({\n",
       "        features: ['text', 'label'],\n",
       "        num_rows: 250\n",
       "    })\n",
       "})"
      ]
     },
     "execution_count": 20,
     "metadata": {},
     "output_type": "execute_result"
    }
   ],
   "execution_count": 20
  },
  {
   "metadata": {
    "ExecuteTime": {
     "end_time": "2025-01-19T19:33:26.205609Z",
     "start_time": "2025-01-19T19:33:26.189783Z"
    }
   },
   "cell_type": "code",
   "source": [
    "df = dataset[\"train\"].to_pandas()\n",
    "num_classes = len(df[\"label\"].unique())"
   ],
   "outputs": [],
   "execution_count": 33
  },
  {
   "cell_type": "markdown",
   "metadata": {
    "id": "Ta-sxMQIM7f3"
   },
   "source": [
    "# <font color='orange'>Поделето го на тренирачко и тестирачко множество во сооднос 80:20</font>"
   ]
  },
  {
   "metadata": {
    "ExecuteTime": {
     "end_time": "2025-01-19T19:27:09.933556Z",
     "start_time": "2025-01-19T19:27:09.919674Z"
    }
   },
   "cell_type": "code",
   "source": [
    "dataset = dataset[\"train\"].train_test_split(test_size=0.2)\n",
    "dataset"
   ],
   "outputs": [
    {
     "data": {
      "text/plain": [
       "DatasetDict({\n",
       "    train: Dataset({\n",
       "        features: ['text', 'label'],\n",
       "        num_rows: 160\n",
       "    })\n",
       "    test: Dataset({\n",
       "        features: ['text', 'label'],\n",
       "        num_rows: 40\n",
       "    })\n",
       "})"
      ]
     },
     "execution_count": 22,
     "metadata": {},
     "output_type": "execute_result"
    }
   ],
   "execution_count": 22
  },
  {
   "cell_type": "markdown",
   "metadata": {
    "id": "W9F0HQpRNEev"
   },
   "source": [
    "# <font color='orange'>Искористете соодветен трансформер модел за проблемот</font>"
   ]
  },
  {
   "metadata": {
    "ExecuteTime": {
     "end_time": "2025-01-19T19:28:13.535345Z",
     "start_time": "2025-01-19T19:28:10.954290Z"
    }
   },
   "cell_type": "code",
   "source": [
    "from transformers import AutoTokenizer, DataCollatorWithPadding\n",
    "\n",
    "checkpoint = \"lxyuan/distilbert-base-multilingual-cased-sentiments-student\"\n",
    "tokenizer = AutoTokenizer.from_pretrained(checkpoint)\n",
    "tokenized_texts = tokenizer(dataset[\"train\"][\"text\"])"
   ],
   "outputs": [
    {
     "data": {
      "text/plain": [
       "tokenizer_config.json:   0%|          | 0.00/373 [00:00<?, ?B/s]"
      ],
      "application/vnd.jupyter.widget-view+json": {
       "version_major": 2,
       "version_minor": 0,
       "model_id": "9e9f418d11a1406e872e41b4f49a3447"
      }
     },
     "metadata": {},
     "output_type": "display_data"
    },
    {
     "name": "stderr",
     "output_type": "stream",
     "text": [
      "D:\\Fax\\LAIP\\.venv\\Lib\\site-packages\\huggingface_hub\\file_download.py:140: UserWarning: `huggingface_hub` cache-system uses symlinks by default to efficiently store duplicated files but your machine does not support them in C:\\Users\\User-PC\\.cache\\huggingface\\hub\\models--lxyuan--distilbert-base-multilingual-cased-sentiments-student. Caching files will still work but in a degraded version that might require more space on your disk. This warning can be disabled by setting the `HF_HUB_DISABLE_SYMLINKS_WARNING` environment variable. For more details, see https://huggingface.co/docs/huggingface_hub/how-to-cache#limitations.\n",
      "To support symlinks on Windows, you either need to activate Developer Mode or to run Python as an administrator. In order to activate developer mode, see this article: https://docs.microsoft.com/en-us/windows/apps/get-started/enable-your-device-for-development\n",
      "  warnings.warn(message)\n"
     ]
    },
    {
     "data": {
      "text/plain": [
       "vocab.txt:   0%|          | 0.00/996k [00:00<?, ?B/s]"
      ],
      "application/vnd.jupyter.widget-view+json": {
       "version_major": 2,
       "version_minor": 0,
       "model_id": "ca27c0e2733c4854a181ba36ccf713e4"
      }
     },
     "metadata": {},
     "output_type": "display_data"
    },
    {
     "data": {
      "text/plain": [
       "tokenizer.json:   0%|          | 0.00/2.92M [00:00<?, ?B/s]"
      ],
      "application/vnd.jupyter.widget-view+json": {
       "version_major": 2,
       "version_minor": 0,
       "model_id": "dae64ec113a245d385ed8c5b335fa1bc"
      }
     },
     "metadata": {},
     "output_type": "display_data"
    },
    {
     "data": {
      "text/plain": [
       "special_tokens_map.json:   0%|          | 0.00/125 [00:00<?, ?B/s]"
      ],
      "application/vnd.jupyter.widget-view+json": {
       "version_major": 2,
       "version_minor": 0,
       "model_id": "3aefd1333d5b48a4acd3c8ad48ce5ad6"
      }
     },
     "metadata": {},
     "output_type": "display_data"
    },
    {
     "name": "stderr",
     "output_type": "stream",
     "text": [
      "Token indices sequence length is longer than the specified maximum sequence length for this model (526 > 512). Running this sequence through the model will result in indexing errors\n"
     ]
    }
   ],
   "execution_count": 24
  },
  {
   "metadata": {
    "ExecuteTime": {
     "end_time": "2025-01-19T19:29:06.638328Z",
     "start_time": "2025-01-19T19:29:06.633329Z"
    }
   },
   "cell_type": "code",
   "source": [
    "def tokenize(sample):\n",
    "    return tokenizer(sample[\"text\"], truncation=True)"
   ],
   "outputs": [],
   "execution_count": 25
  },
  {
   "metadata": {
    "ExecuteTime": {
     "end_time": "2025-01-19T19:29:52.094802Z",
     "start_time": "2025-01-19T19:29:51.624771Z"
    }
   },
   "cell_type": "code",
   "source": [
    "from transformers import AutoTokenizer\n",
    "\n",
    "tokenizer = AutoTokenizer.from_pretrained(checkpoint)\n",
    "tokenized_dataset = dataset.map(tokenize, batched=True)"
   ],
   "outputs": [
    {
     "data": {
      "text/plain": [
       "Map:   0%|          | 0/160 [00:00<?, ? examples/s]"
      ],
      "application/vnd.jupyter.widget-view+json": {
       "version_major": 2,
       "version_minor": 0,
       "model_id": "4abdda4f9c1f40c3a3a673904c02cf03"
      }
     },
     "metadata": {},
     "output_type": "display_data"
    },
    {
     "data": {
      "text/plain": [
       "Map:   0%|          | 0/40 [00:00<?, ? examples/s]"
      ],
      "application/vnd.jupyter.widget-view+json": {
       "version_major": 2,
       "version_minor": 0,
       "model_id": "d2dfb2cf3a3e48029f6dd8aa5b70813f"
      }
     },
     "metadata": {},
     "output_type": "display_data"
    }
   ],
   "execution_count": 26
  },
  {
   "metadata": {
    "ExecuteTime": {
     "end_time": "2025-01-19T19:30:01.177255Z",
     "start_time": "2025-01-19T19:30:01.172Z"
    }
   },
   "cell_type": "code",
   "source": "data_collator = DataCollatorWithPadding(tokenizer=tokenizer)",
   "outputs": [],
   "execution_count": 27
  },
  {
   "metadata": {
    "ExecuteTime": {
     "end_time": "2025-01-19T19:30:09.566018Z",
     "start_time": "2025-01-19T19:30:09.560576Z"
    }
   },
   "cell_type": "code",
   "source": "tokenized_dataset",
   "outputs": [
    {
     "data": {
      "text/plain": [
       "DatasetDict({\n",
       "    train: Dataset({\n",
       "        features: ['text', 'label', 'input_ids', 'attention_mask'],\n",
       "        num_rows: 160\n",
       "    })\n",
       "    test: Dataset({\n",
       "        features: ['text', 'label', 'input_ids', 'attention_mask'],\n",
       "        num_rows: 40\n",
       "    })\n",
       "})"
      ]
     },
     "execution_count": 28,
     "metadata": {},
     "output_type": "execute_result"
    }
   ],
   "execution_count": 28
  },
  {
   "cell_type": "markdown",
   "metadata": {
    "id": "H6nlOE9XNMfz"
   },
   "source": [
    "# <font color='orange'>Фино-подесете (тренирајте) го моделот</font>"
   ]
  },
  {
   "metadata": {
    "ExecuteTime": {
     "end_time": "2025-01-19T19:31:30.397849Z",
     "start_time": "2025-01-19T19:31:27.237322Z"
    }
   },
   "cell_type": "code",
   "source": [
    "from transformers import TrainingArguments\n",
    "\n",
    "training_args = TrainingArguments(\n",
    "    output_dir=\"trainer\",\n",
    "    eval_strategy=\"epoch\",\n",
    "    per_device_train_batch_size=8,  # batch size for training\n",
    "    per_device_eval_batch_size=8,  # batch size for evaluation\n",
    "    metric_for_best_model=\"f1\",\n",
    "    num_train_epochs=3,\n",
    ")"
   ],
   "outputs": [
    {
     "name": "stdout",
     "output_type": "stream",
     "text": [
      "WARNING:tensorflow:From D:\\Fax\\LAIP\\.venv\\Lib\\site-packages\\tf_keras\\src\\losses.py:2976: The name tf.losses.sparse_softmax_cross_entropy is deprecated. Please use tf.compat.v1.losses.sparse_softmax_cross_entropy instead.\n",
      "\n"
     ]
    }
   ],
   "execution_count": 29
  },
  {
   "metadata": {
    "ExecuteTime": {
     "end_time": "2025-01-19T19:36:13.762728Z",
     "start_time": "2025-01-19T19:36:12.783008Z"
    }
   },
   "cell_type": "code",
   "source": [
    "from transformers import AutoModelForSequenceClassification\n",
    "\n",
    "model = AutoModelForSequenceClassification.from_pretrained(checkpoint, num_labels=num_classes, ignore_mismatched_sizes=True)"
   ],
   "outputs": [
    {
     "name": "stderr",
     "output_type": "stream",
     "text": [
      "Some weights of DistilBertForSequenceClassification were not initialized from the model checkpoint at lxyuan/distilbert-base-multilingual-cased-sentiments-student and are newly initialized because the shapes did not match:\n",
      "- classifier.bias: found shape torch.Size([3]) in the checkpoint and torch.Size([2]) in the model instantiated\n",
      "- classifier.weight: found shape torch.Size([3, 768]) in the checkpoint and torch.Size([2, 768]) in the model instantiated\n",
      "You should probably TRAIN this model on a down-stream task to be able to use it for predictions and inference.\n"
     ]
    }
   ],
   "execution_count": 35
  },
  {
   "metadata": {
    "ExecuteTime": {
     "end_time": "2025-01-19T19:38:22.985153Z",
     "start_time": "2025-01-19T19:38:21.389032Z"
    }
   },
   "cell_type": "code",
   "source": [
    "import evaluate\n",
    "import numpy as np\n",
    "\n",
    "metric = evaluate.load(\"f1\")"
   ],
   "outputs": [
    {
     "data": {
      "text/plain": [
       "Downloading builder script:   0%|          | 0.00/6.79k [00:00<?, ?B/s]"
      ],
      "application/vnd.jupyter.widget-view+json": {
       "version_major": 2,
       "version_minor": 0,
       "model_id": "04423a02358c435e8f2a9eb82f0fb40e"
      }
     },
     "metadata": {},
     "output_type": "display_data"
    }
   ],
   "execution_count": 38
  },
  {
   "metadata": {
    "ExecuteTime": {
     "end_time": "2025-01-19T19:38:27.693394Z",
     "start_time": "2025-01-19T19:38:27.687835Z"
    }
   },
   "cell_type": "code",
   "source": [
    "def compute_metrics(eval_pred):\n",
    "    logits, labels = eval_pred\n",
    "    predictions = np.argmax(logits, axis=-1)\n",
    "    return metric.compute(predictions=predictions, references=labels, average=\"weighted\")"
   ],
   "outputs": [],
   "execution_count": 39
  },
  {
   "metadata": {
    "ExecuteTime": {
     "end_time": "2025-01-19T19:38:53.926848Z",
     "start_time": "2025-01-19T19:38:53.457751Z"
    }
   },
   "cell_type": "code",
   "source": [
    "from transformers import Trainer\n",
    "\n",
    "trainer = Trainer(\n",
    "    model,\n",
    "    training_args,\n",
    "    train_dataset=tokenized_dataset[\"train\"],\n",
    "    eval_dataset=tokenized_dataset[\"test\"],\n",
    "    compute_metrics=compute_metrics,\n",
    "    data_collator=data_collator,\n",
    ")"
   ],
   "outputs": [],
   "execution_count": 40
  },
  {
   "metadata": {
    "ExecuteTime": {
     "end_time": "2025-01-19T19:39:18.572701Z",
     "start_time": "2025-01-19T19:39:18.564779Z"
    }
   },
   "cell_type": "code",
   "source": [
    "import torch\n",
    "\n",
    "torch.cuda.is_available()"
   ],
   "outputs": [
    {
     "data": {
      "text/plain": [
       "False"
      ]
     },
     "execution_count": 41,
     "metadata": {},
     "output_type": "execute_result"
    }
   ],
   "execution_count": 41
  },
  {
   "metadata": {
    "ExecuteTime": {
     "end_time": "2025-01-19T19:39:20.514737Z",
     "start_time": "2025-01-19T19:39:20.502354Z"
    }
   },
   "cell_type": "code",
   "source": [
    "device = \"cuda\" if torch.cuda.is_available() else \"cpu\"\n",
    "device"
   ],
   "outputs": [
    {
     "data": {
      "text/plain": [
       "'cpu'"
      ]
     },
     "execution_count": 42,
     "metadata": {},
     "output_type": "execute_result"
    }
   ],
   "execution_count": 42
  },
  {
   "metadata": {
    "ExecuteTime": {
     "end_time": "2025-01-19T19:39:26.480215Z",
     "start_time": "2025-01-19T19:39:26.470966Z"
    }
   },
   "cell_type": "code",
   "source": "model.to(device)",
   "outputs": [
    {
     "data": {
      "text/plain": [
       "DistilBertForSequenceClassification(\n",
       "  (distilbert): DistilBertModel(\n",
       "    (embeddings): Embeddings(\n",
       "      (word_embeddings): Embedding(119547, 768, padding_idx=0)\n",
       "      (position_embeddings): Embedding(512, 768)\n",
       "      (LayerNorm): LayerNorm((768,), eps=1e-12, elementwise_affine=True)\n",
       "      (dropout): Dropout(p=0.1, inplace=False)\n",
       "    )\n",
       "    (transformer): Transformer(\n",
       "      (layer): ModuleList(\n",
       "        (0-5): 6 x TransformerBlock(\n",
       "          (attention): DistilBertSdpaAttention(\n",
       "            (dropout): Dropout(p=0.1, inplace=False)\n",
       "            (q_lin): Linear(in_features=768, out_features=768, bias=True)\n",
       "            (k_lin): Linear(in_features=768, out_features=768, bias=True)\n",
       "            (v_lin): Linear(in_features=768, out_features=768, bias=True)\n",
       "            (out_lin): Linear(in_features=768, out_features=768, bias=True)\n",
       "          )\n",
       "          (sa_layer_norm): LayerNorm((768,), eps=1e-12, elementwise_affine=True)\n",
       "          (ffn): FFN(\n",
       "            (dropout): Dropout(p=0.1, inplace=False)\n",
       "            (lin1): Linear(in_features=768, out_features=3072, bias=True)\n",
       "            (lin2): Linear(in_features=3072, out_features=768, bias=True)\n",
       "            (activation): GELUActivation()\n",
       "          )\n",
       "          (output_layer_norm): LayerNorm((768,), eps=1e-12, elementwise_affine=True)\n",
       "        )\n",
       "      )\n",
       "    )\n",
       "  )\n",
       "  (pre_classifier): Linear(in_features=768, out_features=768, bias=True)\n",
       "  (classifier): Linear(in_features=768, out_features=2, bias=True)\n",
       "  (dropout): Dropout(p=0.2, inplace=False)\n",
       ")"
      ]
     },
     "execution_count": 43,
     "metadata": {},
     "output_type": "execute_result"
    }
   ],
   "execution_count": 43
  },
  {
   "metadata": {
    "ExecuteTime": {
     "end_time": "2025-01-19T19:48:18.626291Z",
     "start_time": "2025-01-19T19:39:52.144774Z"
    }
   },
   "cell_type": "code",
   "source": "trainer.train()",
   "outputs": [
    {
     "data": {
      "text/plain": [
       "<IPython.core.display.HTML object>"
      ],
      "text/html": [
       "\n",
       "    <div>\n",
       "      \n",
       "      <progress value='60' max='60' style='width:300px; height:20px; vertical-align: middle;'></progress>\n",
       "      [60/60 08:18, Epoch 3/3]\n",
       "    </div>\n",
       "    <table border=\"1\" class=\"dataframe\">\n",
       "  <thead>\n",
       " <tr style=\"text-align: left;\">\n",
       "      <th>Epoch</th>\n",
       "      <th>Training Loss</th>\n",
       "      <th>Validation Loss</th>\n",
       "      <th>F1</th>\n",
       "    </tr>\n",
       "  </thead>\n",
       "  <tbody>\n",
       "    <tr>\n",
       "      <td>1</td>\n",
       "      <td>No log</td>\n",
       "      <td>0.539269</td>\n",
       "      <td>0.747494</td>\n",
       "    </tr>\n",
       "    <tr>\n",
       "      <td>2</td>\n",
       "      <td>No log</td>\n",
       "      <td>0.656600</td>\n",
       "      <td>0.747494</td>\n",
       "    </tr>\n",
       "    <tr>\n",
       "      <td>3</td>\n",
       "      <td>No log</td>\n",
       "      <td>0.351849</td>\n",
       "      <td>0.874436</td>\n",
       "    </tr>\n",
       "  </tbody>\n",
       "</table><p>"
      ]
     },
     "metadata": {},
     "output_type": "display_data"
    },
    {
     "data": {
      "text/plain": [
       "TrainOutput(global_step=60, training_loss=0.347784423828125, metrics={'train_runtime': 506.116, 'train_samples_per_second': 0.948, 'train_steps_per_second': 0.119, 'total_flos': 60413412999552.0, 'train_loss': 0.347784423828125, 'epoch': 3.0})"
      ]
     },
     "execution_count": 44,
     "metadata": {},
     "output_type": "execute_result"
    }
   ],
   "execution_count": 44
  },
  {
   "metadata": {
    "ExecuteTime": {
     "end_time": "2025-01-19T19:51:22.967848Z",
     "start_time": "2025-01-19T19:51:13.595459Z"
    }
   },
   "cell_type": "code",
   "source": "trainer.evaluate()",
   "outputs": [
    {
     "data": {
      "text/plain": [
       "<IPython.core.display.HTML object>"
      ],
      "text/html": []
     },
     "metadata": {},
     "output_type": "display_data"
    },
    {
     "data": {
      "text/plain": [
       "{'eval_loss': 0.3518490791320801,\n",
       " 'eval_f1': 0.8744358478401031,\n",
       " 'eval_runtime': 9.3294,\n",
       " 'eval_samples_per_second': 4.288,\n",
       " 'eval_steps_per_second': 0.536,\n",
       " 'epoch': 3.0}"
      ]
     },
     "execution_count": 45,
     "metadata": {},
     "output_type": "execute_result"
    }
   ],
   "execution_count": 45
  },
  {
   "cell_type": "markdown",
   "metadata": {
    "id": "uCm6rUwUNShK"
   },
   "source": [
    "# <font color='orange'>Тестирајте го моделот на тестирачкото множество</font>"
   ]
  },
  {
   "metadata": {
    "ExecuteTime": {
     "end_time": "2025-01-19T19:51:39.525465Z",
     "start_time": "2025-01-19T19:51:26.578896Z"
    }
   },
   "cell_type": "code",
   "source": "predictions = trainer.predict(tokenized_dataset[\"test\"])",
   "outputs": [],
   "execution_count": 46
  },
  {
   "metadata": {
    "ExecuteTime": {
     "end_time": "2025-01-19T19:52:09.342397Z",
     "start_time": "2025-01-19T19:52:09.328844Z"
    }
   },
   "cell_type": "code",
   "source": "predictions",
   "outputs": [
    {
     "data": {
      "text/plain": [
       "PredictionOutput(predictions=array([[-1.6638567 ,  1.501335  ],\n",
       "       [-1.6520761 ,  1.4944547 ],\n",
       "       [-1.5019475 ,  1.4679602 ],\n",
       "       [-1.6983128 ,  1.4699405 ],\n",
       "       [-1.6759464 ,  1.4438425 ],\n",
       "       [-1.4516627 ,  1.3210843 ],\n",
       "       [-1.4920034 ,  1.4247001 ],\n",
       "       [-1.6433635 ,  1.4990162 ],\n",
       "       [ 0.16858055, -0.06414195],\n",
       "       [-1.6833079 ,  1.4184525 ],\n",
       "       [-1.7076796 ,  1.417239  ],\n",
       "       [ 1.8144392 , -1.5351514 ],\n",
       "       [ 1.6258739 , -1.2914273 ],\n",
       "       [ 1.8522938 , -1.516457  ],\n",
       "       [ 1.5608214 , -1.2778987 ],\n",
       "       [ 1.0704697 , -0.7342307 ],\n",
       "       [ 0.6119562 , -0.38963795],\n",
       "       [-1.402787  ,  1.3858937 ],\n",
       "       [-1.1814772 ,  1.1355778 ],\n",
       "       [-1.7227972 ,  1.4602336 ],\n",
       "       [ 0.00652622,  0.08535943],\n",
       "       [-1.6188031 ,  1.4881507 ],\n",
       "       [ 1.3732914 , -0.99221694],\n",
       "       [-1.3615096 ,  1.2859312 ],\n",
       "       [-1.4713106 ,  1.4720902 ],\n",
       "       [-1.6722081 ,  1.499935  ],\n",
       "       [-1.7171836 ,  1.3595374 ],\n",
       "       [-1.5538625 ,  1.4253999 ],\n",
       "       [-1.3541814 ,  1.3454419 ],\n",
       "       [ 1.8138119 , -1.460702  ],\n",
       "       [ 1.7329819 , -1.3974975 ],\n",
       "       [-0.8276014 ,  0.86805564],\n",
       "       [-1.6505107 ,  1.533749  ],\n",
       "       [-0.18172453,  0.2912765 ],\n",
       "       [ 1.6208158 , -1.3368472 ],\n",
       "       [ 1.1340561 , -0.86601084],\n",
       "       [ 1.7053272 , -1.4327863 ],\n",
       "       [ 1.6692675 , -1.3581648 ],\n",
       "       [ 1.7622544 , -1.5188135 ],\n",
       "       [ 1.2244617 , -0.9660278 ]], dtype=float32), label_ids=array([1, 1, 1, 0, 1, 1, 1, 1, 0, 1, 1, 0, 0, 0, 0, 0, 0, 1, 1, 1, 0, 1,\n",
       "       0, 1, 1, 1, 1, 1, 1, 0, 0, 0, 1, 1, 1, 1, 0, 0, 0, 0]), metrics={'test_loss': 0.3518490791320801, 'test_f1': 0.8744358478401031, 'test_runtime': 12.9205, 'test_samples_per_second': 3.096, 'test_steps_per_second': 0.387})"
      ]
     },
     "execution_count": 47,
     "metadata": {},
     "output_type": "execute_result"
    }
   ],
   "execution_count": 47
  },
  {
   "metadata": {
    "ExecuteTime": {
     "end_time": "2025-01-19T19:52:19.856441Z",
     "start_time": "2025-01-19T19:52:19.848445Z"
    }
   },
   "cell_type": "code",
   "source": [
    "logits, labels = predictions.predictions, predictions.label_ids\n",
    "preds = np.argmax(logits, axis=-1)"
   ],
   "outputs": [],
   "execution_count": 48
  },
  {
   "metadata": {},
   "cell_type": "code",
   "outputs": [
    {
     "data": {
      "text/plain": [
       "array([1, 1, 1, 1, 1, 1, 1, 1, 0, 1, 1, 0, 0, 0, 0, 0, 0, 1, 1, 1, 1, 1,\n",
       "       0, 1, 1, 1, 1, 1, 1, 0, 0, 1, 1, 1, 0, 0, 0, 0, 0, 0])"
      ]
     },
     "execution_count": 49,
     "metadata": {},
     "output_type": "execute_result"
    }
   ],
   "execution_count": 49,
   "source": "preds"
  },
  {
   "cell_type": "markdown",
   "metadata": {
    "id": "GztPhuVJNaQd"
   },
   "source": [
    "# <font color='orange'>Пресметајте f1 score</font>"
   ]
  },
  {
   "metadata": {
    "ExecuteTime": {
     "end_time": "2025-01-19T19:52:43.213173Z",
     "start_time": "2025-01-19T19:52:43.204144Z"
    }
   },
   "cell_type": "code",
   "source": [
    "from sklearn.metrics import classification_report, confusion_matrix\n",
    "import seaborn as sns\n",
    "import matplotlib.pyplot as plt\n"
   ],
   "outputs": [],
   "execution_count": 50
  },
  {
   "metadata": {
    "ExecuteTime": {
     "end_time": "2025-01-19T19:52:46.462980Z",
     "start_time": "2025-01-19T19:52:46.442849Z"
    }
   },
   "cell_type": "code",
   "source": "print(classification_report(labels, preds))",
   "outputs": [
    {
     "name": "stdout",
     "output_type": "stream",
     "text": [
      "              precision    recall  f1-score   support\n",
      "\n",
      "           0       0.88      0.82      0.85        17\n",
      "           1       0.88      0.91      0.89        23\n",
      "\n",
      "    accuracy                           0.88        40\n",
      "   macro avg       0.88      0.87      0.87        40\n",
      "weighted avg       0.88      0.88      0.87        40\n",
      "\n"
     ]
    }
   ],
   "execution_count": 51
  },
  {
   "metadata": {
    "ExecuteTime": {
     "end_time": "2025-01-19T19:52:53.904689Z",
     "start_time": "2025-01-19T19:52:53.572893Z"
    }
   },
   "cell_type": "code",
   "source": [
    "sns.heatmap(confusion_matrix(labels, preds), annot=True, fmt=\"5.2f\", cmap=\"Blues\")\n",
    "plt.xlabel(\"Predicted Labels\")\n",
    "plt.ylabel(\"True Labels\")\n",
    "plt.title(\"Confusion Matrix\")"
   ],
   "outputs": [
    {
     "data": {
      "text/plain": [
       "Text(0.5, 1.0, 'Confusion Matrix')"
      ]
     },
     "execution_count": 52,
     "metadata": {},
     "output_type": "execute_result"
    },
    {
     "data": {
      "text/plain": [
       "<Figure size 640x480 with 2 Axes>"
      ],
      "image/png": "[encoded data removed]"
     },
     "metadata": {},
     "output_type": "display_data"
    }
   ],
   "execution_count": 52
  }
 ],
 "metadata": {
  "colab": {
   "provenance": []
  },
  "kernelspec": {
   "display_name": "i2ds",
   "language": "python",
   "name": "python3"
  },
  "language_info": {
   "codemirror_mode": {
    "name": "ipython",
    "version": 3
   },
   "file_extension": ".py",
   "mimetype": "text/x-python",
   "name": "python",
   "nbconvert_exporter": "python",
   "pygments_lexer": "ipython3",
   "version": "3.12.5"
  }
 },
 "nbformat": 4,
 "nbformat_minor": 0
}
