{
 "cells": [
  {
   "cell_type": "markdown",
   "metadata": {},
   "source": [
    "![image](screenshot.png)"
   ]
  },
  {
   "cell_type": "markdown",
   "metadata": {
    "id": "jKehrreBM1HX"
   },
   "source": [
    "# <font color='orange'>Направете претпроцесирање на податоците</font>"
   ]
  },
  {
   "cell_type": "markdown",
   "metadata": {
    "id": "Ta-sxMQIM7f3"
   },
   "source": [
    "# <font color='orange'>Поделето го на тренирачко и тестирачко множество во сооднос 80:20</font>"
   ]
  },
  {
   "cell_type": "markdown",
   "metadata": {
    "id": "W9F0HQpRNEev"
   },
   "source": [
    "# <font color='orange'>Искористете соодветен трансформер модел за проблемот</font>"
   ]
  },
  {
   "cell_type": "markdown",
   "metadata": {
    "id": "H6nlOE9XNMfz"
   },
   "source": [
    "# <font color='orange'>Фино-подесете (тренирајте) го моделот</font>"
   ]
  },
  {
   "cell_type": "markdown",
   "metadata": {
    "id": "uCm6rUwUNShK"
   },
   "source": [
    "# <font color='orange'>Тестирајте го моделот на тестирачкото множество</font>"
   ]
  },
  {
   "cell_type": "markdown",
   "metadata": {
    "id": "GztPhuVJNaQd"
   },
   "source": [
    "# <font color='orange'>Пресметајте f1 score</font>"
   ]
  }
 ],
 "metadata": {
  "colab": {
   "provenance": []
  },
  "kernelspec": {
   "display_name": "i2ds",
   "language": "python",
   "name": "python3"
  },
  "language_info": {
   "codemirror_mode": {
    "name": "ipython",
    "version": 3
   },
   "file_extension": ".py",
   "mimetype": "text/x-python",
   "name": "python",
   "nbconvert_exporter": "python",
   "pygments_lexer": "ipython3",
   "version": "3.12.5"
  }
 },
 "nbformat": 4,
 "nbformat_minor": 0
}
