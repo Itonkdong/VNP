{
 "cells": [
  {
   "cell_type": "markdown",
   "metadata": {
    "id": "rODb9vHvIEbp"
   },
   "source": [
    "# Requirements"
   ]
  },
  {
   "cell_type": "code",
   "metadata": {
    "ExecuteTime": {
     "end_time": "2025-01-19T00:10:37.955244Z",
     "start_time": "2025-01-19T00:10:33.583698Z"
    }
   },
   "source": [
    "!pip install tensorflow keras"
   ],
   "outputs": [
    {
     "name": "stdout",
     "output_type": "stream",
     "text": [
      "Requirement already satisfied: tensorflow in d:\\fax\\laip\\.venv\\lib\\site-packages (2.18.0)\n",
      "Requirement already satisfied: keras in d:\\fax\\laip\\.venv\\lib\\site-packages (3.7.0)\n",
      "Requirement already satisfied: tensorflow-intel==2.18.0 in d:\\fax\\laip\\.venv\\lib\\site-packages (from tensorflow) (2.18.0)\n",
      "Requirement already satisfied: absl-py>=1.0.0 in d:\\fax\\laip\\.venv\\lib\\site-packages (from tensorflow-intel==2.18.0->tensorflow) (2.1.0)\n",
      "Requirement already satisfied: astunparse>=1.6.0 in d:\\fax\\laip\\.venv\\lib\\site-packages (from tensorflow-intel==2.18.0->tensorflow) (1.6.3)\n",
      "Requirement already satisfied: flatbuffers>=24.3.25 in d:\\fax\\laip\\.venv\\lib\\site-packages (from tensorflow-intel==2.18.0->tensorflow) (24.3.25)\n",
      "Requirement already satisfied: gast!=0.5.0,!=0.5.1,!=0.5.2,>=0.2.1 in d:\\fax\\laip\\.venv\\lib\\site-packages (from tensorflow-intel==2.18.0->tensorflow) (0.6.0)\n",
      "Requirement already satisfied: google-pasta>=0.1.1 in d:\\fax\\laip\\.venv\\lib\\site-packages (from tensorflow-intel==2.18.0->tensorflow) (0.2.0)\n",
      "Requirement already satisfied: libclang>=13.0.0 in d:\\fax\\laip\\.venv\\lib\\site-packages (from tensorflow-intel==2.18.0->tensorflow) (18.1.1)\n",
      "Requirement already satisfied: opt-einsum>=2.3.2 in d:\\fax\\laip\\.venv\\lib\\site-packages (from tensorflow-intel==2.18.0->tensorflow) (3.4.0)\n",
      "Requirement already satisfied: packaging in d:\\fax\\laip\\.venv\\lib\\site-packages (from tensorflow-intel==2.18.0->tensorflow) (24.1)\n",
      "Requirement already satisfied: protobuf!=4.21.0,!=4.21.1,!=4.21.2,!=4.21.3,!=4.21.4,!=4.21.5,<6.0.0dev,>=3.20.3 in d:\\fax\\laip\\.venv\\lib\\site-packages (from tensorflow-intel==2.18.0->tensorflow) (5.29.1)\n",
      "Requirement already satisfied: requests<3,>=2.21.0 in d:\\fax\\laip\\.venv\\lib\\site-packages (from tensorflow-intel==2.18.0->tensorflow) (2.32.3)\n",
      "Requirement already satisfied: setuptools in d:\\fax\\laip\\.venv\\lib\\site-packages (from tensorflow-intel==2.18.0->tensorflow) (75.2.0)\n",
      "Requirement already satisfied: six>=1.12.0 in d:\\fax\\laip\\.venv\\lib\\site-packages (from tensorflow-intel==2.18.0->tensorflow) (1.16.0)\n",
      "Requirement already satisfied: termcolor>=1.1.0 in d:\\fax\\laip\\.venv\\lib\\site-packages (from tensorflow-intel==2.18.0->tensorflow) (2.5.0)\n",
      "Requirement already satisfied: typing-extensions>=3.6.6 in d:\\fax\\laip\\.venv\\lib\\site-packages (from tensorflow-intel==2.18.0->tensorflow) (4.12.2)\n",
      "Requirement already satisfied: wrapt>=1.11.0 in d:\\fax\\laip\\.venv\\lib\\site-packages (from tensorflow-intel==2.18.0->tensorflow) (1.17.0)\n",
      "Requirement already satisfied: grpcio<2.0,>=1.24.3 in d:\\fax\\laip\\.venv\\lib\\site-packages (from tensorflow-intel==2.18.0->tensorflow) (1.68.1)\n",
      "Requirement already satisfied: tensorboard<2.19,>=2.18 in d:\\fax\\laip\\.venv\\lib\\site-packages (from tensorflow-intel==2.18.0->tensorflow) (2.18.0)\n",
      "Requirement already satisfied: numpy<2.1.0,>=1.26.0 in d:\\fax\\laip\\.venv\\lib\\site-packages (from tensorflow-intel==2.18.0->tensorflow) (2.0.2)\n",
      "Requirement already satisfied: h5py>=3.11.0 in d:\\fax\\laip\\.venv\\lib\\site-packages (from tensorflow-intel==2.18.0->tensorflow) (3.12.1)\n",
      "Requirement already satisfied: ml-dtypes<0.5.0,>=0.4.0 in d:\\fax\\laip\\.venv\\lib\\site-packages (from tensorflow-intel==2.18.0->tensorflow) (0.4.1)\n",
      "Requirement already satisfied: rich in d:\\fax\\laip\\.venv\\lib\\site-packages (from keras) (13.9.4)\n",
      "Requirement already satisfied: namex in d:\\fax\\laip\\.venv\\lib\\site-packages (from keras) (0.0.8)\n",
      "Requirement already satisfied: optree in d:\\fax\\laip\\.venv\\lib\\site-packages (from keras) (0.13.1)\n",
      "Requirement already satisfied: markdown-it-py>=2.2.0 in d:\\fax\\laip\\.venv\\lib\\site-packages (from rich->keras) (3.0.0)\n",
      "Requirement already satisfied: pygments<3.0.0,>=2.13.0 in d:\\fax\\laip\\.venv\\lib\\site-packages (from rich->keras) (2.18.0)\n",
      "Requirement already satisfied: wheel<1.0,>=0.23.0 in d:\\fax\\laip\\.venv\\lib\\site-packages (from astunparse>=1.6.0->tensorflow-intel==2.18.0->tensorflow) (0.45.1)\n",
      "Requirement already satisfied: mdurl~=0.1 in d:\\fax\\laip\\.venv\\lib\\site-packages (from markdown-it-py>=2.2.0->rich->keras) (0.1.2)\n",
      "Requirement already satisfied: charset-normalizer<4,>=2 in d:\\fax\\laip\\.venv\\lib\\site-packages (from requests<3,>=2.21.0->tensorflow-intel==2.18.0->tensorflow) (3.4.0)\n",
      "Requirement already satisfied: idna<4,>=2.5 in d:\\fax\\laip\\.venv\\lib\\site-packages (from requests<3,>=2.21.0->tensorflow-intel==2.18.0->tensorflow) (3.10)\n",
      "Requirement already satisfied: urllib3<3,>=1.21.1 in d:\\fax\\laip\\.venv\\lib\\site-packages (from requests<3,>=2.21.0->tensorflow-intel==2.18.0->tensorflow) (2.2.3)\n",
      "Requirement already satisfied: certifi>=2017.4.17 in d:\\fax\\laip\\.venv\\lib\\site-packages (from requests<3,>=2.21.0->tensorflow-intel==2.18.0->tensorflow) (2024.8.30)\n",
      "Requirement already satisfied: markdown>=2.6.8 in d:\\fax\\laip\\.venv\\lib\\site-packages (from tensorboard<2.19,>=2.18->tensorflow-intel==2.18.0->tensorflow) (3.7)\n",
      "Requirement already satisfied: tensorboard-data-server<0.8.0,>=0.7.0 in d:\\fax\\laip\\.venv\\lib\\site-packages (from tensorboard<2.19,>=2.18->tensorflow-intel==2.18.0->tensorflow) (0.7.2)\n",
      "Requirement already satisfied: werkzeug>=1.0.1 in d:\\fax\\laip\\.venv\\lib\\site-packages (from tensorboard<2.19,>=2.18->tensorflow-intel==2.18.0->tensorflow) (3.1.3)\n",
      "Requirement already satisfied: MarkupSafe>=2.1.1 in d:\\fax\\laip\\.venv\\lib\\site-packages (from werkzeug>=1.0.1->tensorboard<2.19,>=2.18->tensorflow-intel==2.18.0->tensorflow) (3.0.2)\n"
     ]
    }
   ],
   "execution_count": 97
  },
  {
   "cell_type": "code",
   "metadata": {
    "id": "-rgNa1IOH9KV",
    "ExecuteTime": {
     "end_time": "2025-01-19T00:10:38.011067Z",
     "start_time": "2025-01-19T00:10:37.956760Z"
    }
   },
   "source": [
    "import pandas as pd"
   ],
   "outputs": [],
   "execution_count": 98
  },
  {
   "cell_type": "code",
   "metadata": {
    "id": "U4KmHBd2cdx9",
    "ExecuteTime": {
     "end_time": "2025-01-19T00:10:38.071267Z",
     "start_time": "2025-01-19T00:10:38.012074Z"
    }
   },
   "source": [
    "# Add as many imports as you need."
   ],
   "outputs": [],
   "execution_count": 99
  },
  {
   "cell_type": "markdown",
   "metadata": {
    "id": "_rAh_91OIjeS"
   },
   "source": [
    "## Introduction\n",
    "In this laboratory assignment, the focus is on time series forecasting, specifically targeting the prediction of the current **close price** for Bitcoin. To accomplish this, you will use data from the preceding 7 days, and past statistics. \n"
   ]
  },
  {
   "cell_type": "markdown",
   "metadata": {
    "id": "zBYI-EypaWom"
   },
   "source": [
    "## The Amazon Stock Price Dataset"
   ]
  },
  {
   "cell_type": "markdown",
   "metadata": {
    "id": "iAtPoYzAZo1v"
   },
   "source": [
    "The dataset comprises the following columns:\n",
    "- date - the date of the recorded price\n",
    "- symbol - the resource for prediction\n",
    "- open - the open price of BTC\n",
    "- high - the high price of BTC\n",
    "- low - the low price of BTC\n",
    "- volumeBTC - the volume of trades BTC\n",
    "- volumeUSD - the volume of trades USD\n",
    "- close - the close price of BTC\n",
    "\n",
    "Target:\n",
    "close"
   ]
  },
  {
   "cell_type": "markdown",
   "metadata": {
    "id": "DCm1qm1mZwMr"
   },
   "source": [
    "Load the dataset into a `pandas` data frame."
   ]
  },
  {
   "cell_type": "code",
   "metadata": {
    "id": "KMOn4fgcZn8s",
    "ExecuteTime": {
     "end_time": "2025-01-19T00:10:38.138193Z",
     "start_time": "2025-01-19T00:10:38.073332Z"
    }
   },
   "source": [
    "# Write your code here. Add as many boxes as you need.\n",
    "\n",
    "# Add as many imports as you need.\n",
    "# Add as many imports as you need.\n",
    "import pandas as pd\n",
    "\n",
    "from VNP.packages.data_alalysis import *\n",
    "from VNP.packages.data_preperation import *\n",
    "from VNP.packages.missing_values import *\n",
    "from VNP.packages.visualization import *\n",
    "from VNP.packages.models import *\n",
    "from VNP.packages.evaluation import *\n",
    "from VNP.packages.vnp_ez import *\n",
    "%load_ext autoreload\n",
    "%autoreload 2"
   ],
   "outputs": [
    {
     "name": "stdout",
     "output_type": "stream",
     "text": [
      "The autoreload extension is already loaded. To reload it, use:\n",
      "  %reload_ext autoreload\n"
     ]
    }
   ],
   "execution_count": 100
  },
  {
   "cell_type": "markdown",
   "metadata": {
    "id": "5slwyyhCKRo9"
   },
   "source": [
    "Explore the dataset using visualizations of your choice."
   ]
  },
  {
   "cell_type": "code",
   "metadata": {
    "id": "DFY6TKhGKOY4",
    "ExecuteTime": {
     "end_time": "2025-01-19T00:10:38.211384Z",
     "start_time": "2025-01-19T00:10:38.140247Z"
    }
   },
   "source": [
    "# Write your code here. Add as many boxes as you need.\n",
    "df = pd.read_csv(\"../data/BTC-Daily.csv\")"
   ],
   "outputs": [],
   "execution_count": 101
  },
  {
   "metadata": {
    "ExecuteTime": {
     "end_time": "2025-01-19T00:10:38.282991Z",
     "start_time": "2025-01-19T00:10:38.213392Z"
    }
   },
   "cell_type": "code",
   "source": "df",
   "outputs": [
    {
     "data": {
      "text/plain": [
       "                 date   symbol      open      high       low     close  \\\n",
       "0       3/1/2022 0:00  BTC/USD  43221.71  43626.49  43185.48  43185.48   \n",
       "1      2/28/2022 0:00  BTC/USD  37717.10  44256.08  37468.99  43178.98   \n",
       "2      2/27/2022 0:00  BTC/USD  39146.66  39886.92  37015.74  37712.68   \n",
       "3      2/26/2022 0:00  BTC/USD  39242.64  40330.99  38600.00  39146.66   \n",
       "4      2/25/2022 0:00  BTC/USD  38360.93  39727.97  38027.61  39231.64   \n",
       "...               ...      ...       ...       ...       ...       ...   \n",
       "2646   12/2/2014 0:00  BTC/USD    378.39    382.86    375.23    379.25   \n",
       "2647   12/1/2014 0:00  BTC/USD    376.40    382.31    373.03    378.39   \n",
       "2648  11/30/2014 0:00  BTC/USD    376.57    381.99    373.32    373.34   \n",
       "2649  11/29/2014 0:00  BTC/USD    376.42    386.60    372.25    376.72   \n",
       "2650  11/28/2014 0:00  BTC/USD    363.59    381.34    360.57    376.28   \n",
       "\n",
       "        Volume BTC    Volume USD  \n",
       "0     4.900629e+01  2.116360e+06  \n",
       "1     3.160618e+03  1.364723e+08  \n",
       "2     1.701817e+03  6.418008e+07  \n",
       "3     9.127241e+02  3.573010e+07  \n",
       "4     2.202852e+03  8.642149e+07  \n",
       "...            ...           ...  \n",
       "2646  2.593576e+06  6.832530e+03  \n",
       "2647  2.520662e+06  6.660560e+03  \n",
       "2648  1.145567e+06  3.046330e+03  \n",
       "2649  2.746157e+06  7.245190e+03  \n",
       "2650  3.220878e+06  8.617150e+03  \n",
       "\n",
       "[2651 rows x 8 columns]"
      ],
      "text/html": [
       "<div>\n",
       "<style scoped>\n",
       "    .dataframe tbody tr th:only-of-type {\n",
       "        vertical-align: middle;\n",
       "    }\n",
       "\n",
       "    .dataframe tbody tr th {\n",
       "        vertical-align: top;\n",
       "    }\n",
       "\n",
       "    .dataframe thead th {\n",
       "        text-align: right;\n",
       "    }\n",
       "</style>\n",
       "<table border=\"1\" class=\"dataframe\">\n",
       "  <thead>\n",
       "    <tr style=\"text-align: right;\">\n",
       "      <th></th>\n",
       "      <th>date</th>\n",
       "      <th>symbol</th>\n",
       "      <th>open</th>\n",
       "      <th>high</th>\n",
       "      <th>low</th>\n",
       "      <th>close</th>\n",
       "      <th>Volume BTC</th>\n",
       "      <th>Volume USD</th>\n",
       "    </tr>\n",
       "  </thead>\n",
       "  <tbody>\n",
       "    <tr>\n",
       "      <th>0</th>\n",
       "      <td>3/1/2022 0:00</td>\n",
       "      <td>BTC/USD</td>\n",
       "      <td>43221.71</td>\n",
       "      <td>43626.49</td>\n",
       "      <td>43185.48</td>\n",
       "      <td>43185.48</td>\n",
       "      <td>4.900629e+01</td>\n",
       "      <td>2.116360e+06</td>\n",
       "    </tr>\n",
       "    <tr>\n",
       "      <th>1</th>\n",
       "      <td>2/28/2022 0:00</td>\n",
       "      <td>BTC/USD</td>\n",
       "      <td>37717.10</td>\n",
       "      <td>44256.08</td>\n",
       "      <td>37468.99</td>\n",
       "      <td>43178.98</td>\n",
       "      <td>3.160618e+03</td>\n",
       "      <td>1.364723e+08</td>\n",
       "    </tr>\n",
       "    <tr>\n",
       "      <th>2</th>\n",
       "      <td>2/27/2022 0:00</td>\n",
       "      <td>BTC/USD</td>\n",
       "      <td>39146.66</td>\n",
       "      <td>39886.92</td>\n",
       "      <td>37015.74</td>\n",
       "      <td>37712.68</td>\n",
       "      <td>1.701817e+03</td>\n",
       "      <td>6.418008e+07</td>\n",
       "    </tr>\n",
       "    <tr>\n",
       "      <th>3</th>\n",
       "      <td>2/26/2022 0:00</td>\n",
       "      <td>BTC/USD</td>\n",
       "      <td>39242.64</td>\n",
       "      <td>40330.99</td>\n",
       "      <td>38600.00</td>\n",
       "      <td>39146.66</td>\n",
       "      <td>9.127241e+02</td>\n",
       "      <td>3.573010e+07</td>\n",
       "    </tr>\n",
       "    <tr>\n",
       "      <th>4</th>\n",
       "      <td>2/25/2022 0:00</td>\n",
       "      <td>BTC/USD</td>\n",
       "      <td>38360.93</td>\n",
       "      <td>39727.97</td>\n",
       "      <td>38027.61</td>\n",
       "      <td>39231.64</td>\n",
       "      <td>2.202852e+03</td>\n",
       "      <td>8.642149e+07</td>\n",
       "    </tr>\n",
       "    <tr>\n",
       "      <th>...</th>\n",
       "      <td>...</td>\n",
       "      <td>...</td>\n",
       "      <td>...</td>\n",
       "      <td>...</td>\n",
       "      <td>...</td>\n",
       "      <td>...</td>\n",
       "      <td>...</td>\n",
       "      <td>...</td>\n",
       "    </tr>\n",
       "    <tr>\n",
       "      <th>2646</th>\n",
       "      <td>12/2/2014 0:00</td>\n",
       "      <td>BTC/USD</td>\n",
       "      <td>378.39</td>\n",
       "      <td>382.86</td>\n",
       "      <td>375.23</td>\n",
       "      <td>379.25</td>\n",
       "      <td>2.593576e+06</td>\n",
       "      <td>6.832530e+03</td>\n",
       "    </tr>\n",
       "    <tr>\n",
       "      <th>2647</th>\n",
       "      <td>12/1/2014 0:00</td>\n",
       "      <td>BTC/USD</td>\n",
       "      <td>376.40</td>\n",
       "      <td>382.31</td>\n",
       "      <td>373.03</td>\n",
       "      <td>378.39</td>\n",
       "      <td>2.520662e+06</td>\n",
       "      <td>6.660560e+03</td>\n",
       "    </tr>\n",
       "    <tr>\n",
       "      <th>2648</th>\n",
       "      <td>11/30/2014 0:00</td>\n",
       "      <td>BTC/USD</td>\n",
       "      <td>376.57</td>\n",
       "      <td>381.99</td>\n",
       "      <td>373.32</td>\n",
       "      <td>373.34</td>\n",
       "      <td>1.145567e+06</td>\n",
       "      <td>3.046330e+03</td>\n",
       "    </tr>\n",
       "    <tr>\n",
       "      <th>2649</th>\n",
       "      <td>11/29/2014 0:00</td>\n",
       "      <td>BTC/USD</td>\n",
       "      <td>376.42</td>\n",
       "      <td>386.60</td>\n",
       "      <td>372.25</td>\n",
       "      <td>376.72</td>\n",
       "      <td>2.746157e+06</td>\n",
       "      <td>7.245190e+03</td>\n",
       "    </tr>\n",
       "    <tr>\n",
       "      <th>2650</th>\n",
       "      <td>11/28/2014 0:00</td>\n",
       "      <td>BTC/USD</td>\n",
       "      <td>363.59</td>\n",
       "      <td>381.34</td>\n",
       "      <td>360.57</td>\n",
       "      <td>376.28</td>\n",
       "      <td>3.220878e+06</td>\n",
       "      <td>8.617150e+03</td>\n",
       "    </tr>\n",
       "  </tbody>\n",
       "</table>\n",
       "<p>2651 rows × 8 columns</p>\n",
       "</div>"
      ]
     },
     "execution_count": 102,
     "metadata": {},
     "output_type": "execute_result"
    }
   ],
   "execution_count": 102
  },
  {
   "metadata": {
    "ExecuteTime": {
     "end_time": "2025-01-19T00:10:38.349242Z",
     "start_time": "2025-01-19T00:10:38.286001Z"
    }
   },
   "cell_type": "code",
   "source": "df.isnull().sum()",
   "outputs": [
    {
     "data": {
      "text/plain": [
       "date          0\n",
       "symbol        0\n",
       "open          0\n",
       "high          0\n",
       "low           0\n",
       "close         0\n",
       "Volume BTC    0\n",
       "Volume USD    0\n",
       "dtype: int64"
      ]
     },
     "execution_count": 103,
     "metadata": {},
     "output_type": "execute_result"
    }
   ],
   "execution_count": 103
  },
  {
   "metadata": {
    "ExecuteTime": {
     "end_time": "2025-01-19T00:10:38.454064Z",
     "start_time": "2025-01-19T00:10:38.352030Z"
    }
   },
   "cell_type": "code",
   "source": "df_1 = df.drop(columns=\"symbol\")",
   "outputs": [],
   "execution_count": 104
  },
  {
   "metadata": {
    "ExecuteTime": {
     "end_time": "2025-01-19T00:10:38.593412Z",
     "start_time": "2025-01-19T00:10:38.456582Z"
    }
   },
   "cell_type": "code",
   "source": "df_1",
   "outputs": [
    {
     "data": {
      "text/plain": [
       "                 date      open      high       low     close    Volume BTC  \\\n",
       "0       3/1/2022 0:00  43221.71  43626.49  43185.48  43185.48  4.900629e+01   \n",
       "1      2/28/2022 0:00  37717.10  44256.08  37468.99  43178.98  3.160618e+03   \n",
       "2      2/27/2022 0:00  39146.66  39886.92  37015.74  37712.68  1.701817e+03   \n",
       "3      2/26/2022 0:00  39242.64  40330.99  38600.00  39146.66  9.127241e+02   \n",
       "4      2/25/2022 0:00  38360.93  39727.97  38027.61  39231.64  2.202852e+03   \n",
       "...               ...       ...       ...       ...       ...           ...   \n",
       "2646   12/2/2014 0:00    378.39    382.86    375.23    379.25  2.593576e+06   \n",
       "2647   12/1/2014 0:00    376.40    382.31    373.03    378.39  2.520662e+06   \n",
       "2648  11/30/2014 0:00    376.57    381.99    373.32    373.34  1.145567e+06   \n",
       "2649  11/29/2014 0:00    376.42    386.60    372.25    376.72  2.746157e+06   \n",
       "2650  11/28/2014 0:00    363.59    381.34    360.57    376.28  3.220878e+06   \n",
       "\n",
       "        Volume USD  \n",
       "0     2.116360e+06  \n",
       "1     1.364723e+08  \n",
       "2     6.418008e+07  \n",
       "3     3.573010e+07  \n",
       "4     8.642149e+07  \n",
       "...            ...  \n",
       "2646  6.832530e+03  \n",
       "2647  6.660560e+03  \n",
       "2648  3.046330e+03  \n",
       "2649  7.245190e+03  \n",
       "2650  8.617150e+03  \n",
       "\n",
       "[2651 rows x 7 columns]"
      ],
      "text/html": [
       "<div>\n",
       "<style scoped>\n",
       "    .dataframe tbody tr th:only-of-type {\n",
       "        vertical-align: middle;\n",
       "    }\n",
       "\n",
       "    .dataframe tbody tr th {\n",
       "        vertical-align: top;\n",
       "    }\n",
       "\n",
       "    .dataframe thead th {\n",
       "        text-align: right;\n",
       "    }\n",
       "</style>\n",
       "<table border=\"1\" class=\"dataframe\">\n",
       "  <thead>\n",
       "    <tr style=\"text-align: right;\">\n",
       "      <th></th>\n",
       "      <th>date</th>\n",
       "      <th>open</th>\n",
       "      <th>high</th>\n",
       "      <th>low</th>\n",
       "      <th>close</th>\n",
       "      <th>Volume BTC</th>\n",
       "      <th>Volume USD</th>\n",
       "    </tr>\n",
       "  </thead>\n",
       "  <tbody>\n",
       "    <tr>\n",
       "      <th>0</th>\n",
       "      <td>3/1/2022 0:00</td>\n",
       "      <td>43221.71</td>\n",
       "      <td>43626.49</td>\n",
       "      <td>43185.48</td>\n",
       "      <td>43185.48</td>\n",
       "      <td>4.900629e+01</td>\n",
       "      <td>2.116360e+06</td>\n",
       "    </tr>\n",
       "    <tr>\n",
       "      <th>1</th>\n",
       "      <td>2/28/2022 0:00</td>\n",
       "      <td>37717.10</td>\n",
       "      <td>44256.08</td>\n",
       "      <td>37468.99</td>\n",
       "      <td>43178.98</td>\n",
       "      <td>3.160618e+03</td>\n",
       "      <td>1.364723e+08</td>\n",
       "    </tr>\n",
       "    <tr>\n",
       "      <th>2</th>\n",
       "      <td>2/27/2022 0:00</td>\n",
       "      <td>39146.66</td>\n",
       "      <td>39886.92</td>\n",
       "      <td>37015.74</td>\n",
       "      <td>37712.68</td>\n",
       "      <td>1.701817e+03</td>\n",
       "      <td>6.418008e+07</td>\n",
       "    </tr>\n",
       "    <tr>\n",
       "      <th>3</th>\n",
       "      <td>2/26/2022 0:00</td>\n",
       "      <td>39242.64</td>\n",
       "      <td>40330.99</td>\n",
       "      <td>38600.00</td>\n",
       "      <td>39146.66</td>\n",
       "      <td>9.127241e+02</td>\n",
       "      <td>3.573010e+07</td>\n",
       "    </tr>\n",
       "    <tr>\n",
       "      <th>4</th>\n",
       "      <td>2/25/2022 0:00</td>\n",
       "      <td>38360.93</td>\n",
       "      <td>39727.97</td>\n",
       "      <td>38027.61</td>\n",
       "      <td>39231.64</td>\n",
       "      <td>2.202852e+03</td>\n",
       "      <td>8.642149e+07</td>\n",
       "    </tr>\n",
       "    <tr>\n",
       "      <th>...</th>\n",
       "      <td>...</td>\n",
       "      <td>...</td>\n",
       "      <td>...</td>\n",
       "      <td>...</td>\n",
       "      <td>...</td>\n",
       "      <td>...</td>\n",
       "      <td>...</td>\n",
       "    </tr>\n",
       "    <tr>\n",
       "      <th>2646</th>\n",
       "      <td>12/2/2014 0:00</td>\n",
       "      <td>378.39</td>\n",
       "      <td>382.86</td>\n",
       "      <td>375.23</td>\n",
       "      <td>379.25</td>\n",
       "      <td>2.593576e+06</td>\n",
       "      <td>6.832530e+03</td>\n",
       "    </tr>\n",
       "    <tr>\n",
       "      <th>2647</th>\n",
       "      <td>12/1/2014 0:00</td>\n",
       "      <td>376.40</td>\n",
       "      <td>382.31</td>\n",
       "      <td>373.03</td>\n",
       "      <td>378.39</td>\n",
       "      <td>2.520662e+06</td>\n",
       "      <td>6.660560e+03</td>\n",
       "    </tr>\n",
       "    <tr>\n",
       "      <th>2648</th>\n",
       "      <td>11/30/2014 0:00</td>\n",
       "      <td>376.57</td>\n",
       "      <td>381.99</td>\n",
       "      <td>373.32</td>\n",
       "      <td>373.34</td>\n",
       "      <td>1.145567e+06</td>\n",
       "      <td>3.046330e+03</td>\n",
       "    </tr>\n",
       "    <tr>\n",
       "      <th>2649</th>\n",
       "      <td>11/29/2014 0:00</td>\n",
       "      <td>376.42</td>\n",
       "      <td>386.60</td>\n",
       "      <td>372.25</td>\n",
       "      <td>376.72</td>\n",
       "      <td>2.746157e+06</td>\n",
       "      <td>7.245190e+03</td>\n",
       "    </tr>\n",
       "    <tr>\n",
       "      <th>2650</th>\n",
       "      <td>11/28/2014 0:00</td>\n",
       "      <td>363.59</td>\n",
       "      <td>381.34</td>\n",
       "      <td>360.57</td>\n",
       "      <td>376.28</td>\n",
       "      <td>3.220878e+06</td>\n",
       "      <td>8.617150e+03</td>\n",
       "    </tr>\n",
       "  </tbody>\n",
       "</table>\n",
       "<p>2651 rows × 7 columns</p>\n",
       "</div>"
      ]
     },
     "execution_count": 105,
     "metadata": {},
     "output_type": "execute_result"
    }
   ],
   "execution_count": 105
  },
  {
   "metadata": {
    "ExecuteTime": {
     "end_time": "2025-01-19T00:10:38.751025Z",
     "start_time": "2025-01-19T00:10:38.599969Z"
    }
   },
   "cell_type": "code",
   "source": [
    "df_1[\"date\"] = pd.to_datetime(df_1[\"date\"])\n",
    "df_1.set_index(keys=[\"date\"], inplace=True)\n",
    "df_1.sort_index(inplace=True)"
   ],
   "outputs": [],
   "execution_count": 106
  },
  {
   "metadata": {
    "ExecuteTime": {
     "end_time": "2025-01-19T00:10:38.899607Z",
     "start_time": "2025-01-19T00:10:38.754039Z"
    }
   },
   "cell_type": "code",
   "source": "df_1",
   "outputs": [
    {
     "data": {
      "text/plain": [
       "                open      high       low     close    Volume BTC    Volume USD\n",
       "date                                                                          \n",
       "2014-11-28    363.59    381.34    360.57    376.28  3.220878e+06  8.617150e+03\n",
       "2014-11-29    376.42    386.60    372.25    376.72  2.746157e+06  7.245190e+03\n",
       "2014-11-30    376.57    381.99    373.32    373.34  1.145567e+06  3.046330e+03\n",
       "2014-12-01    376.40    382.31    373.03    378.39  2.520662e+06  6.660560e+03\n",
       "2014-12-02    378.39    382.86    375.23    379.25  2.593576e+06  6.832530e+03\n",
       "...              ...       ...       ...       ...           ...           ...\n",
       "2022-02-25  38360.93  39727.97  38027.61  39231.64  2.202852e+03  8.642149e+07\n",
       "2022-02-26  39242.64  40330.99  38600.00  39146.66  9.127241e+02  3.573010e+07\n",
       "2022-02-27  39146.66  39886.92  37015.74  37712.68  1.701817e+03  6.418008e+07\n",
       "2022-02-28  37717.10  44256.08  37468.99  43178.98  3.160618e+03  1.364723e+08\n",
       "2022-03-01  43221.71  43626.49  43185.48  43185.48  4.900629e+01  2.116360e+06\n",
       "\n",
       "[2651 rows x 6 columns]"
      ],
      "text/html": [
       "<div>\n",
       "<style scoped>\n",
       "    .dataframe tbody tr th:only-of-type {\n",
       "        vertical-align: middle;\n",
       "    }\n",
       "\n",
       "    .dataframe tbody tr th {\n",
       "        vertical-align: top;\n",
       "    }\n",
       "\n",
       "    .dataframe thead th {\n",
       "        text-align: right;\n",
       "    }\n",
       "</style>\n",
       "<table border=\"1\" class=\"dataframe\">\n",
       "  <thead>\n",
       "    <tr style=\"text-align: right;\">\n",
       "      <th></th>\n",
       "      <th>open</th>\n",
       "      <th>high</th>\n",
       "      <th>low</th>\n",
       "      <th>close</th>\n",
       "      <th>Volume BTC</th>\n",
       "      <th>Volume USD</th>\n",
       "    </tr>\n",
       "    <tr>\n",
       "      <th>date</th>\n",
       "      <th></th>\n",
       "      <th></th>\n",
       "      <th></th>\n",
       "      <th></th>\n",
       "      <th></th>\n",
       "      <th></th>\n",
       "    </tr>\n",
       "  </thead>\n",
       "  <tbody>\n",
       "    <tr>\n",
       "      <th>2014-11-28</th>\n",
       "      <td>363.59</td>\n",
       "      <td>381.34</td>\n",
       "      <td>360.57</td>\n",
       "      <td>376.28</td>\n",
       "      <td>3.220878e+06</td>\n",
       "      <td>8.617150e+03</td>\n",
       "    </tr>\n",
       "    <tr>\n",
       "      <th>2014-11-29</th>\n",
       "      <td>376.42</td>\n",
       "      <td>386.60</td>\n",
       "      <td>372.25</td>\n",
       "      <td>376.72</td>\n",
       "      <td>2.746157e+06</td>\n",
       "      <td>7.245190e+03</td>\n",
       "    </tr>\n",
       "    <tr>\n",
       "      <th>2014-11-30</th>\n",
       "      <td>376.57</td>\n",
       "      <td>381.99</td>\n",
       "      <td>373.32</td>\n",
       "      <td>373.34</td>\n",
       "      <td>1.145567e+06</td>\n",
       "      <td>3.046330e+03</td>\n",
       "    </tr>\n",
       "    <tr>\n",
       "      <th>2014-12-01</th>\n",
       "      <td>376.40</td>\n",
       "      <td>382.31</td>\n",
       "      <td>373.03</td>\n",
       "      <td>378.39</td>\n",
       "      <td>2.520662e+06</td>\n",
       "      <td>6.660560e+03</td>\n",
       "    </tr>\n",
       "    <tr>\n",
       "      <th>2014-12-02</th>\n",
       "      <td>378.39</td>\n",
       "      <td>382.86</td>\n",
       "      <td>375.23</td>\n",
       "      <td>379.25</td>\n",
       "      <td>2.593576e+06</td>\n",
       "      <td>6.832530e+03</td>\n",
       "    </tr>\n",
       "    <tr>\n",
       "      <th>...</th>\n",
       "      <td>...</td>\n",
       "      <td>...</td>\n",
       "      <td>...</td>\n",
       "      <td>...</td>\n",
       "      <td>...</td>\n",
       "      <td>...</td>\n",
       "    </tr>\n",
       "    <tr>\n",
       "      <th>2022-02-25</th>\n",
       "      <td>38360.93</td>\n",
       "      <td>39727.97</td>\n",
       "      <td>38027.61</td>\n",
       "      <td>39231.64</td>\n",
       "      <td>2.202852e+03</td>\n",
       "      <td>8.642149e+07</td>\n",
       "    </tr>\n",
       "    <tr>\n",
       "      <th>2022-02-26</th>\n",
       "      <td>39242.64</td>\n",
       "      <td>40330.99</td>\n",
       "      <td>38600.00</td>\n",
       "      <td>39146.66</td>\n",
       "      <td>9.127241e+02</td>\n",
       "      <td>3.573010e+07</td>\n",
       "    </tr>\n",
       "    <tr>\n",
       "      <th>2022-02-27</th>\n",
       "      <td>39146.66</td>\n",
       "      <td>39886.92</td>\n",
       "      <td>37015.74</td>\n",
       "      <td>37712.68</td>\n",
       "      <td>1.701817e+03</td>\n",
       "      <td>6.418008e+07</td>\n",
       "    </tr>\n",
       "    <tr>\n",
       "      <th>2022-02-28</th>\n",
       "      <td>37717.10</td>\n",
       "      <td>44256.08</td>\n",
       "      <td>37468.99</td>\n",
       "      <td>43178.98</td>\n",
       "      <td>3.160618e+03</td>\n",
       "      <td>1.364723e+08</td>\n",
       "    </tr>\n",
       "    <tr>\n",
       "      <th>2022-03-01</th>\n",
       "      <td>43221.71</td>\n",
       "      <td>43626.49</td>\n",
       "      <td>43185.48</td>\n",
       "      <td>43185.48</td>\n",
       "      <td>4.900629e+01</td>\n",
       "      <td>2.116360e+06</td>\n",
       "    </tr>\n",
       "  </tbody>\n",
       "</table>\n",
       "<p>2651 rows × 6 columns</p>\n",
       "</div>"
      ]
     },
     "execution_count": 107,
     "metadata": {},
     "output_type": "execute_result"
    }
   ],
   "execution_count": 107
  },
  {
   "metadata": {
    "ExecuteTime": {
     "end_time": "2025-01-19T00:10:39.467970Z",
     "start_time": "2025-01-19T00:10:38.902228Z"
    }
   },
   "cell_type": "code",
   "source": "sns.heatmap(df_1.corr(),annot=True)",
   "outputs": [
    {
     "data": {
      "text/plain": [
       "<Axes: >"
      ]
     },
     "execution_count": 108,
     "metadata": {},
     "output_type": "execute_result"
    },
    {
     "data": {
      "text/plain": [
       "<Figure size 640x480 with 2 Axes>"
      ],
      "image/png": "[encoded data removed]"
     },
     "metadata": {},
     "output_type": "display_data"
    }
   ],
   "execution_count": 108
  },
  {
   "metadata": {
    "ExecuteTime": {
     "end_time": "2025-01-19T00:10:39.559477Z",
     "start_time": "2025-01-19T00:10:39.470505Z"
    }
   },
   "cell_type": "code",
   "source": "df_2 = df_1.drop(columns=[\"open\", \"high\", \"low\"])",
   "outputs": [],
   "execution_count": 109
  },
  {
   "metadata": {
    "ExecuteTime": {
     "end_time": "2025-01-19T00:10:39.834002Z",
     "start_time": "2025-01-19T00:10:39.561991Z"
    }
   },
   "cell_type": "code",
   "source": "sns.heatmap(df_2.corr(),annot=True)",
   "outputs": [
    {
     "data": {
      "text/plain": [
       "<Axes: >"
      ]
     },
     "execution_count": 110,
     "metadata": {},
     "output_type": "execute_result"
    },
    {
     "data": {
      "text/plain": [
       "<Figure size 640x480 with 2 Axes>"
      ],
      "image/png": "[encoded data removed]"
     },
     "metadata": {},
     "output_type": "display_data"
    }
   ],
   "execution_count": 110
  },
  {
   "metadata": {
    "ExecuteTime": {
     "end_time": "2025-01-19T00:10:43.768569Z",
     "start_time": "2025-01-19T00:10:39.836011Z"
    }
   },
   "cell_type": "code",
   "source": "sns.pairplot(df_2)",
   "outputs": [
    {
     "data": {
      "text/plain": [
       "<seaborn.axisgrid.PairGrid at 0x164a067c920>"
      ]
     },
     "execution_count": 111,
     "metadata": {},
     "output_type": "execute_result"
    },
    {
     "data": {
      "text/plain": [
       "<Figure size 750x750 with 12 Axes>"
      ],
      "image/png": "[encoded data removed]"
     },
     "metadata": {},
     "output_type": "display_data"
    }
   ],
   "execution_count": 111
  },
  {
   "metadata": {
    "ExecuteTime": {
     "end_time": "2025-01-19T00:10:43.844997Z",
     "start_time": "2025-01-19T00:10:43.771572Z"
    }
   },
   "cell_type": "code",
   "source": "features = df_2.columns",
   "outputs": [],
   "execution_count": 112
  },
  {
   "metadata": {
    "ExecuteTime": {
     "end_time": "2025-01-19T00:10:43.916523Z",
     "start_time": "2025-01-19T00:10:43.847050Z"
    }
   },
   "cell_type": "code",
   "source": "df_3 = df_2.copy()",
   "outputs": [],
   "execution_count": 113
  },
  {
   "metadata": {
    "ExecuteTime": {
     "end_time": "2025-01-19T00:10:43.923763Z",
     "start_time": "2025-01-19T00:10:43.918552Z"
    }
   },
   "cell_type": "code",
   "source": "",
   "outputs": [],
   "execution_count": 113
  },
  {
   "metadata": {
    "ExecuteTime": {
     "end_time": "2025-01-19T00:10:44.028796Z",
     "start_time": "2025-01-19T00:10:43.925773Z"
    }
   },
   "cell_type": "code",
   "source": [
    "lags = range(7, 0, -1)\n",
    "list(lags)\n",
    "for lag in lags:\n",
    "    for column in features:\n",
    "        df_3[f\"{column}_{lag}\"] = df_3[column].shift(lag)\n",
    "df_3"
   ],
   "outputs": [
    {
     "data": {
      "text/plain": [
       "               close    Volume BTC    Volume USD   close_7  Volume BTC_7  \\\n",
       "date                                                                       \n",
       "2014-11-28    376.28  3.220878e+06  8.617150e+03       NaN           NaN   \n",
       "2014-11-29    376.72  2.746157e+06  7.245190e+03       NaN           NaN   \n",
       "2014-11-30    373.34  1.145567e+06  3.046330e+03       NaN           NaN   \n",
       "2014-12-01    378.39  2.520662e+06  6.660560e+03       NaN           NaN   \n",
       "2014-12-02    379.25  2.593576e+06  6.832530e+03       NaN           NaN   \n",
       "...              ...           ...           ...       ...           ...   \n",
       "2022-02-25  39231.64  2.202852e+03  8.642149e+07  39996.99   2212.714920   \n",
       "2022-02-26  39146.66  9.127241e+02  3.573010e+07  40109.02    695.654296   \n",
       "2022-02-27  37712.68  1.701817e+03  6.418008e+07  38373.90   1283.511547   \n",
       "2022-02-28  43178.98  3.160618e+03  1.364723e+08  37076.60   3501.420364   \n",
       "2022-03-01  43185.48  4.900629e+01  2.116360e+06  38269.94   2388.759035   \n",
       "\n",
       "            Volume USD_7   close_6  Volume BTC_6  Volume USD_6   close_5  ...  \\\n",
       "date                                                                      ...   \n",
       "2014-11-28           NaN       NaN           NaN           NaN       NaN  ...   \n",
       "2014-11-29           NaN       NaN           NaN           NaN       NaN  ...   \n",
       "2014-11-30           NaN       NaN           NaN           NaN       NaN  ...   \n",
       "2014-12-01           NaN       NaN           NaN           NaN       NaN  ...   \n",
       "2014-12-02           NaN       NaN           NaN           NaN       NaN  ...   \n",
       "...                  ...       ...           ...           ...       ...  ...   \n",
       "2022-02-25  8.850194e+07  40109.02    695.654296  2.790201e+07  38373.90  ...   \n",
       "2022-02-26  2.790201e+07  38373.90   1283.511547  4.925334e+07  37076.60  ...   \n",
       "2022-02-27  4.925334e+07  37076.60   3501.420364  1.298208e+08  38269.94  ...   \n",
       "2022-02-28  1.298208e+08  38269.94   2388.759035  9.141766e+07  37274.18  ...   \n",
       "2022-03-01  9.141766e+07  37274.18   1778.275258  6.628375e+07  38376.88  ...   \n",
       "\n",
       "            Volume USD_4   close_3  Volume BTC_3  Volume USD_3   close_2  \\\n",
       "date                                                                       \n",
       "2014-11-28           NaN       NaN           NaN           NaN       NaN   \n",
       "2014-11-29           NaN       NaN           NaN           NaN       NaN   \n",
       "2014-11-30           NaN       NaN           NaN           NaN    376.28   \n",
       "2014-12-01           NaN    376.28  3.220878e+06  8.617150e+03    376.72   \n",
       "2014-12-02  8.617150e+03    376.72  2.746157e+06  7.245190e+03    373.34   \n",
       "...                  ...       ...           ...           ...       ...   \n",
       "2022-02-25  1.298208e+08  38269.94  2.388759e+03  9.141766e+07  37274.18   \n",
       "2022-02-26  9.141766e+07  37274.18  1.778275e+03  6.628375e+07  38376.88   \n",
       "2022-02-27  6.628375e+07  38376.88  6.302851e+03  2.418838e+08  39231.64   \n",
       "2022-02-28  2.418838e+08  39231.64  2.202852e+03  8.642149e+07  39146.66   \n",
       "2022-03-01  8.642149e+07  39146.66  9.127241e+02  3.573010e+07  37712.68   \n",
       "\n",
       "            Volume BTC_2  Volume USD_2   close_1  Volume BTC_1  Volume USD_1  \n",
       "date                                                                          \n",
       "2014-11-28           NaN           NaN       NaN           NaN           NaN  \n",
       "2014-11-29           NaN           NaN    376.28  3.220878e+06  8.617150e+03  \n",
       "2014-11-30  3.220878e+06  8.617150e+03    376.72  2.746157e+06  7.245190e+03  \n",
       "2014-12-01  2.746157e+06  7.245190e+03    373.34  1.145567e+06  3.046330e+03  \n",
       "2014-12-02  1.145567e+06  3.046330e+03    378.39  2.520662e+06  6.660560e+03  \n",
       "...                  ...           ...       ...           ...           ...  \n",
       "2022-02-25  1.778275e+03  6.628375e+07  38376.88  6.302851e+03  2.418838e+08  \n",
       "2022-02-26  6.302851e+03  2.418838e+08  39231.64  2.202852e+03  8.642149e+07  \n",
       "2022-02-27  2.202852e+03  8.642149e+07  39146.66  9.127241e+02  3.573010e+07  \n",
       "2022-02-28  9.127241e+02  3.573010e+07  37712.68  1.701817e+03  6.418008e+07  \n",
       "2022-03-01  1.701817e+03  6.418008e+07  43178.98  3.160618e+03  1.364723e+08  \n",
       "\n",
       "[2651 rows x 24 columns]"
      ],
      "text/html": [
       "<div>\n",
       "<style scoped>\n",
       "    .dataframe tbody tr th:only-of-type {\n",
       "        vertical-align: middle;\n",
       "    }\n",
       "\n",
       "    .dataframe tbody tr th {\n",
       "        vertical-align: top;\n",
       "    }\n",
       "\n",
       "    .dataframe thead th {\n",
       "        text-align: right;\n",
       "    }\n",
       "</style>\n",
       "<table border=\"1\" class=\"dataframe\">\n",
       "  <thead>\n",
       "    <tr style=\"text-align: right;\">\n",
       "      <th></th>\n",
       "      <th>close</th>\n",
       "      <th>Volume BTC</th>\n",
       "      <th>Volume USD</th>\n",
       "      <th>close_7</th>\n",
       "      <th>Volume BTC_7</th>\n",
       "      <th>Volume USD_7</th>\n",
       "      <th>close_6</th>\n",
       "      <th>Volume BTC_6</th>\n",
       "      <th>Volume USD_6</th>\n",
       "      <th>close_5</th>\n",
       "      <th>...</th>\n",
       "      <th>Volume USD_4</th>\n",
       "      <th>close_3</th>\n",
       "      <th>Volume BTC_3</th>\n",
       "      <th>Volume USD_3</th>\n",
       "      <th>close_2</th>\n",
       "      <th>Volume BTC_2</th>\n",
       "      <th>Volume USD_2</th>\n",
       "      <th>close_1</th>\n",
       "      <th>Volume BTC_1</th>\n",
       "      <th>Volume USD_1</th>\n",
       "    </tr>\n",
       "    <tr>\n",
       "      <th>date</th>\n",
       "      <th></th>\n",
       "      <th></th>\n",
       "      <th></th>\n",
       "      <th></th>\n",
       "      <th></th>\n",
       "      <th></th>\n",
       "      <th></th>\n",
       "      <th></th>\n",
       "      <th></th>\n",
       "      <th></th>\n",
       "      <th></th>\n",
       "      <th></th>\n",
       "      <th></th>\n",
       "      <th></th>\n",
       "      <th></th>\n",
       "      <th></th>\n",
       "      <th></th>\n",
       "      <th></th>\n",
       "      <th></th>\n",
       "      <th></th>\n",
       "      <th></th>\n",
       "    </tr>\n",
       "  </thead>\n",
       "  <tbody>\n",
       "    <tr>\n",
       "      <th>2014-11-28</th>\n",
       "      <td>376.28</td>\n",
       "      <td>3.220878e+06</td>\n",
       "      <td>8.617150e+03</td>\n",
       "      <td>NaN</td>\n",
       "      <td>NaN</td>\n",
       "      <td>NaN</td>\n",
       "      <td>NaN</td>\n",
       "      <td>NaN</td>\n",
       "      <td>NaN</td>\n",
       "      <td>NaN</td>\n",
       "      <td>...</td>\n",
       "      <td>NaN</td>\n",
       "      <td>NaN</td>\n",
       "      <td>NaN</td>\n",
       "      <td>NaN</td>\n",
       "      <td>NaN</td>\n",
       "      <td>NaN</td>\n",
       "      <td>NaN</td>\n",
       "      <td>NaN</td>\n",
       "      <td>NaN</td>\n",
       "      <td>NaN</td>\n",
       "    </tr>\n",
       "    <tr>\n",
       "      <th>2014-11-29</th>\n",
       "      <td>376.72</td>\n",
       "      <td>2.746157e+06</td>\n",
       "      <td>7.245190e+03</td>\n",
       "      <td>NaN</td>\n",
       "      <td>NaN</td>\n",
       "      <td>NaN</td>\n",
       "      <td>NaN</td>\n",
       "      <td>NaN</td>\n",
       "      <td>NaN</td>\n",
       "      <td>NaN</td>\n",
       "      <td>...</td>\n",
       "      <td>NaN</td>\n",
       "      <td>NaN</td>\n",
       "      <td>NaN</td>\n",
       "      <td>NaN</td>\n",
       "      <td>NaN</td>\n",
       "      <td>NaN</td>\n",
       "      <td>NaN</td>\n",
       "      <td>376.28</td>\n",
       "      <td>3.220878e+06</td>\n",
       "      <td>8.617150e+03</td>\n",
       "    </tr>\n",
       "    <tr>\n",
       "      <th>2014-11-30</th>\n",
       "      <td>373.34</td>\n",
       "      <td>1.145567e+06</td>\n",
       "      <td>3.046330e+03</td>\n",
       "      <td>NaN</td>\n",
       "      <td>NaN</td>\n",
       "      <td>NaN</td>\n",
       "      <td>NaN</td>\n",
       "      <td>NaN</td>\n",
       "      <td>NaN</td>\n",
       "      <td>NaN</td>\n",
       "      <td>...</td>\n",
       "      <td>NaN</td>\n",
       "      <td>NaN</td>\n",
       "      <td>NaN</td>\n",
       "      <td>NaN</td>\n",
       "      <td>376.28</td>\n",
       "      <td>3.220878e+06</td>\n",
       "      <td>8.617150e+03</td>\n",
       "      <td>376.72</td>\n",
       "      <td>2.746157e+06</td>\n",
       "      <td>7.245190e+03</td>\n",
       "    </tr>\n",
       "    <tr>\n",
       "      <th>2014-12-01</th>\n",
       "      <td>378.39</td>\n",
       "      <td>2.520662e+06</td>\n",
       "      <td>6.660560e+03</td>\n",
       "      <td>NaN</td>\n",
       "      <td>NaN</td>\n",
       "      <td>NaN</td>\n",
       "      <td>NaN</td>\n",
       "      <td>NaN</td>\n",
       "      <td>NaN</td>\n",
       "      <td>NaN</td>\n",
       "      <td>...</td>\n",
       "      <td>NaN</td>\n",
       "      <td>376.28</td>\n",
       "      <td>3.220878e+06</td>\n",
       "      <td>8.617150e+03</td>\n",
       "      <td>376.72</td>\n",
       "      <td>2.746157e+06</td>\n",
       "      <td>7.245190e+03</td>\n",
       "      <td>373.34</td>\n",
       "      <td>1.145567e+06</td>\n",
       "      <td>3.046330e+03</td>\n",
       "    </tr>\n",
       "    <tr>\n",
       "      <th>2014-12-02</th>\n",
       "      <td>379.25</td>\n",
       "      <td>2.593576e+06</td>\n",
       "      <td>6.832530e+03</td>\n",
       "      <td>NaN</td>\n",
       "      <td>NaN</td>\n",
       "      <td>NaN</td>\n",
       "      <td>NaN</td>\n",
       "      <td>NaN</td>\n",
       "      <td>NaN</td>\n",
       "      <td>NaN</td>\n",
       "      <td>...</td>\n",
       "      <td>8.617150e+03</td>\n",
       "      <td>376.72</td>\n",
       "      <td>2.746157e+06</td>\n",
       "      <td>7.245190e+03</td>\n",
       "      <td>373.34</td>\n",
       "      <td>1.145567e+06</td>\n",
       "      <td>3.046330e+03</td>\n",
       "      <td>378.39</td>\n",
       "      <td>2.520662e+06</td>\n",
       "      <td>6.660560e+03</td>\n",
       "    </tr>\n",
       "    <tr>\n",
       "      <th>...</th>\n",
       "      <td>...</td>\n",
       "      <td>...</td>\n",
       "      <td>...</td>\n",
       "      <td>...</td>\n",
       "      <td>...</td>\n",
       "      <td>...</td>\n",
       "      <td>...</td>\n",
       "      <td>...</td>\n",
       "      <td>...</td>\n",
       "      <td>...</td>\n",
       "      <td>...</td>\n",
       "      <td>...</td>\n",
       "      <td>...</td>\n",
       "      <td>...</td>\n",
       "      <td>...</td>\n",
       "      <td>...</td>\n",
       "      <td>...</td>\n",
       "      <td>...</td>\n",
       "      <td>...</td>\n",
       "      <td>...</td>\n",
       "      <td>...</td>\n",
       "    </tr>\n",
       "    <tr>\n",
       "      <th>2022-02-25</th>\n",
       "      <td>39231.64</td>\n",
       "      <td>2.202852e+03</td>\n",
       "      <td>8.642149e+07</td>\n",
       "      <td>39996.99</td>\n",
       "      <td>2212.714920</td>\n",
       "      <td>8.850194e+07</td>\n",
       "      <td>40109.02</td>\n",
       "      <td>695.654296</td>\n",
       "      <td>2.790201e+07</td>\n",
       "      <td>38373.90</td>\n",
       "      <td>...</td>\n",
       "      <td>1.298208e+08</td>\n",
       "      <td>38269.94</td>\n",
       "      <td>2.388759e+03</td>\n",
       "      <td>9.141766e+07</td>\n",
       "      <td>37274.18</td>\n",
       "      <td>1.778275e+03</td>\n",
       "      <td>6.628375e+07</td>\n",
       "      <td>38376.88</td>\n",
       "      <td>6.302851e+03</td>\n",
       "      <td>2.418838e+08</td>\n",
       "    </tr>\n",
       "    <tr>\n",
       "      <th>2022-02-26</th>\n",
       "      <td>39146.66</td>\n",
       "      <td>9.127241e+02</td>\n",
       "      <td>3.573010e+07</td>\n",
       "      <td>40109.02</td>\n",
       "      <td>695.654296</td>\n",
       "      <td>2.790201e+07</td>\n",
       "      <td>38373.90</td>\n",
       "      <td>1283.511547</td>\n",
       "      <td>4.925334e+07</td>\n",
       "      <td>37076.60</td>\n",
       "      <td>...</td>\n",
       "      <td>9.141766e+07</td>\n",
       "      <td>37274.18</td>\n",
       "      <td>1.778275e+03</td>\n",
       "      <td>6.628375e+07</td>\n",
       "      <td>38376.88</td>\n",
       "      <td>6.302851e+03</td>\n",
       "      <td>2.418838e+08</td>\n",
       "      <td>39231.64</td>\n",
       "      <td>2.202852e+03</td>\n",
       "      <td>8.642149e+07</td>\n",
       "    </tr>\n",
       "    <tr>\n",
       "      <th>2022-02-27</th>\n",
       "      <td>37712.68</td>\n",
       "      <td>1.701817e+03</td>\n",
       "      <td>6.418008e+07</td>\n",
       "      <td>38373.90</td>\n",
       "      <td>1283.511547</td>\n",
       "      <td>4.925334e+07</td>\n",
       "      <td>37076.60</td>\n",
       "      <td>3501.420364</td>\n",
       "      <td>1.298208e+08</td>\n",
       "      <td>38269.94</td>\n",
       "      <td>...</td>\n",
       "      <td>6.628375e+07</td>\n",
       "      <td>38376.88</td>\n",
       "      <td>6.302851e+03</td>\n",
       "      <td>2.418838e+08</td>\n",
       "      <td>39231.64</td>\n",
       "      <td>2.202852e+03</td>\n",
       "      <td>8.642149e+07</td>\n",
       "      <td>39146.66</td>\n",
       "      <td>9.127241e+02</td>\n",
       "      <td>3.573010e+07</td>\n",
       "    </tr>\n",
       "    <tr>\n",
       "      <th>2022-02-28</th>\n",
       "      <td>43178.98</td>\n",
       "      <td>3.160618e+03</td>\n",
       "      <td>1.364723e+08</td>\n",
       "      <td>37076.60</td>\n",
       "      <td>3501.420364</td>\n",
       "      <td>1.298208e+08</td>\n",
       "      <td>38269.94</td>\n",
       "      <td>2388.759035</td>\n",
       "      <td>9.141766e+07</td>\n",
       "      <td>37274.18</td>\n",
       "      <td>...</td>\n",
       "      <td>2.418838e+08</td>\n",
       "      <td>39231.64</td>\n",
       "      <td>2.202852e+03</td>\n",
       "      <td>8.642149e+07</td>\n",
       "      <td>39146.66</td>\n",
       "      <td>9.127241e+02</td>\n",
       "      <td>3.573010e+07</td>\n",
       "      <td>37712.68</td>\n",
       "      <td>1.701817e+03</td>\n",
       "      <td>6.418008e+07</td>\n",
       "    </tr>\n",
       "    <tr>\n",
       "      <th>2022-03-01</th>\n",
       "      <td>43185.48</td>\n",
       "      <td>4.900629e+01</td>\n",
       "      <td>2.116360e+06</td>\n",
       "      <td>38269.94</td>\n",
       "      <td>2388.759035</td>\n",
       "      <td>9.141766e+07</td>\n",
       "      <td>37274.18</td>\n",
       "      <td>1778.275258</td>\n",
       "      <td>6.628375e+07</td>\n",
       "      <td>38376.88</td>\n",
       "      <td>...</td>\n",
       "      <td>8.642149e+07</td>\n",
       "      <td>39146.66</td>\n",
       "      <td>9.127241e+02</td>\n",
       "      <td>3.573010e+07</td>\n",
       "      <td>37712.68</td>\n",
       "      <td>1.701817e+03</td>\n",
       "      <td>6.418008e+07</td>\n",
       "      <td>43178.98</td>\n",
       "      <td>3.160618e+03</td>\n",
       "      <td>1.364723e+08</td>\n",
       "    </tr>\n",
       "  </tbody>\n",
       "</table>\n",
       "<p>2651 rows × 24 columns</p>\n",
       "</div>"
      ]
     },
     "execution_count": 114,
     "metadata": {},
     "output_type": "execute_result"
    }
   ],
   "execution_count": 114
  },
  {
   "metadata": {
    "ExecuteTime": {
     "end_time": "2025-01-19T00:10:44.103087Z",
     "start_time": "2025-01-19T00:10:44.030317Z"
    }
   },
   "cell_type": "code",
   "source": "df_4 = df_3.drop(columns= [\"Volume BTC\", \"Volume USD\"])",
   "outputs": [],
   "execution_count": 115
  },
  {
   "metadata": {
    "ExecuteTime": {
     "end_time": "2025-01-19T00:10:44.201939Z",
     "start_time": "2025-01-19T00:10:44.104605Z"
    }
   },
   "cell_type": "code",
   "source": "df_4",
   "outputs": [
    {
     "data": {
      "text/plain": [
       "               close   close_7  Volume BTC_7  Volume USD_7   close_6  \\\n",
       "date                                                                   \n",
       "2014-11-28    376.28       NaN           NaN           NaN       NaN   \n",
       "2014-11-29    376.72       NaN           NaN           NaN       NaN   \n",
       "2014-11-30    373.34       NaN           NaN           NaN       NaN   \n",
       "2014-12-01    378.39       NaN           NaN           NaN       NaN   \n",
       "2014-12-02    379.25       NaN           NaN           NaN       NaN   \n",
       "...              ...       ...           ...           ...       ...   \n",
       "2022-02-25  39231.64  39996.99   2212.714920  8.850194e+07  40109.02   \n",
       "2022-02-26  39146.66  40109.02    695.654296  2.790201e+07  38373.90   \n",
       "2022-02-27  37712.68  38373.90   1283.511547  4.925334e+07  37076.60   \n",
       "2022-02-28  43178.98  37076.60   3501.420364  1.298208e+08  38269.94   \n",
       "2022-03-01  43185.48  38269.94   2388.759035  9.141766e+07  37274.18   \n",
       "\n",
       "            Volume BTC_6  Volume USD_6   close_5  Volume BTC_5  Volume USD_5  \\\n",
       "date                                                                           \n",
       "2014-11-28           NaN           NaN       NaN           NaN           NaN   \n",
       "2014-11-29           NaN           NaN       NaN           NaN           NaN   \n",
       "2014-11-30           NaN           NaN       NaN           NaN           NaN   \n",
       "2014-12-01           NaN           NaN       NaN           NaN           NaN   \n",
       "2014-12-02           NaN           NaN       NaN           NaN           NaN   \n",
       "...                  ...           ...       ...           ...           ...   \n",
       "2022-02-25    695.654296  2.790201e+07  38373.90   1283.511547  4.925334e+07   \n",
       "2022-02-26   1283.511547  4.925334e+07  37076.60   3501.420364  1.298208e+08   \n",
       "2022-02-27   3501.420364  1.298208e+08  38269.94   2388.759035  9.141766e+07   \n",
       "2022-02-28   2388.759035  9.141766e+07  37274.18   1778.275258  6.628375e+07   \n",
       "2022-03-01   1778.275258  6.628375e+07  38376.88   6302.850957  2.418838e+08   \n",
       "\n",
       "            ...  Volume USD_4   close_3  Volume BTC_3  Volume USD_3   close_2  \\\n",
       "date        ...                                                                 \n",
       "2014-11-28  ...           NaN       NaN           NaN           NaN       NaN   \n",
       "2014-11-29  ...           NaN       NaN           NaN           NaN       NaN   \n",
       "2014-11-30  ...           NaN       NaN           NaN           NaN    376.28   \n",
       "2014-12-01  ...           NaN    376.28  3.220878e+06  8.617150e+03    376.72   \n",
       "2014-12-02  ...  8.617150e+03    376.72  2.746157e+06  7.245190e+03    373.34   \n",
       "...         ...           ...       ...           ...           ...       ...   \n",
       "2022-02-25  ...  1.298208e+08  38269.94  2.388759e+03  9.141766e+07  37274.18   \n",
       "2022-02-26  ...  9.141766e+07  37274.18  1.778275e+03  6.628375e+07  38376.88   \n",
       "2022-02-27  ...  6.628375e+07  38376.88  6.302851e+03  2.418838e+08  39231.64   \n",
       "2022-02-28  ...  2.418838e+08  39231.64  2.202852e+03  8.642149e+07  39146.66   \n",
       "2022-03-01  ...  8.642149e+07  39146.66  9.127241e+02  3.573010e+07  37712.68   \n",
       "\n",
       "            Volume BTC_2  Volume USD_2   close_1  Volume BTC_1  Volume USD_1  \n",
       "date                                                                          \n",
       "2014-11-28           NaN           NaN       NaN           NaN           NaN  \n",
       "2014-11-29           NaN           NaN    376.28  3.220878e+06  8.617150e+03  \n",
       "2014-11-30  3.220878e+06  8.617150e+03    376.72  2.746157e+06  7.245190e+03  \n",
       "2014-12-01  2.746157e+06  7.245190e+03    373.34  1.145567e+06  3.046330e+03  \n",
       "2014-12-02  1.145567e+06  3.046330e+03    378.39  2.520662e+06  6.660560e+03  \n",
       "...                  ...           ...       ...           ...           ...  \n",
       "2022-02-25  1.778275e+03  6.628375e+07  38376.88  6.302851e+03  2.418838e+08  \n",
       "2022-02-26  6.302851e+03  2.418838e+08  39231.64  2.202852e+03  8.642149e+07  \n",
       "2022-02-27  2.202852e+03  8.642149e+07  39146.66  9.127241e+02  3.573010e+07  \n",
       "2022-02-28  9.127241e+02  3.573010e+07  37712.68  1.701817e+03  6.418008e+07  \n",
       "2022-03-01  1.701817e+03  6.418008e+07  43178.98  3.160618e+03  1.364723e+08  \n",
       "\n",
       "[2651 rows x 22 columns]"
      ],
      "text/html": [
       "<div>\n",
       "<style scoped>\n",
       "    .dataframe tbody tr th:only-of-type {\n",
       "        vertical-align: middle;\n",
       "    }\n",
       "\n",
       "    .dataframe tbody tr th {\n",
       "        vertical-align: top;\n",
       "    }\n",
       "\n",
       "    .dataframe thead th {\n",
       "        text-align: right;\n",
       "    }\n",
       "</style>\n",
       "<table border=\"1\" class=\"dataframe\">\n",
       "  <thead>\n",
       "    <tr style=\"text-align: right;\">\n",
       "      <th></th>\n",
       "      <th>close</th>\n",
       "      <th>close_7</th>\n",
       "      <th>Volume BTC_7</th>\n",
       "      <th>Volume USD_7</th>\n",
       "      <th>close_6</th>\n",
       "      <th>Volume BTC_6</th>\n",
       "      <th>Volume USD_6</th>\n",
       "      <th>close_5</th>\n",
       "      <th>Volume BTC_5</th>\n",
       "      <th>Volume USD_5</th>\n",
       "      <th>...</th>\n",
       "      <th>Volume USD_4</th>\n",
       "      <th>close_3</th>\n",
       "      <th>Volume BTC_3</th>\n",
       "      <th>Volume USD_3</th>\n",
       "      <th>close_2</th>\n",
       "      <th>Volume BTC_2</th>\n",
       "      <th>Volume USD_2</th>\n",
       "      <th>close_1</th>\n",
       "      <th>Volume BTC_1</th>\n",
       "      <th>Volume USD_1</th>\n",
       "    </tr>\n",
       "    <tr>\n",
       "      <th>date</th>\n",
       "      <th></th>\n",
       "      <th></th>\n",
       "      <th></th>\n",
       "      <th></th>\n",
       "      <th></th>\n",
       "      <th></th>\n",
       "      <th></th>\n",
       "      <th></th>\n",
       "      <th></th>\n",
       "      <th></th>\n",
       "      <th></th>\n",
       "      <th></th>\n",
       "      <th></th>\n",
       "      <th></th>\n",
       "      <th></th>\n",
       "      <th></th>\n",
       "      <th></th>\n",
       "      <th></th>\n",
       "      <th></th>\n",
       "      <th></th>\n",
       "      <th></th>\n",
       "    </tr>\n",
       "  </thead>\n",
       "  <tbody>\n",
       "    <tr>\n",
       "      <th>2014-11-28</th>\n",
       "      <td>376.28</td>\n",
       "      <td>NaN</td>\n",
       "      <td>NaN</td>\n",
       "      <td>NaN</td>\n",
       "      <td>NaN</td>\n",
       "      <td>NaN</td>\n",
       "      <td>NaN</td>\n",
       "      <td>NaN</td>\n",
       "      <td>NaN</td>\n",
       "      <td>NaN</td>\n",
       "      <td>...</td>\n",
       "      <td>NaN</td>\n",
       "      <td>NaN</td>\n",
       "      <td>NaN</td>\n",
       "      <td>NaN</td>\n",
       "      <td>NaN</td>\n",
       "      <td>NaN</td>\n",
       "      <td>NaN</td>\n",
       "      <td>NaN</td>\n",
       "      <td>NaN</td>\n",
       "      <td>NaN</td>\n",
       "    </tr>\n",
       "    <tr>\n",
       "      <th>2014-11-29</th>\n",
       "      <td>376.72</td>\n",
       "      <td>NaN</td>\n",
       "      <td>NaN</td>\n",
       "      <td>NaN</td>\n",
       "      <td>NaN</td>\n",
       "      <td>NaN</td>\n",
       "      <td>NaN</td>\n",
       "      <td>NaN</td>\n",
       "      <td>NaN</td>\n",
       "      <td>NaN</td>\n",
       "      <td>...</td>\n",
       "      <td>NaN</td>\n",
       "      <td>NaN</td>\n",
       "      <td>NaN</td>\n",
       "      <td>NaN</td>\n",
       "      <td>NaN</td>\n",
       "      <td>NaN</td>\n",
       "      <td>NaN</td>\n",
       "      <td>376.28</td>\n",
       "      <td>3.220878e+06</td>\n",
       "      <td>8.617150e+03</td>\n",
       "    </tr>\n",
       "    <tr>\n",
       "      <th>2014-11-30</th>\n",
       "      <td>373.34</td>\n",
       "      <td>NaN</td>\n",
       "      <td>NaN</td>\n",
       "      <td>NaN</td>\n",
       "      <td>NaN</td>\n",
       "      <td>NaN</td>\n",
       "      <td>NaN</td>\n",
       "      <td>NaN</td>\n",
       "      <td>NaN</td>\n",
       "      <td>NaN</td>\n",
       "      <td>...</td>\n",
       "      <td>NaN</td>\n",
       "      <td>NaN</td>\n",
       "      <td>NaN</td>\n",
       "      <td>NaN</td>\n",
       "      <td>376.28</td>\n",
       "      <td>3.220878e+06</td>\n",
       "      <td>8.617150e+03</td>\n",
       "      <td>376.72</td>\n",
       "      <td>2.746157e+06</td>\n",
       "      <td>7.245190e+03</td>\n",
       "    </tr>\n",
       "    <tr>\n",
       "      <th>2014-12-01</th>\n",
       "      <td>378.39</td>\n",
       "      <td>NaN</td>\n",
       "      <td>NaN</td>\n",
       "      <td>NaN</td>\n",
       "      <td>NaN</td>\n",
       "      <td>NaN</td>\n",
       "      <td>NaN</td>\n",
       "      <td>NaN</td>\n",
       "      <td>NaN</td>\n",
       "      <td>NaN</td>\n",
       "      <td>...</td>\n",
       "      <td>NaN</td>\n",
       "      <td>376.28</td>\n",
       "      <td>3.220878e+06</td>\n",
       "      <td>8.617150e+03</td>\n",
       "      <td>376.72</td>\n",
       "      <td>2.746157e+06</td>\n",
       "      <td>7.245190e+03</td>\n",
       "      <td>373.34</td>\n",
       "      <td>1.145567e+06</td>\n",
       "      <td>3.046330e+03</td>\n",
       "    </tr>\n",
       "    <tr>\n",
       "      <th>2014-12-02</th>\n",
       "      <td>379.25</td>\n",
       "      <td>NaN</td>\n",
       "      <td>NaN</td>\n",
       "      <td>NaN</td>\n",
       "      <td>NaN</td>\n",
       "      <td>NaN</td>\n",
       "      <td>NaN</td>\n",
       "      <td>NaN</td>\n",
       "      <td>NaN</td>\n",
       "      <td>NaN</td>\n",
       "      <td>...</td>\n",
       "      <td>8.617150e+03</td>\n",
       "      <td>376.72</td>\n",
       "      <td>2.746157e+06</td>\n",
       "      <td>7.245190e+03</td>\n",
       "      <td>373.34</td>\n",
       "      <td>1.145567e+06</td>\n",
       "      <td>3.046330e+03</td>\n",
       "      <td>378.39</td>\n",
       "      <td>2.520662e+06</td>\n",
       "      <td>6.660560e+03</td>\n",
       "    </tr>\n",
       "    <tr>\n",
       "      <th>...</th>\n",
       "      <td>...</td>\n",
       "      <td>...</td>\n",
       "      <td>...</td>\n",
       "      <td>...</td>\n",
       "      <td>...</td>\n",
       "      <td>...</td>\n",
       "      <td>...</td>\n",
       "      <td>...</td>\n",
       "      <td>...</td>\n",
       "      <td>...</td>\n",
       "      <td>...</td>\n",
       "      <td>...</td>\n",
       "      <td>...</td>\n",
       "      <td>...</td>\n",
       "      <td>...</td>\n",
       "      <td>...</td>\n",
       "      <td>...</td>\n",
       "      <td>...</td>\n",
       "      <td>...</td>\n",
       "      <td>...</td>\n",
       "      <td>...</td>\n",
       "    </tr>\n",
       "    <tr>\n",
       "      <th>2022-02-25</th>\n",
       "      <td>39231.64</td>\n",
       "      <td>39996.99</td>\n",
       "      <td>2212.714920</td>\n",
       "      <td>8.850194e+07</td>\n",
       "      <td>40109.02</td>\n",
       "      <td>695.654296</td>\n",
       "      <td>2.790201e+07</td>\n",
       "      <td>38373.90</td>\n",
       "      <td>1283.511547</td>\n",
       "      <td>4.925334e+07</td>\n",
       "      <td>...</td>\n",
       "      <td>1.298208e+08</td>\n",
       "      <td>38269.94</td>\n",
       "      <td>2.388759e+03</td>\n",
       "      <td>9.141766e+07</td>\n",
       "      <td>37274.18</td>\n",
       "      <td>1.778275e+03</td>\n",
       "      <td>6.628375e+07</td>\n",
       "      <td>38376.88</td>\n",
       "      <td>6.302851e+03</td>\n",
       "      <td>2.418838e+08</td>\n",
       "    </tr>\n",
       "    <tr>\n",
       "      <th>2022-02-26</th>\n",
       "      <td>39146.66</td>\n",
       "      <td>40109.02</td>\n",
       "      <td>695.654296</td>\n",
       "      <td>2.790201e+07</td>\n",
       "      <td>38373.90</td>\n",
       "      <td>1283.511547</td>\n",
       "      <td>4.925334e+07</td>\n",
       "      <td>37076.60</td>\n",
       "      <td>3501.420364</td>\n",
       "      <td>1.298208e+08</td>\n",
       "      <td>...</td>\n",
       "      <td>9.141766e+07</td>\n",
       "      <td>37274.18</td>\n",
       "      <td>1.778275e+03</td>\n",
       "      <td>6.628375e+07</td>\n",
       "      <td>38376.88</td>\n",
       "      <td>6.302851e+03</td>\n",
       "      <td>2.418838e+08</td>\n",
       "      <td>39231.64</td>\n",
       "      <td>2.202852e+03</td>\n",
       "      <td>8.642149e+07</td>\n",
       "    </tr>\n",
       "    <tr>\n",
       "      <th>2022-02-27</th>\n",
       "      <td>37712.68</td>\n",
       "      <td>38373.90</td>\n",
       "      <td>1283.511547</td>\n",
       "      <td>4.925334e+07</td>\n",
       "      <td>37076.60</td>\n",
       "      <td>3501.420364</td>\n",
       "      <td>1.298208e+08</td>\n",
       "      <td>38269.94</td>\n",
       "      <td>2388.759035</td>\n",
       "      <td>9.141766e+07</td>\n",
       "      <td>...</td>\n",
       "      <td>6.628375e+07</td>\n",
       "      <td>38376.88</td>\n",
       "      <td>6.302851e+03</td>\n",
       "      <td>2.418838e+08</td>\n",
       "      <td>39231.64</td>\n",
       "      <td>2.202852e+03</td>\n",
       "      <td>8.642149e+07</td>\n",
       "      <td>39146.66</td>\n",
       "      <td>9.127241e+02</td>\n",
       "      <td>3.573010e+07</td>\n",
       "    </tr>\n",
       "    <tr>\n",
       "      <th>2022-02-28</th>\n",
       "      <td>43178.98</td>\n",
       "      <td>37076.60</td>\n",
       "      <td>3501.420364</td>\n",
       "      <td>1.298208e+08</td>\n",
       "      <td>38269.94</td>\n",
       "      <td>2388.759035</td>\n",
       "      <td>9.141766e+07</td>\n",
       "      <td>37274.18</td>\n",
       "      <td>1778.275258</td>\n",
       "      <td>6.628375e+07</td>\n",
       "      <td>...</td>\n",
       "      <td>2.418838e+08</td>\n",
       "      <td>39231.64</td>\n",
       "      <td>2.202852e+03</td>\n",
       "      <td>8.642149e+07</td>\n",
       "      <td>39146.66</td>\n",
       "      <td>9.127241e+02</td>\n",
       "      <td>3.573010e+07</td>\n",
       "      <td>37712.68</td>\n",
       "      <td>1.701817e+03</td>\n",
       "      <td>6.418008e+07</td>\n",
       "    </tr>\n",
       "    <tr>\n",
       "      <th>2022-03-01</th>\n",
       "      <td>43185.48</td>\n",
       "      <td>38269.94</td>\n",
       "      <td>2388.759035</td>\n",
       "      <td>9.141766e+07</td>\n",
       "      <td>37274.18</td>\n",
       "      <td>1778.275258</td>\n",
       "      <td>6.628375e+07</td>\n",
       "      <td>38376.88</td>\n",
       "      <td>6302.850957</td>\n",
       "      <td>2.418838e+08</td>\n",
       "      <td>...</td>\n",
       "      <td>8.642149e+07</td>\n",
       "      <td>39146.66</td>\n",
       "      <td>9.127241e+02</td>\n",
       "      <td>3.573010e+07</td>\n",
       "      <td>37712.68</td>\n",
       "      <td>1.701817e+03</td>\n",
       "      <td>6.418008e+07</td>\n",
       "      <td>43178.98</td>\n",
       "      <td>3.160618e+03</td>\n",
       "      <td>1.364723e+08</td>\n",
       "    </tr>\n",
       "  </tbody>\n",
       "</table>\n",
       "<p>2651 rows × 22 columns</p>\n",
       "</div>"
      ]
     },
     "execution_count": 116,
     "metadata": {},
     "output_type": "execute_result"
    }
   ],
   "execution_count": 116
  },
  {
   "metadata": {
    "ExecuteTime": {
     "end_time": "2025-01-19T00:10:44.280768Z",
     "start_time": "2025-01-19T00:10:44.203948Z"
    }
   },
   "cell_type": "code",
   "source": "df_5 = df_4.dropna()",
   "outputs": [],
   "execution_count": 117
  },
  {
   "metadata": {
    "ExecuteTime": {
     "end_time": "2025-01-19T00:10:44.380425Z",
     "start_time": "2025-01-19T00:10:44.281778Z"
    }
   },
   "cell_type": "code",
   "source": "df_5",
   "outputs": [
    {
     "data": {
      "text/plain": [
       "               close   close_7  Volume BTC_7  Volume USD_7   close_6  \\\n",
       "date                                                                   \n",
       "2014-12-05    374.95    376.28  3.220878e+06  8.617150e+03    376.72   \n",
       "2014-12-06    375.07    376.72  2.746157e+06  7.245190e+03    373.34   \n",
       "2014-12-07    376.87    373.34  1.145567e+06  3.046330e+03    378.39   \n",
       "2014-12-08    364.61    378.39  2.520662e+06  6.660560e+03    379.25   \n",
       "2014-12-09    350.49    379.25  2.593576e+06  6.832530e+03    376.67   \n",
       "...              ...       ...           ...           ...       ...   \n",
       "2022-02-25  39231.64  39996.99  2.212715e+03  8.850194e+07  40109.02   \n",
       "2022-02-26  39146.66  40109.02  6.956543e+02  2.790201e+07  38373.90   \n",
       "2022-02-27  37712.68  38373.90  1.283512e+03  4.925334e+07  37076.60   \n",
       "2022-02-28  43178.98  37076.60  3.501420e+03  1.298208e+08  38269.94   \n",
       "2022-03-01  43185.48  38269.94  2.388759e+03  9.141766e+07  37274.18   \n",
       "\n",
       "            Volume BTC_6  Volume USD_6   close_5  Volume BTC_5  Volume USD_5  \\\n",
       "date                                                                           \n",
       "2014-12-05  2.746157e+06  7.245190e+03    373.34  1.145567e+06  3.046330e+03   \n",
       "2014-12-06  1.145567e+06  3.046330e+03    378.39  2.520662e+06  6.660560e+03   \n",
       "2014-12-07  2.520662e+06  6.660560e+03    379.25  2.593576e+06  6.832530e+03   \n",
       "2014-12-08  2.593576e+06  6.832530e+03    376.67  2.998358e+06  7.908290e+03   \n",
       "2014-12-09  2.998358e+06  7.908290e+03    365.20  3.297896e+06  8.865090e+03   \n",
       "...                  ...           ...       ...           ...           ...   \n",
       "2022-02-25  6.956543e+02  2.790201e+07  38373.90  1.283512e+03  4.925334e+07   \n",
       "2022-02-26  1.283512e+03  4.925334e+07  37076.60  3.501420e+03  1.298208e+08   \n",
       "2022-02-27  3.501420e+03  1.298208e+08  38269.94  2.388759e+03  9.141766e+07   \n",
       "2022-02-28  2.388759e+03  9.141766e+07  37274.18  1.778275e+03  6.628375e+07   \n",
       "2022-03-01  1.778275e+03  6.628375e+07  38376.88  6.302851e+03  2.418838e+08   \n",
       "\n",
       "            ...  Volume USD_4   close_3  Volume BTC_3  Volume USD_3   close_2  \\\n",
       "date        ...                                                                 \n",
       "2014-12-05  ...  6.660560e+03    379.25  2.593576e+06  6.832530e+03    376.67   \n",
       "2014-12-06  ...  6.832530e+03    376.67  2.998358e+06  7.908290e+03    365.20   \n",
       "2014-12-07  ...  7.908290e+03    365.20  3.297896e+06  8.865090e+03    374.95   \n",
       "2014-12-08  ...  8.865090e+03    374.95  3.331762e+06  8.951160e+03    375.07   \n",
       "2014-12-09  ...  8.951160e+03    375.07  8.617487e+05  2.300210e+03    376.87   \n",
       "...         ...           ...       ...           ...           ...       ...   \n",
       "2022-02-25  ...  1.298208e+08  38269.94  2.388759e+03  9.141766e+07  37274.18   \n",
       "2022-02-26  ...  9.141766e+07  37274.18  1.778275e+03  6.628375e+07  38376.88   \n",
       "2022-02-27  ...  6.628375e+07  38376.88  6.302851e+03  2.418838e+08  39231.64   \n",
       "2022-02-28  ...  2.418838e+08  39231.64  2.202852e+03  8.642149e+07  39146.66   \n",
       "2022-03-01  ...  8.642149e+07  39146.66  9.127241e+02  3.573010e+07  37712.68   \n",
       "\n",
       "            Volume BTC_2  Volume USD_2   close_1  Volume BTC_1  Volume USD_1  \n",
       "date                                                                          \n",
       "2014-12-05  2.998358e+06  7.908290e+03    365.20  3.297896e+06  8.865090e+03  \n",
       "2014-12-06  3.297896e+06  8.865090e+03    374.95  3.331762e+06  8.951160e+03  \n",
       "2014-12-07  3.331762e+06  8.951160e+03    375.07  8.617487e+05  2.300210e+03  \n",
       "2014-12-08  8.617487e+05  2.300210e+03    376.87  9.137156e+05  2.429620e+03  \n",
       "2014-12-09  9.137156e+05  2.429620e+03    364.61  3.655238e+06  9.920840e+03  \n",
       "...                  ...           ...       ...           ...           ...  \n",
       "2022-02-25  1.778275e+03  6.628375e+07  38376.88  6.302851e+03  2.418838e+08  \n",
       "2022-02-26  6.302851e+03  2.418838e+08  39231.64  2.202852e+03  8.642149e+07  \n",
       "2022-02-27  2.202852e+03  8.642149e+07  39146.66  9.127241e+02  3.573010e+07  \n",
       "2022-02-28  9.127241e+02  3.573010e+07  37712.68  1.701817e+03  6.418008e+07  \n",
       "2022-03-01  1.701817e+03  6.418008e+07  43178.98  3.160618e+03  1.364723e+08  \n",
       "\n",
       "[2644 rows x 22 columns]"
      ],
      "text/html": [
       "<div>\n",
       "<style scoped>\n",
       "    .dataframe tbody tr th:only-of-type {\n",
       "        vertical-align: middle;\n",
       "    }\n",
       "\n",
       "    .dataframe tbody tr th {\n",
       "        vertical-align: top;\n",
       "    }\n",
       "\n",
       "    .dataframe thead th {\n",
       "        text-align: right;\n",
       "    }\n",
       "</style>\n",
       "<table border=\"1\" class=\"dataframe\">\n",
       "  <thead>\n",
       "    <tr style=\"text-align: right;\">\n",
       "      <th></th>\n",
       "      <th>close</th>\n",
       "      <th>close_7</th>\n",
       "      <th>Volume BTC_7</th>\n",
       "      <th>Volume USD_7</th>\n",
       "      <th>close_6</th>\n",
       "      <th>Volume BTC_6</th>\n",
       "      <th>Volume USD_6</th>\n",
       "      <th>close_5</th>\n",
       "      <th>Volume BTC_5</th>\n",
       "      <th>Volume USD_5</th>\n",
       "      <th>...</th>\n",
       "      <th>Volume USD_4</th>\n",
       "      <th>close_3</th>\n",
       "      <th>Volume BTC_3</th>\n",
       "      <th>Volume USD_3</th>\n",
       "      <th>close_2</th>\n",
       "      <th>Volume BTC_2</th>\n",
       "      <th>Volume USD_2</th>\n",
       "      <th>close_1</th>\n",
       "      <th>Volume BTC_1</th>\n",
       "      <th>Volume USD_1</th>\n",
       "    </tr>\n",
       "    <tr>\n",
       "      <th>date</th>\n",
       "      <th></th>\n",
       "      <th></th>\n",
       "      <th></th>\n",
       "      <th></th>\n",
       "      <th></th>\n",
       "      <th></th>\n",
       "      <th></th>\n",
       "      <th></th>\n",
       "      <th></th>\n",
       "      <th></th>\n",
       "      <th></th>\n",
       "      <th></th>\n",
       "      <th></th>\n",
       "      <th></th>\n",
       "      <th></th>\n",
       "      <th></th>\n",
       "      <th></th>\n",
       "      <th></th>\n",
       "      <th></th>\n",
       "      <th></th>\n",
       "      <th></th>\n",
       "    </tr>\n",
       "  </thead>\n",
       "  <tbody>\n",
       "    <tr>\n",
       "      <th>2014-12-05</th>\n",
       "      <td>374.95</td>\n",
       "      <td>376.28</td>\n",
       "      <td>3.220878e+06</td>\n",
       "      <td>8.617150e+03</td>\n",
       "      <td>376.72</td>\n",
       "      <td>2.746157e+06</td>\n",
       "      <td>7.245190e+03</td>\n",
       "      <td>373.34</td>\n",
       "      <td>1.145567e+06</td>\n",
       "      <td>3.046330e+03</td>\n",
       "      <td>...</td>\n",
       "      <td>6.660560e+03</td>\n",
       "      <td>379.25</td>\n",
       "      <td>2.593576e+06</td>\n",
       "      <td>6.832530e+03</td>\n",
       "      <td>376.67</td>\n",
       "      <td>2.998358e+06</td>\n",
       "      <td>7.908290e+03</td>\n",
       "      <td>365.20</td>\n",
       "      <td>3.297896e+06</td>\n",
       "      <td>8.865090e+03</td>\n",
       "    </tr>\n",
       "    <tr>\n",
       "      <th>2014-12-06</th>\n",
       "      <td>375.07</td>\n",
       "      <td>376.72</td>\n",
       "      <td>2.746157e+06</td>\n",
       "      <td>7.245190e+03</td>\n",
       "      <td>373.34</td>\n",
       "      <td>1.145567e+06</td>\n",
       "      <td>3.046330e+03</td>\n",
       "      <td>378.39</td>\n",
       "      <td>2.520662e+06</td>\n",
       "      <td>6.660560e+03</td>\n",
       "      <td>...</td>\n",
       "      <td>6.832530e+03</td>\n",
       "      <td>376.67</td>\n",
       "      <td>2.998358e+06</td>\n",
       "      <td>7.908290e+03</td>\n",
       "      <td>365.20</td>\n",
       "      <td>3.297896e+06</td>\n",
       "      <td>8.865090e+03</td>\n",
       "      <td>374.95</td>\n",
       "      <td>3.331762e+06</td>\n",
       "      <td>8.951160e+03</td>\n",
       "    </tr>\n",
       "    <tr>\n",
       "      <th>2014-12-07</th>\n",
       "      <td>376.87</td>\n",
       "      <td>373.34</td>\n",
       "      <td>1.145567e+06</td>\n",
       "      <td>3.046330e+03</td>\n",
       "      <td>378.39</td>\n",
       "      <td>2.520662e+06</td>\n",
       "      <td>6.660560e+03</td>\n",
       "      <td>379.25</td>\n",
       "      <td>2.593576e+06</td>\n",
       "      <td>6.832530e+03</td>\n",
       "      <td>...</td>\n",
       "      <td>7.908290e+03</td>\n",
       "      <td>365.20</td>\n",
       "      <td>3.297896e+06</td>\n",
       "      <td>8.865090e+03</td>\n",
       "      <td>374.95</td>\n",
       "      <td>3.331762e+06</td>\n",
       "      <td>8.951160e+03</td>\n",
       "      <td>375.07</td>\n",
       "      <td>8.617487e+05</td>\n",
       "      <td>2.300210e+03</td>\n",
       "    </tr>\n",
       "    <tr>\n",
       "      <th>2014-12-08</th>\n",
       "      <td>364.61</td>\n",
       "      <td>378.39</td>\n",
       "      <td>2.520662e+06</td>\n",
       "      <td>6.660560e+03</td>\n",
       "      <td>379.25</td>\n",
       "      <td>2.593576e+06</td>\n",
       "      <td>6.832530e+03</td>\n",
       "      <td>376.67</td>\n",
       "      <td>2.998358e+06</td>\n",
       "      <td>7.908290e+03</td>\n",
       "      <td>...</td>\n",
       "      <td>8.865090e+03</td>\n",
       "      <td>374.95</td>\n",
       "      <td>3.331762e+06</td>\n",
       "      <td>8.951160e+03</td>\n",
       "      <td>375.07</td>\n",
       "      <td>8.617487e+05</td>\n",
       "      <td>2.300210e+03</td>\n",
       "      <td>376.87</td>\n",
       "      <td>9.137156e+05</td>\n",
       "      <td>2.429620e+03</td>\n",
       "    </tr>\n",
       "    <tr>\n",
       "      <th>2014-12-09</th>\n",
       "      <td>350.49</td>\n",
       "      <td>379.25</td>\n",
       "      <td>2.593576e+06</td>\n",
       "      <td>6.832530e+03</td>\n",
       "      <td>376.67</td>\n",
       "      <td>2.998358e+06</td>\n",
       "      <td>7.908290e+03</td>\n",
       "      <td>365.20</td>\n",
       "      <td>3.297896e+06</td>\n",
       "      <td>8.865090e+03</td>\n",
       "      <td>...</td>\n",
       "      <td>8.951160e+03</td>\n",
       "      <td>375.07</td>\n",
       "      <td>8.617487e+05</td>\n",
       "      <td>2.300210e+03</td>\n",
       "      <td>376.87</td>\n",
       "      <td>9.137156e+05</td>\n",
       "      <td>2.429620e+03</td>\n",
       "      <td>364.61</td>\n",
       "      <td>3.655238e+06</td>\n",
       "      <td>9.920840e+03</td>\n",
       "    </tr>\n",
       "    <tr>\n",
       "      <th>...</th>\n",
       "      <td>...</td>\n",
       "      <td>...</td>\n",
       "      <td>...</td>\n",
       "      <td>...</td>\n",
       "      <td>...</td>\n",
       "      <td>...</td>\n",
       "      <td>...</td>\n",
       "      <td>...</td>\n",
       "      <td>...</td>\n",
       "      <td>...</td>\n",
       "      <td>...</td>\n",
       "      <td>...</td>\n",
       "      <td>...</td>\n",
       "      <td>...</td>\n",
       "      <td>...</td>\n",
       "      <td>...</td>\n",
       "      <td>...</td>\n",
       "      <td>...</td>\n",
       "      <td>...</td>\n",
       "      <td>...</td>\n",
       "      <td>...</td>\n",
       "    </tr>\n",
       "    <tr>\n",
       "      <th>2022-02-25</th>\n",
       "      <td>39231.64</td>\n",
       "      <td>39996.99</td>\n",
       "      <td>2.212715e+03</td>\n",
       "      <td>8.850194e+07</td>\n",
       "      <td>40109.02</td>\n",
       "      <td>6.956543e+02</td>\n",
       "      <td>2.790201e+07</td>\n",
       "      <td>38373.90</td>\n",
       "      <td>1.283512e+03</td>\n",
       "      <td>4.925334e+07</td>\n",
       "      <td>...</td>\n",
       "      <td>1.298208e+08</td>\n",
       "      <td>38269.94</td>\n",
       "      <td>2.388759e+03</td>\n",
       "      <td>9.141766e+07</td>\n",
       "      <td>37274.18</td>\n",
       "      <td>1.778275e+03</td>\n",
       "      <td>6.628375e+07</td>\n",
       "      <td>38376.88</td>\n",
       "      <td>6.302851e+03</td>\n",
       "      <td>2.418838e+08</td>\n",
       "    </tr>\n",
       "    <tr>\n",
       "      <th>2022-02-26</th>\n",
       "      <td>39146.66</td>\n",
       "      <td>40109.02</td>\n",
       "      <td>6.956543e+02</td>\n",
       "      <td>2.790201e+07</td>\n",
       "      <td>38373.90</td>\n",
       "      <td>1.283512e+03</td>\n",
       "      <td>4.925334e+07</td>\n",
       "      <td>37076.60</td>\n",
       "      <td>3.501420e+03</td>\n",
       "      <td>1.298208e+08</td>\n",
       "      <td>...</td>\n",
       "      <td>9.141766e+07</td>\n",
       "      <td>37274.18</td>\n",
       "      <td>1.778275e+03</td>\n",
       "      <td>6.628375e+07</td>\n",
       "      <td>38376.88</td>\n",
       "      <td>6.302851e+03</td>\n",
       "      <td>2.418838e+08</td>\n",
       "      <td>39231.64</td>\n",
       "      <td>2.202852e+03</td>\n",
       "      <td>8.642149e+07</td>\n",
       "    </tr>\n",
       "    <tr>\n",
       "      <th>2022-02-27</th>\n",
       "      <td>37712.68</td>\n",
       "      <td>38373.90</td>\n",
       "      <td>1.283512e+03</td>\n",
       "      <td>4.925334e+07</td>\n",
       "      <td>37076.60</td>\n",
       "      <td>3.501420e+03</td>\n",
       "      <td>1.298208e+08</td>\n",
       "      <td>38269.94</td>\n",
       "      <td>2.388759e+03</td>\n",
       "      <td>9.141766e+07</td>\n",
       "      <td>...</td>\n",
       "      <td>6.628375e+07</td>\n",
       "      <td>38376.88</td>\n",
       "      <td>6.302851e+03</td>\n",
       "      <td>2.418838e+08</td>\n",
       "      <td>39231.64</td>\n",
       "      <td>2.202852e+03</td>\n",
       "      <td>8.642149e+07</td>\n",
       "      <td>39146.66</td>\n",
       "      <td>9.127241e+02</td>\n",
       "      <td>3.573010e+07</td>\n",
       "    </tr>\n",
       "    <tr>\n",
       "      <th>2022-02-28</th>\n",
       "      <td>43178.98</td>\n",
       "      <td>37076.60</td>\n",
       "      <td>3.501420e+03</td>\n",
       "      <td>1.298208e+08</td>\n",
       "      <td>38269.94</td>\n",
       "      <td>2.388759e+03</td>\n",
       "      <td>9.141766e+07</td>\n",
       "      <td>37274.18</td>\n",
       "      <td>1.778275e+03</td>\n",
       "      <td>6.628375e+07</td>\n",
       "      <td>...</td>\n",
       "      <td>2.418838e+08</td>\n",
       "      <td>39231.64</td>\n",
       "      <td>2.202852e+03</td>\n",
       "      <td>8.642149e+07</td>\n",
       "      <td>39146.66</td>\n",
       "      <td>9.127241e+02</td>\n",
       "      <td>3.573010e+07</td>\n",
       "      <td>37712.68</td>\n",
       "      <td>1.701817e+03</td>\n",
       "      <td>6.418008e+07</td>\n",
       "    </tr>\n",
       "    <tr>\n",
       "      <th>2022-03-01</th>\n",
       "      <td>43185.48</td>\n",
       "      <td>38269.94</td>\n",
       "      <td>2.388759e+03</td>\n",
       "      <td>9.141766e+07</td>\n",
       "      <td>37274.18</td>\n",
       "      <td>1.778275e+03</td>\n",
       "      <td>6.628375e+07</td>\n",
       "      <td>38376.88</td>\n",
       "      <td>6.302851e+03</td>\n",
       "      <td>2.418838e+08</td>\n",
       "      <td>...</td>\n",
       "      <td>8.642149e+07</td>\n",
       "      <td>39146.66</td>\n",
       "      <td>9.127241e+02</td>\n",
       "      <td>3.573010e+07</td>\n",
       "      <td>37712.68</td>\n",
       "      <td>1.701817e+03</td>\n",
       "      <td>6.418008e+07</td>\n",
       "      <td>43178.98</td>\n",
       "      <td>3.160618e+03</td>\n",
       "      <td>1.364723e+08</td>\n",
       "    </tr>\n",
       "  </tbody>\n",
       "</table>\n",
       "<p>2644 rows × 22 columns</p>\n",
       "</div>"
      ]
     },
     "execution_count": 118,
     "metadata": {},
     "output_type": "execute_result"
    }
   ],
   "execution_count": 118
  },
  {
   "cell_type": "markdown",
   "metadata": {
    "id": "hZceBEFuiGpI"
   },
   "source": [
    "# Feauture Extraction\n",
    "Select the relevant features for prediction and apply a lag of up to 7 days to each chosen feature\n",
    "\n",
    "Hint: Use `df['column_name'].shift(period)`. Check the documentation at https://pandas.pydata.org/docs/reference/api/pandas.DataFrame.shift.html."
   ]
  },
  {
   "cell_type": "code",
   "metadata": {
    "id": "qHwGg9ieiFL1",
    "ExecuteTime": {
     "end_time": "2025-01-19T00:10:44.454306Z",
     "start_time": "2025-01-19T00:10:44.383464Z"
    }
   },
   "source": [
    "# Write your code here. Add as many boxes as you need."
   ],
   "outputs": [],
   "execution_count": 119
  },
  {
   "cell_type": "markdown",
   "metadata": {
    "id": "tls69_PrbJKW"
   },
   "source": [
    "## Dataset Splitting\n",
    "Partition the dataset into training and testing sets with an 80:20 ratio.\n",
    "\n",
    "**WARNING: DO NOT SHUFFLE THE DATASET.**\n",
    "\n"
   ]
  },
  {
   "cell_type": "code",
   "metadata": {
    "id": "PjGGGMxebeoB",
    "ExecuteTime": {
     "end_time": "2025-01-19T00:10:44.523817Z",
     "start_time": "2025-01-19T00:10:44.455315Z"
    }
   },
   "source": [
    "# Write your code here. Add as many boxes as you need.\n",
    "x,y = get_x_and_y(df_5, \"close\")"
   ],
   "outputs": [],
   "execution_count": 120
  },
  {
   "metadata": {
    "ExecuteTime": {
     "end_time": "2025-01-19T00:10:44.592228Z",
     "start_time": "2025-01-19T00:10:44.525943Z"
    }
   },
   "cell_type": "code",
   "source": "x_train,x_test,y_train,y_test = train_test_split(x, y, test_size=0.2, shuffle=False)",
   "outputs": [],
   "execution_count": 121
  },
  {
   "metadata": {
    "ExecuteTime": {
     "end_time": "2025-01-19T00:10:44.664287Z",
     "start_time": "2025-01-19T00:10:44.593466Z"
    }
   },
   "cell_type": "code",
   "source": [
    "scaler = MinMaxScaler()\n",
    "x_train_scaled = scaler.fit_transform(x_train)\n",
    "x_test_scaled = scaler.transform(x_test)"
   ],
   "outputs": [],
   "execution_count": 122
  },
  {
   "metadata": {
    "ExecuteTime": {
     "end_time": "2025-01-19T00:10:44.743109Z",
     "start_time": "2025-01-19T00:10:44.669530Z"
    }
   },
   "cell_type": "code",
   "source": "y_scaled = MinMaxScaler()",
   "outputs": [],
   "execution_count": 123
  },
  {
   "metadata": {
    "ExecuteTime": {
     "end_time": "2025-01-19T00:10:44.813877Z",
     "start_time": "2025-01-19T00:10:44.745118Z"
    }
   },
   "cell_type": "code",
   "source": "y_train_scaled = y_scaled.fit_transform(y_train.to_numpy().reshape(-1, 1))\n",
   "outputs": [],
   "execution_count": 124
  },
  {
   "metadata": {
    "ExecuteTime": {
     "end_time": "2025-01-19T00:10:44.881335Z",
     "start_time": "2025-01-19T00:10:44.814885Z"
    }
   },
   "cell_type": "code",
   "source": "lag = 7",
   "outputs": [],
   "execution_count": 125
  },
  {
   "metadata": {
    "ExecuteTime": {
     "end_time": "2025-01-19T00:10:44.956478Z",
     "start_time": "2025-01-19T00:10:44.881846Z"
    }
   },
   "cell_type": "code",
   "source": [
    "x_train_scaled_shaped = x_train_scaled.reshape(x_train_scaled.shape[0], lag, (x_train_scaled.shape[1] // lag))\n",
    "x_test_scaled_shaped = x_test_scaled.reshape(x_test_scaled.shape[0], lag, (x_test_scaled.shape[1] // lag))"
   ],
   "outputs": [],
   "execution_count": 126
  },
  {
   "metadata": {
    "ExecuteTime": {
     "end_time": "2025-01-19T00:10:45.031522Z",
     "start_time": "2025-01-19T00:10:44.959526Z"
    }
   },
   "cell_type": "code",
   "source": "x_train_scaled_shaped.shape",
   "outputs": [
    {
     "data": {
      "text/plain": [
       "(2115, 7, 3)"
      ]
     },
     "execution_count": 127,
     "metadata": {},
     "output_type": "execute_result"
    }
   ],
   "execution_count": 127
  },
  {
   "metadata": {
    "ExecuteTime": {
     "end_time": "2025-01-19T00:10:45.105477Z",
     "start_time": "2025-01-19T00:10:45.033538Z"
    }
   },
   "cell_type": "code",
   "source": [
    "from keras.api.models import Sequential\n",
    "from keras.api.layers import Input, LSTM, Dense"
   ],
   "outputs": [],
   "execution_count": 128
  },
  {
   "metadata": {
    "ExecuteTime": {
     "end_time": "2025-01-19T00:13:54.598363Z",
     "start_time": "2025-01-19T00:13:54.539371Z"
    }
   },
   "cell_type": "code",
   "source": [
    "import tensorflow as tf\n",
    "import numpy as np\n",
    "import random"
   ],
   "outputs": [],
   "execution_count": 144
  },
  {
   "metadata": {
    "ExecuteTime": {
     "end_time": "2025-01-19T00:13:56.135261Z",
     "start_time": "2025-01-19T00:13:56.004132Z"
    }
   },
   "cell_type": "code",
   "source": [
    "# Set random seeds for reproducibility\n",
    "random.seed(42)\n",
    "np.random.seed(42)\n",
    "tf.random.set_seed(42)"
   ],
   "outputs": [],
   "execution_count": 145
  },
  {
   "metadata": {
    "ExecuteTime": {
     "end_time": "2025-01-19T00:17:24.657347Z",
     "start_time": "2025-01-19T00:17:24.491798Z"
    }
   },
   "cell_type": "code",
   "source": [
    "model = Sequential([\n",
    "    Input((x_train_scaled_shaped.shape[1], x_train_scaled_shaped.shape[2],)),\n",
    "    LSTM(64, activation=\"relu\", return_sequences=True),\n",
    "    LSTM(32, activation=\"relu\", return_sequences=True),\n",
    "    LSTM(16, activation=\"relu\", return_sequences=True),\n",
    "    LSTM(8, activation=\"relu\", return_sequences=False),\n",
    "    # LSTM(16, activation=\"relu\", return_sequences=False),\n",
    "    Dense(1, activation=\"linear\")\n",
    "])"
   ],
   "outputs": [],
   "execution_count": 175
  },
  {
   "metadata": {
    "ExecuteTime": {
     "end_time": "2025-01-19T00:17:25.504769Z",
     "start_time": "2025-01-19T00:17:25.427138Z"
    }
   },
   "cell_type": "code",
   "source": [
    "model.summary()\n",
    "model.compile(\n",
    "    loss=\"mean_squared_error\",\n",
    "    optimizer=\"adam\",\n",
    "    metrics=[\"mean_squared_error\"],\n",
    ")"
   ],
   "outputs": [
    {
     "data": {
      "text/plain": [
       "\u001B[1mModel: \"sequential_15\"\u001B[0m\n"
      ],
      "text/html": [
       "<pre style=\"white-space:pre;overflow-x:auto;line-height:normal;font-family:Menlo,'DejaVu Sans Mono',consolas,'Courier New',monospace\"><span style=\"font-weight: bold\">Model: \"sequential_15\"</span>\n",
       "</pre>\n"
      ]
     },
     "metadata": {},
     "output_type": "display_data"
    },
    {
     "data": {
      "text/plain": [
       "┏━━━━━━━━━━━━━━━━━━━━━━━━━━━━━━━━━┳━━━━━━━━━━━━━━━━━━━━━━━━┳━━━━━━━━━━━━━━━┓\n",
       "┃\u001B[1m \u001B[0m\u001B[1mLayer (type)                   \u001B[0m\u001B[1m \u001B[0m┃\u001B[1m \u001B[0m\u001B[1mOutput Shape          \u001B[0m\u001B[1m \u001B[0m┃\u001B[1m \u001B[0m\u001B[1m      Param #\u001B[0m\u001B[1m \u001B[0m┃\n",
       "┡━━━━━━━━━━━━━━━━━━━━━━━━━━━━━━━━━╇━━━━━━━━━━━━━━━━━━━━━━━━╇━━━━━━━━━━━━━━━┩\n",
       "│ lstm_32 (\u001B[38;5;33mLSTM\u001B[0m)                  │ (\u001B[38;5;45mNone\u001B[0m, \u001B[38;5;34m7\u001B[0m, \u001B[38;5;34m64\u001B[0m)          │        \u001B[38;5;34m17,408\u001B[0m │\n",
       "├─────────────────────────────────┼────────────────────────┼───────────────┤\n",
       "│ lstm_33 (\u001B[38;5;33mLSTM\u001B[0m)                  │ (\u001B[38;5;45mNone\u001B[0m, \u001B[38;5;34m7\u001B[0m, \u001B[38;5;34m32\u001B[0m)          │        \u001B[38;5;34m12,416\u001B[0m │\n",
       "├─────────────────────────────────┼────────────────────────┼───────────────┤\n",
       "│ lstm_34 (\u001B[38;5;33mLSTM\u001B[0m)                  │ (\u001B[38;5;45mNone\u001B[0m, \u001B[38;5;34m7\u001B[0m, \u001B[38;5;34m16\u001B[0m)          │         \u001B[38;5;34m3,136\u001B[0m │\n",
       "├─────────────────────────────────┼────────────────────────┼───────────────┤\n",
       "│ lstm_35 (\u001B[38;5;33mLSTM\u001B[0m)                  │ (\u001B[38;5;45mNone\u001B[0m, \u001B[38;5;34m8\u001B[0m)              │           \u001B[38;5;34m800\u001B[0m │\n",
       "├─────────────────────────────────┼────────────────────────┼───────────────┤\n",
       "│ dense_15 (\u001B[38;5;33mDense\u001B[0m)                │ (\u001B[38;5;45mNone\u001B[0m, \u001B[38;5;34m1\u001B[0m)              │             \u001B[38;5;34m9\u001B[0m │\n",
       "└─────────────────────────────────┴────────────────────────┴───────────────┘\n"
      ],
      "text/html": [
       "<pre style=\"white-space:pre;overflow-x:auto;line-height:normal;font-family:Menlo,'DejaVu Sans Mono',consolas,'Courier New',monospace\">┏━━━━━━━━━━━━━━━━━━━━━━━━━━━━━━━━━┳━━━━━━━━━━━━━━━━━━━━━━━━┳━━━━━━━━━━━━━━━┓\n",
       "┃<span style=\"font-weight: bold\"> Layer (type)                    </span>┃<span style=\"font-weight: bold\"> Output Shape           </span>┃<span style=\"font-weight: bold\">       Param # </span>┃\n",
       "┡━━━━━━━━━━━━━━━━━━━━━━━━━━━━━━━━━╇━━━━━━━━━━━━━━━━━━━━━━━━╇━━━━━━━━━━━━━━━┩\n",
       "│ lstm_32 (<span style=\"color: #0087ff; text-decoration-color: #0087ff\">LSTM</span>)                  │ (<span style=\"color: #00d7ff; text-decoration-color: #00d7ff\">None</span>, <span style=\"color: #00af00; text-decoration-color: #00af00\">7</span>, <span style=\"color: #00af00; text-decoration-color: #00af00\">64</span>)          │        <span style=\"color: #00af00; text-decoration-color: #00af00\">17,408</span> │\n",
       "├─────────────────────────────────┼────────────────────────┼───────────────┤\n",
       "│ lstm_33 (<span style=\"color: #0087ff; text-decoration-color: #0087ff\">LSTM</span>)                  │ (<span style=\"color: #00d7ff; text-decoration-color: #00d7ff\">None</span>, <span style=\"color: #00af00; text-decoration-color: #00af00\">7</span>, <span style=\"color: #00af00; text-decoration-color: #00af00\">32</span>)          │        <span style=\"color: #00af00; text-decoration-color: #00af00\">12,416</span> │\n",
       "├─────────────────────────────────┼────────────────────────┼───────────────┤\n",
       "│ lstm_34 (<span style=\"color: #0087ff; text-decoration-color: #0087ff\">LSTM</span>)                  │ (<span style=\"color: #00d7ff; text-decoration-color: #00d7ff\">None</span>, <span style=\"color: #00af00; text-decoration-color: #00af00\">7</span>, <span style=\"color: #00af00; text-decoration-color: #00af00\">16</span>)          │         <span style=\"color: #00af00; text-decoration-color: #00af00\">3,136</span> │\n",
       "├─────────────────────────────────┼────────────────────────┼───────────────┤\n",
       "│ lstm_35 (<span style=\"color: #0087ff; text-decoration-color: #0087ff\">LSTM</span>)                  │ (<span style=\"color: #00d7ff; text-decoration-color: #00d7ff\">None</span>, <span style=\"color: #00af00; text-decoration-color: #00af00\">8</span>)              │           <span style=\"color: #00af00; text-decoration-color: #00af00\">800</span> │\n",
       "├─────────────────────────────────┼────────────────────────┼───────────────┤\n",
       "│ dense_15 (<span style=\"color: #0087ff; text-decoration-color: #0087ff\">Dense</span>)                │ (<span style=\"color: #00d7ff; text-decoration-color: #00d7ff\">None</span>, <span style=\"color: #00af00; text-decoration-color: #00af00\">1</span>)              │             <span style=\"color: #00af00; text-decoration-color: #00af00\">9</span> │\n",
       "└─────────────────────────────────┴────────────────────────┴───────────────┘\n",
       "</pre>\n"
      ]
     },
     "metadata": {},
     "output_type": "display_data"
    },
    {
     "data": {
      "text/plain": [
       "\u001B[1m Total params: \u001B[0m\u001B[38;5;34m33,769\u001B[0m (131.91 KB)\n"
      ],
      "text/html": [
       "<pre style=\"white-space:pre;overflow-x:auto;line-height:normal;font-family:Menlo,'DejaVu Sans Mono',consolas,'Courier New',monospace\"><span style=\"font-weight: bold\"> Total params: </span><span style=\"color: #00af00; text-decoration-color: #00af00\">33,769</span> (131.91 KB)\n",
       "</pre>\n"
      ]
     },
     "metadata": {},
     "output_type": "display_data"
    },
    {
     "data": {
      "text/plain": [
       "\u001B[1m Trainable params: \u001B[0m\u001B[38;5;34m33,769\u001B[0m (131.91 KB)\n"
      ],
      "text/html": [
       "<pre style=\"white-space:pre;overflow-x:auto;line-height:normal;font-family:Menlo,'DejaVu Sans Mono',consolas,'Courier New',monospace\"><span style=\"font-weight: bold\"> Trainable params: </span><span style=\"color: #00af00; text-decoration-color: #00af00\">33,769</span> (131.91 KB)\n",
       "</pre>\n"
      ]
     },
     "metadata": {},
     "output_type": "display_data"
    },
    {
     "data": {
      "text/plain": [
       "\u001B[1m Non-trainable params: \u001B[0m\u001B[38;5;34m0\u001B[0m (0.00 B)\n"
      ],
      "text/html": [
       "<pre style=\"white-space:pre;overflow-x:auto;line-height:normal;font-family:Menlo,'DejaVu Sans Mono',consolas,'Courier New',monospace\"><span style=\"font-weight: bold\"> Non-trainable params: </span><span style=\"color: #00af00; text-decoration-color: #00af00\">0</span> (0.00 B)\n",
       "</pre>\n"
      ]
     },
     "metadata": {},
     "output_type": "display_data"
    }
   ],
   "execution_count": 176
  },
  {
   "metadata": {
    "ExecuteTime": {
     "end_time": "2025-01-19T00:17:45.559240Z",
     "start_time": "2025-01-19T00:17:26.123333Z"
    }
   },
   "cell_type": "code",
   "source": "history = model.fit(x_train_scaled_shaped, y_train_scaled, validation_split=0.2, epochs=16, batch_size=32, shuffle=False)",
   "outputs": [
    {
     "name": "stdout",
     "output_type": "stream",
     "text": [
      "Epoch 1/16\n",
      "\u001B[1m53/53\u001B[0m \u001B[32m━━━━━━━━━━━━━━━━━━━━\u001B[0m\u001B[37m\u001B[0m \u001B[1m5s\u001B[0m 24ms/step - loss: 0.0144 - mean_squared_error: 0.0144 - val_loss: 0.0791 - val_mean_squared_error: 0.0791\n",
      "Epoch 2/16\n",
      "\u001B[1m53/53\u001B[0m \u001B[32m━━━━━━━━━━━━━━━━━━━━\u001B[0m\u001B[37m\u001B[0m \u001B[1m1s\u001B[0m 14ms/step - loss: 0.0323 - mean_squared_error: 0.0323 - val_loss: 0.0406 - val_mean_squared_error: 0.0406\n",
      "Epoch 3/16\n",
      "\u001B[1m53/53\u001B[0m \u001B[32m━━━━━━━━━━━━━━━━━━━━\u001B[0m\u001B[37m\u001B[0m \u001B[1m1s\u001B[0m 15ms/step - loss: 0.0331 - mean_squared_error: 0.0331 - val_loss: 0.0171 - val_mean_squared_error: 0.0171\n",
      "Epoch 4/16\n",
      "\u001B[1m53/53\u001B[0m \u001B[32m━━━━━━━━━━━━━━━━━━━━\u001B[0m\u001B[37m\u001B[0m \u001B[1m1s\u001B[0m 19ms/step - loss: 0.0186 - mean_squared_error: 0.0186 - val_loss: 0.0956 - val_mean_squared_error: 0.0956\n",
      "Epoch 5/16\n",
      "\u001B[1m53/53\u001B[0m \u001B[32m━━━━━━━━━━━━━━━━━━━━\u001B[0m\u001B[37m\u001B[0m \u001B[1m1s\u001B[0m 20ms/step - loss: 0.0169 - mean_squared_error: 0.0169 - val_loss: 0.0671 - val_mean_squared_error: 0.0671\n",
      "Epoch 6/16\n",
      "\u001B[1m53/53\u001B[0m \u001B[32m━━━━━━━━━━━━━━━━━━━━\u001B[0m\u001B[37m\u001B[0m \u001B[1m1s\u001B[0m 19ms/step - loss: 0.0180 - mean_squared_error: 0.0180 - val_loss: 0.0279 - val_mean_squared_error: 0.0279\n",
      "Epoch 7/16\n",
      "\u001B[1m53/53\u001B[0m \u001B[32m━━━━━━━━━━━━━━━━━━━━\u001B[0m\u001B[37m\u001B[0m \u001B[1m1s\u001B[0m 19ms/step - loss: 0.0377 - mean_squared_error: 0.0377 - val_loss: 0.1000 - val_mean_squared_error: 0.1000\n",
      "Epoch 8/16\n",
      "\u001B[1m53/53\u001B[0m \u001B[32m━━━━━━━━━━━━━━━━━━━━\u001B[0m\u001B[37m\u001B[0m \u001B[1m1s\u001B[0m 19ms/step - loss: 0.0156 - mean_squared_error: 0.0156 - val_loss: 0.0745 - val_mean_squared_error: 0.0745\n",
      "Epoch 9/16\n",
      "\u001B[1m53/53\u001B[0m \u001B[32m━━━━━━━━━━━━━━━━━━━━\u001B[0m\u001B[37m\u001B[0m \u001B[1m1s\u001B[0m 15ms/step - loss: 0.0218 - mean_squared_error: 0.0218 - val_loss: 0.0555 - val_mean_squared_error: 0.0555\n",
      "Epoch 10/16\n",
      "\u001B[1m53/53\u001B[0m \u001B[32m━━━━━━━━━━━━━━━━━━━━\u001B[0m\u001B[37m\u001B[0m \u001B[1m1s\u001B[0m 17ms/step - loss: 0.0088 - mean_squared_error: 0.0088 - val_loss: 0.0106 - val_mean_squared_error: 0.0106\n",
      "Epoch 11/16\n",
      "\u001B[1m53/53\u001B[0m \u001B[32m━━━━━━━━━━━━━━━━━━━━\u001B[0m\u001B[37m\u001B[0m \u001B[1m1s\u001B[0m 16ms/step - loss: 0.0057 - mean_squared_error: 0.0057 - val_loss: 0.0143 - val_mean_squared_error: 0.0143\n",
      "Epoch 12/16\n",
      "\u001B[1m53/53\u001B[0m \u001B[32m━━━━━━━━━━━━━━━━━━━━\u001B[0m\u001B[37m\u001B[0m \u001B[1m1s\u001B[0m 14ms/step - loss: 0.0032 - mean_squared_error: 0.0032 - val_loss: 0.0045 - val_mean_squared_error: 0.0045\n",
      "Epoch 13/16\n",
      "\u001B[1m53/53\u001B[0m \u001B[32m━━━━━━━━━━━━━━━━━━━━\u001B[0m\u001B[37m\u001B[0m \u001B[1m1s\u001B[0m 16ms/step - loss: 0.0032 - mean_squared_error: 0.0032 - val_loss: 0.0050 - val_mean_squared_error: 0.0050\n",
      "Epoch 14/16\n",
      "\u001B[1m53/53\u001B[0m \u001B[32m━━━━━━━━━━━━━━━━━━━━\u001B[0m\u001B[37m\u001B[0m \u001B[1m1s\u001B[0m 20ms/step - loss: 0.0028 - mean_squared_error: 0.0028 - val_loss: 0.0039 - val_mean_squared_error: 0.0039\n",
      "Epoch 15/16\n",
      "\u001B[1m53/53\u001B[0m \u001B[32m━━━━━━━━━━━━━━━━━━━━\u001B[0m\u001B[37m\u001B[0m \u001B[1m1s\u001B[0m 15ms/step - loss: 0.0022 - mean_squared_error: 0.0022 - val_loss: 0.0037 - val_mean_squared_error: 0.0037\n",
      "Epoch 16/16\n",
      "\u001B[1m53/53\u001B[0m \u001B[32m━━━━━━━━━━━━━━━━━━━━\u001B[0m\u001B[37m\u001B[0m \u001B[1m1s\u001B[0m 14ms/step - loss: 0.0018 - mean_squared_error: 0.0018 - val_loss: 0.0029 - val_mean_squared_error: 0.0029\n"
     ]
    }
   ],
   "execution_count": 177
  },
  {
   "metadata": {
    "ExecuteTime": {
     "end_time": "2025-01-19T00:17:46.937294Z",
     "start_time": "2025-01-19T00:17:46.742346Z"
    }
   },
   "cell_type": "code",
   "source": [
    "sns.lineplot(history.history[\"loss\"], label=\"loss\")\n",
    "sns.lineplot(history.history[\"val_loss\"], label=\"val_loss\")\n"
   ],
   "outputs": [
    {
     "data": {
      "text/plain": [
       "<Axes: >"
      ]
     },
     "execution_count": 178,
     "metadata": {},
     "output_type": "execute_result"
    },
    {
     "data": {
      "text/plain": [
       "<Figure size 640x480 with 1 Axes>"
      ],
      "image/png": "[encoded data removed]"
     },
     "metadata": {},
     "output_type": "display_data"
    }
   ],
   "execution_count": 178
  },
  {
   "metadata": {
    "ExecuteTime": {
     "end_time": "2025-01-19T00:17:50.593262Z",
     "start_time": "2025-01-19T00:17:49.197059Z"
    }
   },
   "cell_type": "code",
   "source": "pred_y = model.predict(x_test_scaled_shaped)",
   "outputs": [
    {
     "name": "stdout",
     "output_type": "stream",
     "text": [
      "\u001B[1m17/17\u001B[0m \u001B[32m━━━━━━━━━━━━━━━━━━━━\u001B[0m\u001B[37m\u001B[0m \u001B[1m1s\u001B[0m 33ms/step\n"
     ]
    }
   ],
   "execution_count": 179
  },
  {
   "metadata": {
    "ExecuteTime": {
     "end_time": "2025-01-19T00:17:51.205492Z",
     "start_time": "2025-01-19T00:17:51.145640Z"
    }
   },
   "cell_type": "code",
   "source": [
    "pred_y_scaled = y_scaled.inverse_transform(pred_y)\n",
    "r2_score(y_test, pred_y_scaled)"
   ],
   "outputs": [
    {
     "data": {
      "text/plain": [
       "-6.120985267402717"
      ]
     },
     "execution_count": 180,
     "metadata": {},
     "output_type": "execute_result"
    }
   ],
   "execution_count": 180
  },
  {
   "cell_type": "markdown",
   "metadata": {
    "id": "VIkAR1Hibiwr"
   },
   "source": [
    "## Neural Networks"
   ]
  },
  {
   "cell_type": "markdown",
   "metadata": {
    "id": "qWn1pafKbnxH"
   },
   "source": [
    "Create an LSTM model and train it using the `train` function."
   ]
  },
  {
   "cell_type": "code",
   "metadata": {
    "id": "IXFIrQthbnkb",
    "ExecuteTime": {
     "end_time": "2025-01-19T00:10:54.342572Z",
     "start_time": "2025-01-19T00:10:54.275749Z"
    }
   },
   "source": [
    "# Write your code here. Add as many boxes as you need."
   ],
   "outputs": [],
   "execution_count": 135
  },
  {
   "cell_type": "markdown",
   "metadata": {
    "id": "gyXZwAVab8Cp"
   },
   "source": [
    "Use the trained model to make predictions for the test set."
   ]
  },
  {
   "cell_type": "code",
   "metadata": {
    "id": "EvMfVum6b_9b",
    "ExecuteTime": {
     "end_time": "2025-01-19T00:10:54.411768Z",
     "start_time": "2025-01-19T00:10:54.344584Z"
    }
   },
   "source": [
    "# Write your code here. Add as many boxes as you need."
   ],
   "outputs": [],
   "execution_count": 136
  },
  {
   "cell_type": "markdown",
   "metadata": {
    "id": "3VxAvDPtcNCh"
   },
   "source": [
    "Assess the performance of the model by using different metrics provided by the `scikit-learn` library."
   ]
  },
  {
   "cell_type": "code",
   "metadata": {
    "id": "V4axpktycQhp",
    "ExecuteTime": {
     "end_time": "2025-01-19T00:10:54.480429Z",
     "start_time": "2025-01-19T00:10:54.412777Z"
    }
   },
   "source": [
    "# Write your code here. Add as many boxes as you need."
   ],
   "outputs": [],
   "execution_count": 137
  },
  {
   "cell_type": "markdown",
   "metadata": {},
   "source": [
    "# Additional Bonus Task"
   ]
  },
  {
   "cell_type": "markdown",
   "metadata": {},
   "source": [
    "Group the data by month. You can use [pandas.Grouper](https://pandas.pydata.org/docs/reference/api/pandas.Grouper.html) function."
   ]
  },
  {
   "metadata": {
    "ExecuteTime": {
     "end_time": "2025-01-19T00:20:31.626101Z",
     "start_time": "2025-01-19T00:20:31.525096Z"
    }
   },
   "cell_type": "code",
   "source": [
    "df_grouped = df_1.groupby(pd.Grouper(freq=\"1M\")).mean()\n",
    "df_grouped"
   ],
   "outputs": [
    {
     "name": "stderr",
     "output_type": "stream",
     "text": [
      "C:\\Users\\User-PC\\AppData\\Local\\Temp\\ipykernel_19280\\257662279.py:1: FutureWarning: 'M' is deprecated and will be removed in a future version, please use 'ME' instead.\n",
      "  df_grouped = df_1.groupby(pd.Grouper(freq=\"1M\")).mean()\n"
     ]
    },
    {
     "data": {
      "text/plain": [
       "                    open          high           low         close  \\\n",
       "date                                                                 \n",
       "2014-11-30    372.193333    383.310000    368.713333    375.446667   \n",
       "2014-12-31    343.688387    348.636452    336.454194    341.813548   \n",
       "2015-01-31    250.943226    260.632903    238.363871    247.703871   \n",
       "2015-02-28    233.012500    239.859643    226.930357    234.278214   \n",
       "2015-03-31    268.984516    274.261613    261.617419    268.596774   \n",
       "...                  ...           ...           ...           ...   \n",
       "2021-11-30  60847.510000  62106.503000  59143.207000  60705.494000   \n",
       "2021-12-31  49673.636129  50794.813226  47969.005484  49328.349032   \n",
       "2022-01-31  41351.752903  42166.822258  40007.854516  41111.849677   \n",
       "2022-02-28  40598.291429  41849.483929  39521.216429  40763.182143   \n",
       "2022-03-31  43221.710000  43626.490000  43185.480000  43185.480000   \n",
       "\n",
       "              Volume BTC    Volume USD  \n",
       "date                                    \n",
       "2014-11-30  2.370867e+06  6.302890e+03  \n",
       "2014-12-31  2.890151e+06  8.538790e+03  \n",
       "2015-01-31  5.431845e+06  2.355429e+04  \n",
       "2015-02-28  1.906693e+06  8.128419e+03  \n",
       "2015-03-31  2.456041e+06  9.173154e+03  \n",
       "...                  ...           ...  \n",
       "2021-11-30  2.406693e+03  1.447363e+08  \n",
       "2021-12-31  2.319238e+03  1.147267e+08  \n",
       "2022-01-31  2.318621e+03  9.244537e+07  \n",
       "2022-02-28  2.070851e+03  8.405792e+07  \n",
       "2022-03-31  4.900629e+01  2.116360e+06  \n",
       "\n",
       "[89 rows x 6 columns]"
      ],
      "text/html": [
       "<div>\n",
       "<style scoped>\n",
       "    .dataframe tbody tr th:only-of-type {\n",
       "        vertical-align: middle;\n",
       "    }\n",
       "\n",
       "    .dataframe tbody tr th {\n",
       "        vertical-align: top;\n",
       "    }\n",
       "\n",
       "    .dataframe thead th {\n",
       "        text-align: right;\n",
       "    }\n",
       "</style>\n",
       "<table border=\"1\" class=\"dataframe\">\n",
       "  <thead>\n",
       "    <tr style=\"text-align: right;\">\n",
       "      <th></th>\n",
       "      <th>open</th>\n",
       "      <th>high</th>\n",
       "      <th>low</th>\n",
       "      <th>close</th>\n",
       "      <th>Volume BTC</th>\n",
       "      <th>Volume USD</th>\n",
       "    </tr>\n",
       "    <tr>\n",
       "      <th>date</th>\n",
       "      <th></th>\n",
       "      <th></th>\n",
       "      <th></th>\n",
       "      <th></th>\n",
       "      <th></th>\n",
       "      <th></th>\n",
       "    </tr>\n",
       "  </thead>\n",
       "  <tbody>\n",
       "    <tr>\n",
       "      <th>2014-11-30</th>\n",
       "      <td>372.193333</td>\n",
       "      <td>383.310000</td>\n",
       "      <td>368.713333</td>\n",
       "      <td>375.446667</td>\n",
       "      <td>2.370867e+06</td>\n",
       "      <td>6.302890e+03</td>\n",
       "    </tr>\n",
       "    <tr>\n",
       "      <th>2014-12-31</th>\n",
       "      <td>343.688387</td>\n",
       "      <td>348.636452</td>\n",
       "      <td>336.454194</td>\n",
       "      <td>341.813548</td>\n",
       "      <td>2.890151e+06</td>\n",
       "      <td>8.538790e+03</td>\n",
       "    </tr>\n",
       "    <tr>\n",
       "      <th>2015-01-31</th>\n",
       "      <td>250.943226</td>\n",
       "      <td>260.632903</td>\n",
       "      <td>238.363871</td>\n",
       "      <td>247.703871</td>\n",
       "      <td>5.431845e+06</td>\n",
       "      <td>2.355429e+04</td>\n",
       "    </tr>\n",
       "    <tr>\n",
       "      <th>2015-02-28</th>\n",
       "      <td>233.012500</td>\n",
       "      <td>239.859643</td>\n",
       "      <td>226.930357</td>\n",
       "      <td>234.278214</td>\n",
       "      <td>1.906693e+06</td>\n",
       "      <td>8.128419e+03</td>\n",
       "    </tr>\n",
       "    <tr>\n",
       "      <th>2015-03-31</th>\n",
       "      <td>268.984516</td>\n",
       "      <td>274.261613</td>\n",
       "      <td>261.617419</td>\n",
       "      <td>268.596774</td>\n",
       "      <td>2.456041e+06</td>\n",
       "      <td>9.173154e+03</td>\n",
       "    </tr>\n",
       "    <tr>\n",
       "      <th>...</th>\n",
       "      <td>...</td>\n",
       "      <td>...</td>\n",
       "      <td>...</td>\n",
       "      <td>...</td>\n",
       "      <td>...</td>\n",
       "      <td>...</td>\n",
       "    </tr>\n",
       "    <tr>\n",
       "      <th>2021-11-30</th>\n",
       "      <td>60847.510000</td>\n",
       "      <td>62106.503000</td>\n",
       "      <td>59143.207000</td>\n",
       "      <td>60705.494000</td>\n",
       "      <td>2.406693e+03</td>\n",
       "      <td>1.447363e+08</td>\n",
       "    </tr>\n",
       "    <tr>\n",
       "      <th>2021-12-31</th>\n",
       "      <td>49673.636129</td>\n",
       "      <td>50794.813226</td>\n",
       "      <td>47969.005484</td>\n",
       "      <td>49328.349032</td>\n",
       "      <td>2.319238e+03</td>\n",
       "      <td>1.147267e+08</td>\n",
       "    </tr>\n",
       "    <tr>\n",
       "      <th>2022-01-31</th>\n",
       "      <td>41351.752903</td>\n",
       "      <td>42166.822258</td>\n",
       "      <td>40007.854516</td>\n",
       "      <td>41111.849677</td>\n",
       "      <td>2.318621e+03</td>\n",
       "      <td>9.244537e+07</td>\n",
       "    </tr>\n",
       "    <tr>\n",
       "      <th>2022-02-28</th>\n",
       "      <td>40598.291429</td>\n",
       "      <td>41849.483929</td>\n",
       "      <td>39521.216429</td>\n",
       "      <td>40763.182143</td>\n",
       "      <td>2.070851e+03</td>\n",
       "      <td>8.405792e+07</td>\n",
       "    </tr>\n",
       "    <tr>\n",
       "      <th>2022-03-31</th>\n",
       "      <td>43221.710000</td>\n",
       "      <td>43626.490000</td>\n",
       "      <td>43185.480000</td>\n",
       "      <td>43185.480000</td>\n",
       "      <td>4.900629e+01</td>\n",
       "      <td>2.116360e+06</td>\n",
       "    </tr>\n",
       "  </tbody>\n",
       "</table>\n",
       "<p>89 rows × 6 columns</p>\n",
       "</div>"
      ]
     },
     "execution_count": 182,
     "metadata": {},
     "output_type": "execute_result"
    }
   ],
   "execution_count": 182
  },
  {
   "metadata": {
    "ExecuteTime": {
     "end_time": "2025-01-19T00:22:08.158806Z",
     "start_time": "2025-01-19T00:22:08.098749Z"
    }
   },
   "cell_type": "code",
   "source": "df_grouped_1 , features = auto_shift(df_grouped, lag, features, auto_drop_na=True, return_features=True)",
   "outputs": [],
   "execution_count": 184
  },
  {
   "metadata": {
    "ExecuteTime": {
     "end_time": "2025-01-19T00:22:21.156500Z",
     "start_time": "2025-01-19T00:22:21.059759Z"
    }
   },
   "cell_type": "code",
   "source": "features",
   "outputs": [
    {
     "data": {
      "text/plain": [
       "['open',\n",
       " 'high',\n",
       " 'low',\n",
       " 'close_prev_7',\n",
       " 'close_prev_6',\n",
       " 'close_prev_5',\n",
       " 'close_prev_4',\n",
       " 'close_prev_3',\n",
       " 'close_prev_2',\n",
       " 'close_prev_1',\n",
       " 'Volume BTC_prev_7',\n",
       " 'Volume BTC_prev_6',\n",
       " 'Volume BTC_prev_5',\n",
       " 'Volume BTC_prev_4',\n",
       " 'Volume BTC_prev_3',\n",
       " 'Volume BTC_prev_2',\n",
       " 'Volume BTC_prev_1',\n",
       " 'Volume USD_prev_7',\n",
       " 'Volume USD_prev_6',\n",
       " 'Volume USD_prev_5',\n",
       " 'Volume USD_prev_4',\n",
       " 'Volume USD_prev_3',\n",
       " 'Volume USD_prev_2',\n",
       " 'Volume USD_prev_1']"
      ]
     },
     "execution_count": 186,
     "metadata": {},
     "output_type": "execute_result"
    }
   ],
   "execution_count": 186
  },
  {
   "metadata": {
    "ExecuteTime": {
     "end_time": "2025-01-19T00:23:22.272765Z",
     "start_time": "2025-01-19T00:23:22.161287Z"
    }
   },
   "cell_type": "code",
   "source": "df_grouped_2 = df_grouped_1.drop(columns = [\"open\", \"high\", \"low\", \"Volume USD\", \"Volume BTC\"])",
   "outputs": [],
   "execution_count": 190
  },
  {
   "metadata": {
    "ExecuteTime": {
     "end_time": "2025-01-19T00:23:23.234287Z",
     "start_time": "2025-01-19T00:23:23.155811Z"
    }
   },
   "cell_type": "code",
   "source": "df_grouped_2",
   "outputs": [
    {
     "data": {
      "text/plain": [
       "                   close  close_prev_7  close_prev_6  close_prev_5  \\\n",
       "date                                                                 \n",
       "2015-06-30    237.388667    375.446667    341.813548    247.703871   \n",
       "2015-07-31    279.595484    341.813548    247.703871    234.278214   \n",
       "2015-08-31    251.933226    247.703871    234.278214    268.596774   \n",
       "2015-09-30    233.346333    234.278214    268.596774    234.833333   \n",
       "2015-10-31    265.234194    268.596774    234.833333    236.153548   \n",
       "...                  ...           ...           ...           ...   \n",
       "2021-11-30  60705.494000  57098.524000  46456.518387  35843.433667   \n",
       "2021-12-31  49328.349032  46456.518387  35843.433667  34449.033226   \n",
       "2022-01-31  41111.849677  35843.433667  34449.033226  45705.102903   \n",
       "2022-02-28  40763.182143  34449.033226  45705.102903  45947.265333   \n",
       "2022-03-31  43185.480000  45705.102903  45947.265333  57917.162581   \n",
       "\n",
       "            close_prev_4  close_prev_3  close_prev_2  close_prev_1  \\\n",
       "date                                                                 \n",
       "2015-06-30    234.278214    268.596774    234.833333    236.153548   \n",
       "2015-07-31    268.596774    234.833333    236.153548    237.388667   \n",
       "2015-08-31    234.833333    236.153548    237.388667    279.595484   \n",
       "2015-09-30    236.153548    237.388667    279.595484    251.933226   \n",
       "2015-10-31    237.388667    279.595484    251.933226    233.346333   \n",
       "...                  ...           ...           ...           ...   \n",
       "2021-11-30  34449.033226  45705.102903  45947.265333  57917.162581   \n",
       "2021-12-31  45705.102903  45947.265333  57917.162581  60705.494000   \n",
       "2022-01-31  45947.265333  57917.162581  60705.494000  49328.349032   \n",
       "2022-02-28  57917.162581  60705.494000  49328.349032  41111.849677   \n",
       "2022-03-31  60705.494000  49328.349032  41111.849677  40763.182143   \n",
       "\n",
       "            Volume BTC_prev_7  Volume BTC_prev_6  ...  Volume BTC_prev_3  \\\n",
       "date                                              ...                      \n",
       "2015-06-30       2.370867e+06       2.890151e+06  ...       2.456041e+06   \n",
       "2015-07-31       2.890151e+06       5.431845e+06  ...       1.957545e+06   \n",
       "2015-08-31       5.431845e+06       1.906693e+06  ...       1.402679e+06   \n",
       "2015-09-30       1.906693e+06       2.456041e+06  ...       1.854247e+06   \n",
       "2015-10-31       2.456041e+06       1.957545e+06  ...       3.533811e+06   \n",
       "...                       ...                ...  ...                ...   \n",
       "2021-11-30       4.654120e+03       6.766189e+03  ...       2.599877e+03   \n",
       "2021-12-31       6.766189e+03       4.807447e+03  ...       2.328079e+03   \n",
       "2022-01-31       4.807447e+03       2.579614e+03  ...       2.554336e+03   \n",
       "2022-02-28       2.579614e+03       2.599877e+03  ...       2.406693e+03   \n",
       "2022-03-31       2.599877e+03       2.328079e+03  ...       2.319238e+03   \n",
       "\n",
       "            Volume BTC_prev_2  Volume BTC_prev_1  Volume USD_prev_7  \\\n",
       "date                                                                  \n",
       "2015-06-30       1.957545e+06       1.402679e+06       6.302890e+03   \n",
       "2015-07-31       1.402679e+06       1.854247e+06       8.538790e+03   \n",
       "2015-08-31       1.854247e+06       3.533811e+06       2.355429e+04   \n",
       "2015-09-30       3.533811e+06       3.098454e+06       8.128419e+03   \n",
       "2015-10-31       3.098454e+06       4.342468e+06       9.173154e+03   \n",
       "...                       ...                ...                ...   \n",
       "2021-11-30       2.328079e+03       2.554336e+03       2.630359e+08   \n",
       "2021-12-31       2.554336e+03       2.406693e+03       2.949962e+08   \n",
       "2022-01-31       2.406693e+03       2.319238e+03       1.710701e+08   \n",
       "2022-02-28       2.319238e+03       2.318621e+03       9.029344e+07   \n",
       "2022-03-31       2.318621e+03       2.070851e+03       1.169816e+08   \n",
       "\n",
       "            Volume USD_prev_6  Volume USD_prev_5  Volume USD_prev_4  \\\n",
       "date                                                                  \n",
       "2015-06-30       8.538790e+03       2.355429e+04       8.128419e+03   \n",
       "2015-07-31       2.355429e+04       8.128419e+03       9.173154e+03   \n",
       "2015-08-31       8.128419e+03       9.173154e+03       8.416993e+03   \n",
       "2015-09-30       9.173154e+03       8.416993e+03       5.933034e+03   \n",
       "2015-10-31       8.416993e+03       5.933034e+03       7.730591e+03   \n",
       "...                       ...                ...                ...   \n",
       "2021-11-30       2.949962e+08       1.710701e+08       9.029344e+07   \n",
       "2021-12-31       1.710701e+08       9.029344e+07       1.169816e+08   \n",
       "2022-01-31       9.029344e+07       1.169816e+08       1.055430e+08   \n",
       "2022-02-28       1.169816e+08       1.055430e+08       1.490666e+08   \n",
       "2022-03-31       1.055430e+08       1.490666e+08       1.447363e+08   \n",
       "\n",
       "            Volume USD_prev_3  Volume USD_prev_2  Volume USD_prev_1  \n",
       "date                                                                 \n",
       "2015-06-30       9.173154e+03       8.416993e+03       5.933034e+03  \n",
       "2015-07-31       8.416993e+03       5.933034e+03       7.730591e+03  \n",
       "2015-08-31       5.933034e+03       7.730591e+03       1.260323e+04  \n",
       "2015-09-30       7.730591e+03       1.260323e+04       1.292393e+04  \n",
       "2015-10-31       1.260323e+04       1.292393e+04       1.857822e+04  \n",
       "...                       ...                ...                ...  \n",
       "2021-11-30       1.169816e+08       1.055430e+08       1.490666e+08  \n",
       "2021-12-31       1.055430e+08       1.490666e+08       1.447363e+08  \n",
       "2022-01-31       1.490666e+08       1.447363e+08       1.147267e+08  \n",
       "2022-02-28       1.447363e+08       1.147267e+08       9.244537e+07  \n",
       "2022-03-31       1.147267e+08       9.244537e+07       8.405792e+07  \n",
       "\n",
       "[82 rows x 22 columns]"
      ],
      "text/html": [
       "<div>\n",
       "<style scoped>\n",
       "    .dataframe tbody tr th:only-of-type {\n",
       "        vertical-align: middle;\n",
       "    }\n",
       "\n",
       "    .dataframe tbody tr th {\n",
       "        vertical-align: top;\n",
       "    }\n",
       "\n",
       "    .dataframe thead th {\n",
       "        text-align: right;\n",
       "    }\n",
       "</style>\n",
       "<table border=\"1\" class=\"dataframe\">\n",
       "  <thead>\n",
       "    <tr style=\"text-align: right;\">\n",
       "      <th></th>\n",
       "      <th>close</th>\n",
       "      <th>close_prev_7</th>\n",
       "      <th>close_prev_6</th>\n",
       "      <th>close_prev_5</th>\n",
       "      <th>close_prev_4</th>\n",
       "      <th>close_prev_3</th>\n",
       "      <th>close_prev_2</th>\n",
       "      <th>close_prev_1</th>\n",
       "      <th>Volume BTC_prev_7</th>\n",
       "      <th>Volume BTC_prev_6</th>\n",
       "      <th>...</th>\n",
       "      <th>Volume BTC_prev_3</th>\n",
       "      <th>Volume BTC_prev_2</th>\n",
       "      <th>Volume BTC_prev_1</th>\n",
       "      <th>Volume USD_prev_7</th>\n",
       "      <th>Volume USD_prev_6</th>\n",
       "      <th>Volume USD_prev_5</th>\n",
       "      <th>Volume USD_prev_4</th>\n",
       "      <th>Volume USD_prev_3</th>\n",
       "      <th>Volume USD_prev_2</th>\n",
       "      <th>Volume USD_prev_1</th>\n",
       "    </tr>\n",
       "    <tr>\n",
       "      <th>date</th>\n",
       "      <th></th>\n",
       "      <th></th>\n",
       "      <th></th>\n",
       "      <th></th>\n",
       "      <th></th>\n",
       "      <th></th>\n",
       "      <th></th>\n",
       "      <th></th>\n",
       "      <th></th>\n",
       "      <th></th>\n",
       "      <th></th>\n",
       "      <th></th>\n",
       "      <th></th>\n",
       "      <th></th>\n",
       "      <th></th>\n",
       "      <th></th>\n",
       "      <th></th>\n",
       "      <th></th>\n",
       "      <th></th>\n",
       "      <th></th>\n",
       "      <th></th>\n",
       "    </tr>\n",
       "  </thead>\n",
       "  <tbody>\n",
       "    <tr>\n",
       "      <th>2015-06-30</th>\n",
       "      <td>237.388667</td>\n",
       "      <td>375.446667</td>\n",
       "      <td>341.813548</td>\n",
       "      <td>247.703871</td>\n",
       "      <td>234.278214</td>\n",
       "      <td>268.596774</td>\n",
       "      <td>234.833333</td>\n",
       "      <td>236.153548</td>\n",
       "      <td>2.370867e+06</td>\n",
       "      <td>2.890151e+06</td>\n",
       "      <td>...</td>\n",
       "      <td>2.456041e+06</td>\n",
       "      <td>1.957545e+06</td>\n",
       "      <td>1.402679e+06</td>\n",
       "      <td>6.302890e+03</td>\n",
       "      <td>8.538790e+03</td>\n",
       "      <td>2.355429e+04</td>\n",
       "      <td>8.128419e+03</td>\n",
       "      <td>9.173154e+03</td>\n",
       "      <td>8.416993e+03</td>\n",
       "      <td>5.933034e+03</td>\n",
       "    </tr>\n",
       "    <tr>\n",
       "      <th>2015-07-31</th>\n",
       "      <td>279.595484</td>\n",
       "      <td>341.813548</td>\n",
       "      <td>247.703871</td>\n",
       "      <td>234.278214</td>\n",
       "      <td>268.596774</td>\n",
       "      <td>234.833333</td>\n",
       "      <td>236.153548</td>\n",
       "      <td>237.388667</td>\n",
       "      <td>2.890151e+06</td>\n",
       "      <td>5.431845e+06</td>\n",
       "      <td>...</td>\n",
       "      <td>1.957545e+06</td>\n",
       "      <td>1.402679e+06</td>\n",
       "      <td>1.854247e+06</td>\n",
       "      <td>8.538790e+03</td>\n",
       "      <td>2.355429e+04</td>\n",
       "      <td>8.128419e+03</td>\n",
       "      <td>9.173154e+03</td>\n",
       "      <td>8.416993e+03</td>\n",
       "      <td>5.933034e+03</td>\n",
       "      <td>7.730591e+03</td>\n",
       "    </tr>\n",
       "    <tr>\n",
       "      <th>2015-08-31</th>\n",
       "      <td>251.933226</td>\n",
       "      <td>247.703871</td>\n",
       "      <td>234.278214</td>\n",
       "      <td>268.596774</td>\n",
       "      <td>234.833333</td>\n",
       "      <td>236.153548</td>\n",
       "      <td>237.388667</td>\n",
       "      <td>279.595484</td>\n",
       "      <td>5.431845e+06</td>\n",
       "      <td>1.906693e+06</td>\n",
       "      <td>...</td>\n",
       "      <td>1.402679e+06</td>\n",
       "      <td>1.854247e+06</td>\n",
       "      <td>3.533811e+06</td>\n",
       "      <td>2.355429e+04</td>\n",
       "      <td>8.128419e+03</td>\n",
       "      <td>9.173154e+03</td>\n",
       "      <td>8.416993e+03</td>\n",
       "      <td>5.933034e+03</td>\n",
       "      <td>7.730591e+03</td>\n",
       "      <td>1.260323e+04</td>\n",
       "    </tr>\n",
       "    <tr>\n",
       "      <th>2015-09-30</th>\n",
       "      <td>233.346333</td>\n",
       "      <td>234.278214</td>\n",
       "      <td>268.596774</td>\n",
       "      <td>234.833333</td>\n",
       "      <td>236.153548</td>\n",
       "      <td>237.388667</td>\n",
       "      <td>279.595484</td>\n",
       "      <td>251.933226</td>\n",
       "      <td>1.906693e+06</td>\n",
       "      <td>2.456041e+06</td>\n",
       "      <td>...</td>\n",
       "      <td>1.854247e+06</td>\n",
       "      <td>3.533811e+06</td>\n",
       "      <td>3.098454e+06</td>\n",
       "      <td>8.128419e+03</td>\n",
       "      <td>9.173154e+03</td>\n",
       "      <td>8.416993e+03</td>\n",
       "      <td>5.933034e+03</td>\n",
       "      <td>7.730591e+03</td>\n",
       "      <td>1.260323e+04</td>\n",
       "      <td>1.292393e+04</td>\n",
       "    </tr>\n",
       "    <tr>\n",
       "      <th>2015-10-31</th>\n",
       "      <td>265.234194</td>\n",
       "      <td>268.596774</td>\n",
       "      <td>234.833333</td>\n",
       "      <td>236.153548</td>\n",
       "      <td>237.388667</td>\n",
       "      <td>279.595484</td>\n",
       "      <td>251.933226</td>\n",
       "      <td>233.346333</td>\n",
       "      <td>2.456041e+06</td>\n",
       "      <td>1.957545e+06</td>\n",
       "      <td>...</td>\n",
       "      <td>3.533811e+06</td>\n",
       "      <td>3.098454e+06</td>\n",
       "      <td>4.342468e+06</td>\n",
       "      <td>9.173154e+03</td>\n",
       "      <td>8.416993e+03</td>\n",
       "      <td>5.933034e+03</td>\n",
       "      <td>7.730591e+03</td>\n",
       "      <td>1.260323e+04</td>\n",
       "      <td>1.292393e+04</td>\n",
       "      <td>1.857822e+04</td>\n",
       "    </tr>\n",
       "    <tr>\n",
       "      <th>...</th>\n",
       "      <td>...</td>\n",
       "      <td>...</td>\n",
       "      <td>...</td>\n",
       "      <td>...</td>\n",
       "      <td>...</td>\n",
       "      <td>...</td>\n",
       "      <td>...</td>\n",
       "      <td>...</td>\n",
       "      <td>...</td>\n",
       "      <td>...</td>\n",
       "      <td>...</td>\n",
       "      <td>...</td>\n",
       "      <td>...</td>\n",
       "      <td>...</td>\n",
       "      <td>...</td>\n",
       "      <td>...</td>\n",
       "      <td>...</td>\n",
       "      <td>...</td>\n",
       "      <td>...</td>\n",
       "      <td>...</td>\n",
       "      <td>...</td>\n",
       "    </tr>\n",
       "    <tr>\n",
       "      <th>2021-11-30</th>\n",
       "      <td>60705.494000</td>\n",
       "      <td>57098.524000</td>\n",
       "      <td>46456.518387</td>\n",
       "      <td>35843.433667</td>\n",
       "      <td>34449.033226</td>\n",
       "      <td>45705.102903</td>\n",
       "      <td>45947.265333</td>\n",
       "      <td>57917.162581</td>\n",
       "      <td>4.654120e+03</td>\n",
       "      <td>6.766189e+03</td>\n",
       "      <td>...</td>\n",
       "      <td>2.599877e+03</td>\n",
       "      <td>2.328079e+03</td>\n",
       "      <td>2.554336e+03</td>\n",
       "      <td>2.630359e+08</td>\n",
       "      <td>2.949962e+08</td>\n",
       "      <td>1.710701e+08</td>\n",
       "      <td>9.029344e+07</td>\n",
       "      <td>1.169816e+08</td>\n",
       "      <td>1.055430e+08</td>\n",
       "      <td>1.490666e+08</td>\n",
       "    </tr>\n",
       "    <tr>\n",
       "      <th>2021-12-31</th>\n",
       "      <td>49328.349032</td>\n",
       "      <td>46456.518387</td>\n",
       "      <td>35843.433667</td>\n",
       "      <td>34449.033226</td>\n",
       "      <td>45705.102903</td>\n",
       "      <td>45947.265333</td>\n",
       "      <td>57917.162581</td>\n",
       "      <td>60705.494000</td>\n",
       "      <td>6.766189e+03</td>\n",
       "      <td>4.807447e+03</td>\n",
       "      <td>...</td>\n",
       "      <td>2.328079e+03</td>\n",
       "      <td>2.554336e+03</td>\n",
       "      <td>2.406693e+03</td>\n",
       "      <td>2.949962e+08</td>\n",
       "      <td>1.710701e+08</td>\n",
       "      <td>9.029344e+07</td>\n",
       "      <td>1.169816e+08</td>\n",
       "      <td>1.055430e+08</td>\n",
       "      <td>1.490666e+08</td>\n",
       "      <td>1.447363e+08</td>\n",
       "    </tr>\n",
       "    <tr>\n",
       "      <th>2022-01-31</th>\n",
       "      <td>41111.849677</td>\n",
       "      <td>35843.433667</td>\n",
       "      <td>34449.033226</td>\n",
       "      <td>45705.102903</td>\n",
       "      <td>45947.265333</td>\n",
       "      <td>57917.162581</td>\n",
       "      <td>60705.494000</td>\n",
       "      <td>49328.349032</td>\n",
       "      <td>4.807447e+03</td>\n",
       "      <td>2.579614e+03</td>\n",
       "      <td>...</td>\n",
       "      <td>2.554336e+03</td>\n",
       "      <td>2.406693e+03</td>\n",
       "      <td>2.319238e+03</td>\n",
       "      <td>1.710701e+08</td>\n",
       "      <td>9.029344e+07</td>\n",
       "      <td>1.169816e+08</td>\n",
       "      <td>1.055430e+08</td>\n",
       "      <td>1.490666e+08</td>\n",
       "      <td>1.447363e+08</td>\n",
       "      <td>1.147267e+08</td>\n",
       "    </tr>\n",
       "    <tr>\n",
       "      <th>2022-02-28</th>\n",
       "      <td>40763.182143</td>\n",
       "      <td>34449.033226</td>\n",
       "      <td>45705.102903</td>\n",
       "      <td>45947.265333</td>\n",
       "      <td>57917.162581</td>\n",
       "      <td>60705.494000</td>\n",
       "      <td>49328.349032</td>\n",
       "      <td>41111.849677</td>\n",
       "      <td>2.579614e+03</td>\n",
       "      <td>2.599877e+03</td>\n",
       "      <td>...</td>\n",
       "      <td>2.406693e+03</td>\n",
       "      <td>2.319238e+03</td>\n",
       "      <td>2.318621e+03</td>\n",
       "      <td>9.029344e+07</td>\n",
       "      <td>1.169816e+08</td>\n",
       "      <td>1.055430e+08</td>\n",
       "      <td>1.490666e+08</td>\n",
       "      <td>1.447363e+08</td>\n",
       "      <td>1.147267e+08</td>\n",
       "      <td>9.244537e+07</td>\n",
       "    </tr>\n",
       "    <tr>\n",
       "      <th>2022-03-31</th>\n",
       "      <td>43185.480000</td>\n",
       "      <td>45705.102903</td>\n",
       "      <td>45947.265333</td>\n",
       "      <td>57917.162581</td>\n",
       "      <td>60705.494000</td>\n",
       "      <td>49328.349032</td>\n",
       "      <td>41111.849677</td>\n",
       "      <td>40763.182143</td>\n",
       "      <td>2.599877e+03</td>\n",
       "      <td>2.328079e+03</td>\n",
       "      <td>...</td>\n",
       "      <td>2.319238e+03</td>\n",
       "      <td>2.318621e+03</td>\n",
       "      <td>2.070851e+03</td>\n",
       "      <td>1.169816e+08</td>\n",
       "      <td>1.055430e+08</td>\n",
       "      <td>1.490666e+08</td>\n",
       "      <td>1.447363e+08</td>\n",
       "      <td>1.147267e+08</td>\n",
       "      <td>9.244537e+07</td>\n",
       "      <td>8.405792e+07</td>\n",
       "    </tr>\n",
       "  </tbody>\n",
       "</table>\n",
       "<p>82 rows × 22 columns</p>\n",
       "</div>"
      ]
     },
     "execution_count": 191,
     "metadata": {},
     "output_type": "execute_result"
    }
   ],
   "execution_count": 191
  },
  {
   "metadata": {
    "ExecuteTime": {
     "end_time": "2025-01-19T00:25:53.292138Z",
     "start_time": "2025-01-19T00:25:53.181137Z"
    }
   },
   "cell_type": "code",
   "source": "x_1, y_1 = get_x_and_y(df_grouped_2, \"close\")",
   "outputs": [],
   "execution_count": 192
  },
  {
   "metadata": {
    "ExecuteTime": {
     "end_time": "2025-01-19T00:25:53.926774Z",
     "start_time": "2025-01-19T00:25:53.863374Z"
    }
   },
   "cell_type": "code",
   "source": "x_train_1, x_test_1, y_train_1, y_test_1 = train_test_split(x_1, y_1, test_size=0.2, shuffle=False)",
   "outputs": [],
   "execution_count": 193
  },
  {
   "metadata": {
    "ExecuteTime": {
     "end_time": "2025-01-19T00:25:54.430621Z",
     "start_time": "2025-01-19T00:25:54.373698Z"
    }
   },
   "cell_type": "code",
   "source": [
    "scaler = MinMaxScaler()\n",
    "x_train_scaled_1 = scaler.fit_transform(x_train_1)\n",
    "x_test_scaled_1 = scaler.transform(x_test_1)"
   ],
   "outputs": [],
   "execution_count": 194
  },
  {
   "metadata": {
    "ExecuteTime": {
     "end_time": "2025-01-19T00:25:54.957638Z",
     "start_time": "2025-01-19T00:25:54.904822Z"
    }
   },
   "cell_type": "code",
   "source": [
    "y_scaled_1 = MinMaxScaler()\n",
    "y_train_scaled_1 = y_scaled_1.fit_transform(y_train_1.to_numpy().reshape(-1, 1))"
   ],
   "outputs": [],
   "execution_count": 195
  },
  {
   "metadata": {
    "ExecuteTime": {
     "end_time": "2025-01-19T00:25:55.572378Z",
     "start_time": "2025-01-19T00:25:55.467725Z"
    }
   },
   "cell_type": "code",
   "source": [
    "\n",
    "lag = 7\n",
    "x_train_scaled_shaped_1 = x_train_scaled_1.reshape(x_train_scaled_1.shape[0], lag, (x_train_scaled_1.shape[1] // lag))\n",
    "x_test_scaled_shaped_1 = x_test_scaled_1.reshape(x_test_scaled_1.shape[0], lag, (x_test_scaled_1.shape[1] // lag))\n",
    "x_train_scaled_shaped_1.shape"
   ],
   "outputs": [
    {
     "data": {
      "text/plain": [
       "(65, 7, 3)"
      ]
     },
     "execution_count": 196,
     "metadata": {},
     "output_type": "execute_result"
    }
   ],
   "execution_count": 196
  },
  {
   "metadata": {
    "ExecuteTime": {
     "end_time": "2025-01-19T00:39:20.216210Z",
     "start_time": "2025-01-19T00:39:20.087682Z"
    }
   },
   "cell_type": "code",
   "source": [
    "model_1 = Sequential([\n",
    "    Input((x_train_scaled_shaped_1.shape[1], x_train_scaled_shaped_1.shape[2],)),\n",
    "    LSTM(4, activation=\"relu\", return_sequences=True),\n",
    "    # LSTM(32, activation=\"relu\", return_sequences=True),\n",
    "    # LSTM(16, activation=\"relu\", return_sequences=True),\n",
    "    LSTM(2, activation=\"relu\", return_sequences=False),\n",
    "    # LSTM(16, activation=\"relu\", return_sequences=False),\n",
    "    Dense(1, activation=\"linear\")\n",
    "])"
   ],
   "outputs": [],
   "execution_count": 245
  },
  {
   "metadata": {
    "ExecuteTime": {
     "end_time": "2025-01-19T00:39:20.596902Z",
     "start_time": "2025-01-19T00:39:20.486808Z"
    }
   },
   "cell_type": "code",
   "source": [
    "model_1.summary()\n",
    "model_1.compile(\n",
    "    loss=\"mean_squared_error\",\n",
    "    optimizer=\"adam\",\n",
    "    metrics=[\"mean_squared_error\"],\n",
    ")"
   ],
   "outputs": [
    {
     "data": {
      "text/plain": [
       "\u001B[1mModel: \"sequential_25\"\u001B[0m\n"
      ],
      "text/html": [
       "<pre style=\"white-space:pre;overflow-x:auto;line-height:normal;font-family:Menlo,'DejaVu Sans Mono',consolas,'Courier New',monospace\"><span style=\"font-weight: bold\">Model: \"sequential_25\"</span>\n",
       "</pre>\n"
      ]
     },
     "metadata": {},
     "output_type": "display_data"
    },
    {
     "data": {
      "text/plain": [
       "┏━━━━━━━━━━━━━━━━━━━━━━━━━━━━━━━━━┳━━━━━━━━━━━━━━━━━━━━━━━━┳━━━━━━━━━━━━━━━┓\n",
       "┃\u001B[1m \u001B[0m\u001B[1mLayer (type)                   \u001B[0m\u001B[1m \u001B[0m┃\u001B[1m \u001B[0m\u001B[1mOutput Shape          \u001B[0m\u001B[1m \u001B[0m┃\u001B[1m \u001B[0m\u001B[1m      Param #\u001B[0m\u001B[1m \u001B[0m┃\n",
       "┡━━━━━━━━━━━━━━━━━━━━━━━━━━━━━━━━━╇━━━━━━━━━━━━━━━━━━━━━━━━╇━━━━━━━━━━━━━━━┩\n",
       "│ lstm_66 (\u001B[38;5;33mLSTM\u001B[0m)                  │ (\u001B[38;5;45mNone\u001B[0m, \u001B[38;5;34m7\u001B[0m, \u001B[38;5;34m4\u001B[0m)           │           \u001B[38;5;34m128\u001B[0m │\n",
       "├─────────────────────────────────┼────────────────────────┼───────────────┤\n",
       "│ lstm_67 (\u001B[38;5;33mLSTM\u001B[0m)                  │ (\u001B[38;5;45mNone\u001B[0m, \u001B[38;5;34m2\u001B[0m)              │            \u001B[38;5;34m56\u001B[0m │\n",
       "├─────────────────────────────────┼────────────────────────┼───────────────┤\n",
       "│ dense_25 (\u001B[38;5;33mDense\u001B[0m)                │ (\u001B[38;5;45mNone\u001B[0m, \u001B[38;5;34m1\u001B[0m)              │             \u001B[38;5;34m3\u001B[0m │\n",
       "└─────────────────────────────────┴────────────────────────┴───────────────┘\n"
      ],
      "text/html": [
       "<pre style=\"white-space:pre;overflow-x:auto;line-height:normal;font-family:Menlo,'DejaVu Sans Mono',consolas,'Courier New',monospace\">┏━━━━━━━━━━━━━━━━━━━━━━━━━━━━━━━━━┳━━━━━━━━━━━━━━━━━━━━━━━━┳━━━━━━━━━━━━━━━┓\n",
       "┃<span style=\"font-weight: bold\"> Layer (type)                    </span>┃<span style=\"font-weight: bold\"> Output Shape           </span>┃<span style=\"font-weight: bold\">       Param # </span>┃\n",
       "┡━━━━━━━━━━━━━━━━━━━━━━━━━━━━━━━━━╇━━━━━━━━━━━━━━━━━━━━━━━━╇━━━━━━━━━━━━━━━┩\n",
       "│ lstm_66 (<span style=\"color: #0087ff; text-decoration-color: #0087ff\">LSTM</span>)                  │ (<span style=\"color: #00d7ff; text-decoration-color: #00d7ff\">None</span>, <span style=\"color: #00af00; text-decoration-color: #00af00\">7</span>, <span style=\"color: #00af00; text-decoration-color: #00af00\">4</span>)           │           <span style=\"color: #00af00; text-decoration-color: #00af00\">128</span> │\n",
       "├─────────────────────────────────┼────────────────────────┼───────────────┤\n",
       "│ lstm_67 (<span style=\"color: #0087ff; text-decoration-color: #0087ff\">LSTM</span>)                  │ (<span style=\"color: #00d7ff; text-decoration-color: #00d7ff\">None</span>, <span style=\"color: #00af00; text-decoration-color: #00af00\">2</span>)              │            <span style=\"color: #00af00; text-decoration-color: #00af00\">56</span> │\n",
       "├─────────────────────────────────┼────────────────────────┼───────────────┤\n",
       "│ dense_25 (<span style=\"color: #0087ff; text-decoration-color: #0087ff\">Dense</span>)                │ (<span style=\"color: #00d7ff; text-decoration-color: #00d7ff\">None</span>, <span style=\"color: #00af00; text-decoration-color: #00af00\">1</span>)              │             <span style=\"color: #00af00; text-decoration-color: #00af00\">3</span> │\n",
       "└─────────────────────────────────┴────────────────────────┴───────────────┘\n",
       "</pre>\n"
      ]
     },
     "metadata": {},
     "output_type": "display_data"
    },
    {
     "data": {
      "text/plain": [
       "\u001B[1m Total params: \u001B[0m\u001B[38;5;34m187\u001B[0m (748.00 B)\n"
      ],
      "text/html": [
       "<pre style=\"white-space:pre;overflow-x:auto;line-height:normal;font-family:Menlo,'DejaVu Sans Mono',consolas,'Courier New',monospace\"><span style=\"font-weight: bold\"> Total params: </span><span style=\"color: #00af00; text-decoration-color: #00af00\">187</span> (748.00 B)\n",
       "</pre>\n"
      ]
     },
     "metadata": {},
     "output_type": "display_data"
    },
    {
     "data": {
      "text/plain": [
       "\u001B[1m Trainable params: \u001B[0m\u001B[38;5;34m187\u001B[0m (748.00 B)\n"
      ],
      "text/html": [
       "<pre style=\"white-space:pre;overflow-x:auto;line-height:normal;font-family:Menlo,'DejaVu Sans Mono',consolas,'Courier New',monospace\"><span style=\"font-weight: bold\"> Trainable params: </span><span style=\"color: #00af00; text-decoration-color: #00af00\">187</span> (748.00 B)\n",
       "</pre>\n"
      ]
     },
     "metadata": {},
     "output_type": "display_data"
    },
    {
     "data": {
      "text/plain": [
       "\u001B[1m Non-trainable params: \u001B[0m\u001B[38;5;34m0\u001B[0m (0.00 B)\n"
      ],
      "text/html": [
       "<pre style=\"white-space:pre;overflow-x:auto;line-height:normal;font-family:Menlo,'DejaVu Sans Mono',consolas,'Courier New',monospace\"><span style=\"font-weight: bold\"> Non-trainable params: </span><span style=\"color: #00af00; text-decoration-color: #00af00\">0</span> (0.00 B)\n",
       "</pre>\n"
      ]
     },
     "metadata": {},
     "output_type": "display_data"
    }
   ],
   "execution_count": 246
  },
  {
   "metadata": {
    "ExecuteTime": {
     "end_time": "2025-01-19T00:39:29.429055Z",
     "start_time": "2025-01-19T00:39:22.236166Z"
    }
   },
   "cell_type": "code",
   "source": [
    "history = model_1.fit(x_train_scaled_shaped_1, y_train_scaled_1, validation_split=0.1, epochs=16, batch_size=65,\n",
    "                    shuffle=False)"
   ],
   "outputs": [
    {
     "name": "stdout",
     "output_type": "stream",
     "text": [
      "Epoch 1/16\n",
      "\u001B[1m1/1\u001B[0m \u001B[32m━━━━━━━━━━━━━━━━━━━━\u001B[0m\u001B[37m\u001B[0m \u001B[1m5s\u001B[0m 5s/step - loss: 0.2660 - mean_squared_error: 0.2660 - val_loss: 0.7154 - val_mean_squared_error: 0.7154\n",
      "Epoch 2/16\n",
      "\u001B[1m1/1\u001B[0m \u001B[32m━━━━━━━━━━━━━━━━━━━━\u001B[0m\u001B[37m\u001B[0m \u001B[1m0s\u001B[0m 140ms/step - loss: 0.2597 - mean_squared_error: 0.2597 - val_loss: 0.7012 - val_mean_squared_error: 0.7012\n",
      "Epoch 3/16\n",
      "\u001B[1m1/1\u001B[0m \u001B[32m━━━━━━━━━━━━━━━━━━━━\u001B[0m\u001B[37m\u001B[0m \u001B[1m0s\u001B[0m 146ms/step - loss: 0.2536 - mean_squared_error: 0.2536 - val_loss: 0.6873 - val_mean_squared_error: 0.6873\n",
      "Epoch 4/16\n",
      "\u001B[1m1/1\u001B[0m \u001B[32m━━━━━━━━━━━━━━━━━━━━\u001B[0m\u001B[37m\u001B[0m \u001B[1m0s\u001B[0m 156ms/step - loss: 0.2477 - mean_squared_error: 0.2477 - val_loss: 0.6738 - val_mean_squared_error: 0.6738\n",
      "Epoch 5/16\n",
      "\u001B[1m1/1\u001B[0m \u001B[32m━━━━━━━━━━━━━━━━━━━━\u001B[0m\u001B[37m\u001B[0m \u001B[1m0s\u001B[0m 184ms/step - loss: 0.2420 - mean_squared_error: 0.2420 - val_loss: 0.6608 - val_mean_squared_error: 0.6608\n",
      "Epoch 6/16\n",
      "\u001B[1m1/1\u001B[0m \u001B[32m━━━━━━━━━━━━━━━━━━━━\u001B[0m\u001B[37m\u001B[0m \u001B[1m0s\u001B[0m 155ms/step - loss: 0.2364 - mean_squared_error: 0.2364 - val_loss: 0.6480 - val_mean_squared_error: 0.6480\n",
      "Epoch 7/16\n",
      "\u001B[1m1/1\u001B[0m \u001B[32m━━━━━━━━━━━━━━━━━━━━\u001B[0m\u001B[37m\u001B[0m \u001B[1m0s\u001B[0m 154ms/step - loss: 0.2311 - mean_squared_error: 0.2311 - val_loss: 0.6357 - val_mean_squared_error: 0.6357\n",
      "Epoch 8/16\n",
      "\u001B[1m1/1\u001B[0m \u001B[32m━━━━━━━━━━━━━━━━━━━━\u001B[0m\u001B[37m\u001B[0m \u001B[1m0s\u001B[0m 154ms/step - loss: 0.2259 - mean_squared_error: 0.2259 - val_loss: 0.6236 - val_mean_squared_error: 0.6236\n",
      "Epoch 9/16\n",
      "\u001B[1m1/1\u001B[0m \u001B[32m━━━━━━━━━━━━━━━━━━━━\u001B[0m\u001B[37m\u001B[0m \u001B[1m0s\u001B[0m 171ms/step - loss: 0.2209 - mean_squared_error: 0.2209 - val_loss: 0.6119 - val_mean_squared_error: 0.6119\n",
      "Epoch 10/16\n",
      "\u001B[1m1/1\u001B[0m \u001B[32m━━━━━━━━━━━━━━━━━━━━\u001B[0m\u001B[37m\u001B[0m \u001B[1m0s\u001B[0m 156ms/step - loss: 0.2161 - mean_squared_error: 0.2161 - val_loss: 0.6005 - val_mean_squared_error: 0.6005\n",
      "Epoch 11/16\n",
      "\u001B[1m1/1\u001B[0m \u001B[32m━━━━━━━━━━━━━━━━━━━━\u001B[0m\u001B[37m\u001B[0m \u001B[1m0s\u001B[0m 144ms/step - loss: 0.2114 - mean_squared_error: 0.2114 - val_loss: 0.5894 - val_mean_squared_error: 0.5894\n",
      "Epoch 12/16\n",
      "\u001B[1m1/1\u001B[0m \u001B[32m━━━━━━━━━━━━━━━━━━━━\u001B[0m\u001B[37m\u001B[0m \u001B[1m0s\u001B[0m 151ms/step - loss: 0.2069 - mean_squared_error: 0.2069 - val_loss: 0.5786 - val_mean_squared_error: 0.5786\n",
      "Epoch 13/16\n",
      "\u001B[1m1/1\u001B[0m \u001B[32m━━━━━━━━━━━━━━━━━━━━\u001B[0m\u001B[37m\u001B[0m \u001B[1m0s\u001B[0m 152ms/step - loss: 0.2025 - mean_squared_error: 0.2025 - val_loss: 0.5681 - val_mean_squared_error: 0.5681\n",
      "Epoch 14/16\n",
      "\u001B[1m1/1\u001B[0m \u001B[32m━━━━━━━━━━━━━━━━━━━━\u001B[0m\u001B[37m\u001B[0m \u001B[1m0s\u001B[0m 146ms/step - loss: 0.1982 - mean_squared_error: 0.1982 - val_loss: 0.5579 - val_mean_squared_error: 0.5579\n",
      "Epoch 15/16\n",
      "\u001B[1m1/1\u001B[0m \u001B[32m━━━━━━━━━━━━━━━━━━━━\u001B[0m\u001B[37m\u001B[0m \u001B[1m0s\u001B[0m 138ms/step - loss: 0.1941 - mean_squared_error: 0.1941 - val_loss: 0.5478 - val_mean_squared_error: 0.5478\n",
      "Epoch 16/16\n",
      "\u001B[1m1/1\u001B[0m \u001B[32m━━━━━━━━━━━━━━━━━━━━\u001B[0m\u001B[37m\u001B[0m \u001B[1m0s\u001B[0m 144ms/step - loss: 0.1901 - mean_squared_error: 0.1901 - val_loss: 0.5380 - val_mean_squared_error: 0.5380\n"
     ]
    }
   ],
   "execution_count": 247
  },
  {
   "metadata": {
    "ExecuteTime": {
     "end_time": "2025-01-19T00:39:31.487510Z",
     "start_time": "2025-01-19T00:39:31.130540Z"
    }
   },
   "cell_type": "code",
   "source": [
    "sns.lineplot(history.history[\"loss\"], label=\"loss\")\n",
    "sns.lineplot(history.history[\"val_loss\"], label=\"val_loss\")"
   ],
   "outputs": [
    {
     "data": {
      "text/plain": [
       "<Axes: >"
      ]
     },
     "execution_count": 248,
     "metadata": {},
     "output_type": "execute_result"
    },
    {
     "data": {
      "text/plain": [
       "<Figure size 640x480 with 1 Axes>"
      ],
      "image/png": "[encoded data removed]"
     },
     "metadata": {},
     "output_type": "display_data"
    }
   ],
   "execution_count": 248
  },
  {
   "metadata": {
    "ExecuteTime": {
     "end_time": "2025-01-19T00:39:33.908120Z",
     "start_time": "2025-01-19T00:39:33.544794Z"
    }
   },
   "cell_type": "code",
   "source": [
    "pred_y_1 = model_1.predict(x_test_scaled_shaped_1)\n",
    "pred_y_scaled_1 = y_scaled.inverse_transform(pred_y_1)"
   ],
   "outputs": [
    {
     "name": "stdout",
     "output_type": "stream",
     "text": [
      "\u001B[1m1/1\u001B[0m \u001B[32m━━━━━━━━━━━━━━━━━━━━\u001B[0m\u001B[37m\u001B[0m \u001B[1m0s\u001B[0m 252ms/step\n"
     ]
    }
   ],
   "execution_count": 249
  },
  {
   "metadata": {
    "ExecuteTime": {
     "end_time": "2025-01-19T00:34:20.696107Z",
     "start_time": "2025-01-19T00:34:20.586947Z"
    }
   },
   "cell_type": "code",
   "source": "r2_score(y_test_1, pred_y_scaled_1)",
   "outputs": [
    {
     "data": {
      "text/plain": [
       "-10.299831797258895"
      ]
     },
     "execution_count": 243,
     "metadata": {},
     "output_type": "execute_result"
    }
   ],
   "execution_count": 243
  },
  {
   "cell_type": "markdown",
   "metadata": {},
   "source": [
    "Create an LSTM model to predict the 'close' price on a montly frequency."
   ]
  },
  {
   "cell_type": "code",
   "metadata": {
    "ExecuteTime": {
     "end_time": "2025-01-19T00:10:54.487211Z",
     "start_time": "2025-01-19T00:10:54.481440Z"
    }
   },
   "source": [],
   "outputs": [],
   "execution_count": 137
  }
 ],
 "metadata": {
  "colab": {
   "provenance": []
  },
  "kernelspec": {
   "display_name": "Python 3 (ipykernel)",
   "name": "python3",
   "language": "python"
  },
  "language_info": {
   "name": "python"
  }
 },
 "nbformat": 4,
 "nbformat_minor": 0
}
